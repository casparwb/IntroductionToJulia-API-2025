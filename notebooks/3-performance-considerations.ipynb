{
 "cells": [
  {
   "cell_type": "markdown",
   "metadata": {},
   "source": [
    "# Basic performance considerations"
   ]
  },
  {
   "cell_type": "markdown",
   "metadata": {},
   "source": [
    "## Type stability"
   ]
  },
  {
   "cell_type": "markdown",
   "metadata": {},
   "source": [
    "Julia matches the performance of C/Fortran not because of better hardware or better compilers than e.g., Python uses, but because of design. Julia is interactive like Python, but it is not an interpreted language, it is a **compiled** one. This means that **every function call in Julia first gets compiled, based on the exact input types**. Then it is executed.\n",
    "\n",
    "*(this compilation only happens once for each unique combination of input types)*\n",
    "\n",
    "When the compiler compiles a function, these types of every variable can be tracked throughout the function and all datastructures are mapped uniquely and deterministically all the way from input to output. This allows the compiler to make all the optimizations that e.g. the compilation of a C language code would do. And this (in a nutshell) is what results in the same performance as C/Fortran.\n",
    "\n",
    "This tracking of types mentioned above only works if **the type of every variable remains the same type throughout the function's operations**. Notice the distinction: the _type_ (i.e. all floating point variables remain floats) is constant, but of course the _value_ could change (i.e. going from `515134.515` to `123415.242` is fine).\n",
    "\n",
    "What if this doesn't happen? Then we have the case of **Type instability**, which is what makes beginner's code slow in 99% of the cases. \n",
    "\n",
    "Let's look at the following illustrative scenario:"
   ]
  },
  {
   "cell_type": "code",
   "execution_count": null,
   "metadata": {},
   "outputs": [],
   "source": [
    "import Pkg\n",
    "Pkg.activate(joinpath(@__DIR__, \"..\"))\n",
    "using BenchmarkTools"
   ]
  },
  {
   "cell_type": "code",
   "execution_count": null,
   "metadata": {},
   "outputs": [],
   "source": [
    "@noinline function mymax(init, x)\n",
    "    s = init\n",
    "    for xi in x\n",
    "        s = s < xi ? xi : s\n",
    "    end\n",
    "    return s\n",
    "end\n",
    "\n",
    "# benchmark it\n",
    "using BenchmarkTools: @btime\n",
    "r = rand(Int, 1000);\n",
    "@btime mymax(-Inf32, $r);"
   ]
  },
  {
   "cell_type": "code",
   "execution_count": null,
   "metadata": {},
   "outputs": [],
   "source": [
    "@btime mymax(-Inf, $r);"
   ]
  },
  {
   "cell_type": "code",
   "execution_count": null,
   "metadata": {},
   "outputs": [],
   "source": [
    "@btime mymax(typemin(Int), $r);"
   ]
  },
  {
   "cell_type": "markdown",
   "metadata": {},
   "source": [
    "`mymax` is a **type-unstable function**, which means it has suboptimal performance. \n",
    "\n",
    "you can see this by using the `@code_warntype` macro"
   ]
  },
  {
   "cell_type": "code",
   "execution_count": null,
   "metadata": {},
   "outputs": [],
   "source": [
    "@code_warntype mymax(-Inf, r)"
   ]
  },
  {
   "cell_type": "markdown",
   "metadata": {},
   "source": [
    "If you don't understand this text, no worries: what you care is that red text means bad type instability, and yellow means type instability that may or may not matter for performance. Whenever a `for` loop is involved there will one yellow line per `for` loop with a `Union` type including `Nothing`. You can ignore this and focus on all other yellow or red colors."
   ]
  },
  {
   "cell_type": "markdown",
   "metadata": {},
   "source": [
    "This type instability problem is rather mild here due to the trivial contrived example. It becomes much, much worse if the instability happens in more than one variable, if the instability happens with more than 2 types, or if the types involved in the instability are much more complicated. \n",
    "\n",
    "For example, it can become particularly bad once the type instability involves functions."
   ]
  },
  {
   "cell_type": "code",
   "execution_count": null,
   "metadata": {},
   "outputs": [],
   "source": [
    "function add_funs(x, F)\n",
    "    F[1](x) + F[2](x)\n",
    "end\n",
    "\n",
    "F1 = [sin, cos]\n",
    "F2 = (sin, cos)\n",
    "\n",
    "@btime add_funs(1.0, $F1)\n",
    "@btime add_funs(1.0, $F2);"
   ]
  },
  {
   "cell_type": "code",
   "execution_count": null,
   "metadata": {},
   "outputs": [],
   "source": [
    "@code_warntype add_funs(1.0, F1)"
   ]
  },
  {
   "cell_type": "markdown",
   "metadata": {},
   "source": [
    "This happens because functions are their own types:"
   ]
  },
  {
   "cell_type": "code",
   "execution_count": null,
   "metadata": {},
   "outputs": [],
   "source": [
    "typeof(cos)"
   ]
  },
  {
   "cell_type": "markdown",
   "metadata": {},
   "source": [
    "and wrapping them in a vector creates a vector of their super type:"
   ]
  },
  {
   "cell_type": "code",
   "execution_count": null,
   "metadata": {},
   "outputs": [],
   "source": [
    "typeof([sin, cos])"
   ]
  },
  {
   "cell_type": "markdown",
   "metadata": {},
   "source": [
    "while the tuple retains the individual types"
   ]
  },
  {
   "cell_type": "code",
   "execution_count": null,
   "metadata": {},
   "outputs": [],
   "source": [
    "typeof((sin, cos))"
   ]
  },
  {
   "cell_type": "markdown",
   "metadata": {},
   "source": [
    "### Scopes\n",
    "\n",
    "In general Julia has two scopes: global scope (the one we use here, in this notebook) and local scope. Local scope is introduced by most code blocks, e.g. functions, `for` or `while` loops but *not* from conditional code blocks (`if`). The details of the scopes are mostly relevant for package development and can be found in the [Julia manual](https://docs.julialang.org/en/latest/manual/variables-and-scoping/). \n",
    "\n",
    "What is important for us is that by definition, **everything in global scope is type-unstable** and thus not performant. This happens because Julia is not a statically typed language, but a dynamically typed one. Therefore one can do"
   ]
  },
  {
   "cell_type": "code",
   "execution_count": null,
   "metadata": {},
   "outputs": [],
   "source": [
    "x = 5\n",
    "x = \"string\""
   ]
  },
  {
   "cell_type": "markdown",
   "metadata": {},
   "source": [
    "which is not possible in e.g. C.\n",
    "\n",
    "The performance that global scope has in code is truly massive. Here are some global evaluations of some code"
   ]
  },
  {
   "cell_type": "code",
   "execution_count": null,
   "metadata": {},
   "outputs": [],
   "source": [
    "x, y = rand(1000), rand(1000)\n",
    "a = 0.0\n",
    "@btime for i in 1:length(x)\n",
    "    global a += x[i]^2 + y[i]^2\n",
    "end"
   ]
  },
  {
   "cell_type": "markdown",
   "metadata": {},
   "source": [
    "and here are essentially the same operations but done within a function:"
   ]
  },
  {
   "cell_type": "code",
   "execution_count": null,
   "metadata": {},
   "outputs": [],
   "source": [
    "function localf(x, y)\n",
    "    a = zero(eltype(x))\n",
    "    for i in 1:length(x)\n",
    "        a += x[i]^2 + y[i]^2\n",
    "    end\n",
    "    return a\n",
    "end\n",
    "\n",
    "@btime localf(x, y);"
   ]
  },
  {
   "cell_type": "markdown",
   "metadata": {},
   "source": [
    "This is more than a 170x slowdown!!!"
   ]
  },
  {
   "cell_type": "markdown",
   "metadata": {},
   "source": [
    "### Conclusions so far\n",
    "\n",
    "1. **Put all performance critical parts of your code inside a function** to avoid global scope\n",
    "2. **Ensure that your functions are type-stable**, meaning that the types of the variables inside the function do not change. The macro `@code_warntype` can help with that!"
   ]
  },
  {
   "cell_type": "markdown",
   "metadata": {},
   "source": [
    "## Allocation of mutable containers"
   ]
  },
  {
   "cell_type": "markdown",
   "metadata": {},
   "source": [
    "Another thing that is important for performance is allocation. What must be understood is that when one writes"
   ]
  },
  {
   "cell_type": "code",
   "execution_count": null,
   "metadata": {},
   "outputs": [],
   "source": [
    "x = rand(2, 2)"
   ]
  },
  {
   "cell_type": "markdown",
   "metadata": {},
   "source": [
    "or "
   ]
  },
  {
   "cell_type": "code",
   "execution_count": null,
   "metadata": {},
   "outputs": [],
   "source": [
    "y = x[1, :]"
   ]
  },
  {
   "cell_type": "markdown",
   "metadata": {},
   "source": [
    "this *allocates* some part of your memory to store this **mutable** container that `x` or `y` represents. Creating mutable things always allocates memory. In general when you are creating something mutable you always pay two costs:\n",
    "\n",
    "1. the cost to actually calculate the numbers that go into this thing (here e.g. the cost of calling `rand()`)\n",
    "2. the cost to allocate some memory to store 1000 numbers of type `Float64`.\n",
    "\n",
    "In general you should try to avoid allocations, by more clever design of your algorithms and pre-allocating as much as possible, as is instructed by this section of [Julia's performance tips](https://docs.julialang.org/en/latest/manual/performance-tips/#Pre-allocating-outputs-1)."
   ]
  },
  {
   "cell_type": "markdown",
   "metadata": {},
   "source": [
    "### Example: using `mul!` and `view` to make a non-allocating function"
   ]
  },
  {
   "cell_type": "markdown",
   "metadata": {},
   "source": [
    "Let's have a look at the following function"
   ]
  },
  {
   "cell_type": "code",
   "execution_count": null,
   "metadata": {},
   "outputs": [],
   "source": [
    "function sum_matrix_vector(A, B)\n",
    "    out = A*B[:, 1]\n",
    "    for j in 2:size(B, 2)\n",
    "        out += A*B[:, j]\n",
    "    end\n",
    "    return out\n",
    "end\n",
    "\n",
    "n = 50\n",
    "A = rand(n,n)\n",
    "B = rand(n,n)\n",
    "out1 = sum_matrix_vector(A,B)\n",
    "summary(out1)"
   ]
  },
  {
   "cell_type": "markdown",
   "metadata": {},
   "source": [
    "And let's benchmark its performance"
   ]
  },
  {
   "cell_type": "code",
   "execution_count": null,
   "metadata": {},
   "outputs": [],
   "source": [
    "using BenchmarkTools\n",
    "@btime sum_matrix_vector($A, $B);"
   ]
  },
  {
   "cell_type": "markdown",
   "metadata": {},
   "source": [
    "Now we'll make a second version of this function. One that uses in-place multiplication of matrix-vector into a pre-allocated container. And one that uses `view` to view into the matrix `B` without making a copy every time."
   ]
  },
  {
   "cell_type": "code",
   "execution_count": null,
   "metadata": {},
   "outputs": [],
   "source": [
    "function sum_matrix_vector_nonalloc(A, B)\n",
    "    # set up\n",
    "    out = zeros(eltype(B), size(B, 2))\n",
    "    dummy = copy(out)\n",
    "    return sum_matrix_vector!(out, dummy, A, B)\n",
    "end\n",
    "\n",
    "using LinearAlgebra: mul!\n",
    "function sum_matrix_vector!(out, dummy, A, B)\n",
    "    # all computations are in-place\n",
    "    fill!(out, 0)\n",
    "    for j in 1:size(B, 2)\n",
    "        mul!(dummy, A, view(B, :, j))\n",
    "        out .+= dummy # notice the `.`\n",
    "    end\n",
    "    return out\n",
    "end"
   ]
  },
  {
   "cell_type": "code",
   "execution_count": null,
   "metadata": {},
   "outputs": [],
   "source": [
    "sum_matrix_vector(A, B) == sum_matrix_vector_nonalloc(A, B)"
   ]
  },
  {
   "cell_type": "code",
   "execution_count": null,
   "metadata": {},
   "outputs": [],
   "source": [
    "@btime sum_matrix_vector_nonalloc($A, $B);"
   ]
  },
  {
   "cell_type": "markdown",
   "metadata": {},
   "source": [
    "As you can see, the improvement in performance is really major! Not only that, but the pre-allocated containers `out, dummy` only need to be made once; different `A, B` do not need re-initialization of `out, dummy` (you'd need to skip the setup part in this case)."
   ]
  },
  {
   "cell_type": "markdown",
   "metadata": {},
   "source": [
    "## Performance tips summary\n",
    "\n",
    "1. **Put all performance critical parts of your code inside a function** to avoid global scope\n",
    "2. **Ensure that your functions are type-stable**, meaning that the types of the variables inside the function do not change. The macro `@code_warntype` can help with that!\n",
    "3. **Create as little new large mutable entities in your function as possible**, to avoid memory allocations.\n",
    "4. **Separate your functions into a set-up function and a computing function.** The first initializes all data structures you need, while the second does the actual algorithmic computations. The second function should be **non-allocating**."
   ]
  },
  {
   "cell_type": "markdown",
   "metadata": {},
   "source": [
    "# Exercises - performance"
   ]
  },
  {
   "cell_type": "markdown",
   "metadata": {},
   "source": [
    "## Collatz conjecture\n",
    "Given a positive integer, create a function that counts the steps it takes to reach `1` following the [Collatz conjecture algorithm](https://en.wikipedia.org/wiki/Collatz_conjecture) (if $n$ is odd do $n=3n+1$ otherwise do $n=n/2$ until you reach 1). Test it with the number 100 to get 25. Ensure that your function is type stable by calling `@code_warntype your_function(100)` and getting no red text.\n",
    "\n",
    "*Hint: make a type-stable function by using `÷`, (`\\div<TAB>`): In Julia `/` is the floating point devision operator and thus `n/m` is always a float number even if `n, m` are integers.*\n"
   ]
  },
  {
   "cell_type": "markdown",
   "metadata": {},
   "source": [
    "## Henon map\n",
    "\n",
    "Create a function that given `u0, N` it creates an orbit of length `N` of the Henon map\n",
    "\n",
    "$$\n",
    "\\begin{aligned}\n",
    "x_{n+1} &= 1 - 1.4x^2_n+y_n \\\\\n",
    "y_{n+1} &= 0.3x_n\n",
    "\\end{aligned}\n",
    "$$\n",
    "\n",
    "This map produces an orbit iteratively, i.e. starting from `u0 = (x0, y0)` one  applies the above rule to get `u1 = (x1, y1)`, and then applies the rule again on `u1` to get `u2`, and so on. The orbit consists of the sequence of states `[u0, u1, u2, ...]`. Use `u0 = (0.0, 0.0)`.\n",
    "\n",
    "_Hint: The most performant way to represent the states is via Tuples of two floats, not via `Vector`s. To solve, create two functions: one that initializes a length-`N` vector of dummy tuples using `fill`, and one that modifies this pre-initialized vector with the new tuples._\n"
   ]
  },
  {
   "cell_type": "markdown",
   "metadata": {},
   "source": []
  }
 ],
 "metadata": {
  "kernelspec": {
   "display_name": "Julia 1.11.3",
   "language": "julia",
   "name": "julia-1.11"
  },
  "language_info": {
   "file_extension": ".jl",
   "mimetype": "application/julia",
   "name": "julia",
   "version": "1.11.3"
  }
 },
 "nbformat": 4,
 "nbformat_minor": 2
}
