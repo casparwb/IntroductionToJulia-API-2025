{
 "cells": [
  {
   "cell_type": "markdown",
   "metadata": {},
   "source": [
    "# Optimization with BlackBoxOptim.jl\n",
    "\n",
    "Julia offers an incredible array of optimization packages. There is an ongoing effort to build a _common interface_ across all optimization packages, which can be found in [Optimization.jl](https://docs.sciml.ai/Optimization/stable/). Here, we will show and use only a single optimization package, [BlackBoxOptim.jl](https://github.com/robertfeldt/BlackBoxOptim.jl), that focuses on blackbox optimization problems where the objective function cannot be defined in terms of simple mathematical equations, and is also not differentiable.\n",
    "\n",
    "Our goal is to find the parameter combinations for when the following dynamical system\n",
    "$$\n",
    "\\begin{aligned}\n",
    "\\dot{x} &= -\\mu x +yz \\\\\n",
    "\\dot{y} &= -\\mu y +x(z-\\alpha) \\\\\n",
    "\\dot{z} &= 1 - xz\n",
    "\\end{aligned}\n",
    "$$\n",
    "(called Rikitake's dynamo) has the largest maximum Lyapunov exponent. \n",
    "The computation of Lyapunov exponents is not a process one can straight-forwardly define, or even estimate, derivatives for, hence we turn to blackbox optimization.\n",
    "\n",
    "To use BlackBoxOptim.jl, we must first define an _objective_ or _cost function_: A  function taking in a vector of parameters and returning the objective we want to minimize;"
   ]
  },
  {
   "cell_type": "code",
   "execution_count": null,
   "metadata": {},
   "outputs": [],
   "source": [
    "import Pkg\n",
    "Pkg.activate(joinpath(@__DIR__, \"..\"))"
   ]
  },
  {
   "cell_type": "code",
   "execution_count": null,
   "metadata": {},
   "outputs": [],
   "source": [
    "using DynamicalSystems\n",
    "\n",
    "# These are the dynamic rules of the dynamical system\n",
    "function rikitake_rule(u, p, t)\n",
    "    μ, α = p\n",
    "    x, y, z = u\n",
    "    xdot = -μ*x + y*z\n",
    "    ydot = -μ*y + x*(z - α)\n",
    "    zdot = 1 - x*y\n",
    "    return SVector(xdot, ydot, zdot)\n",
    "end\n",
    "\n",
    "# This is the objective function:\n",
    "function minus_lyapunov(p) # input is parameter values\n",
    "    u0 = SVector(1, 0, 0.6)\n",
    "    ds = CoupledODEs(rikitake_rule, u0, p)\n",
    "    λ = lyapunov(ds, 1000; Ttr = 10)\n",
    "    # return negative exponent because we minimize objective\n",
    "    return -λ\n",
    "end"
   ]
  },
  {
   "cell_type": "markdown",
   "metadata": {},
   "source": [
    "We will now attempt to \"optimize\" this objective `minus_lyapunov`, by providing a search range for the input vector `p` (which is the parameter container)"
   ]
  },
  {
   "cell_type": "code",
   "execution_count": null,
   "metadata": {},
   "outputs": [],
   "source": [
    "using BlackBoxOptim\n",
    "\n",
    "μ_range = (0.0, 5.0)\n",
    "α_range = (-10.0, 10.0)\n",
    "\n",
    "bbres = bboptimize(minus_lyapunov; SearchRange = [μ_range, α_range], MaxTime = 30.0)"
   ]
  },
  {
   "cell_type": "code",
   "execution_count": null,
   "metadata": {},
   "outputs": [],
   "source": [
    "pmax = best_candidate(bbres)"
   ]
  },
  {
   "cell_type": "code",
   "execution_count": null,
   "metadata": {},
   "outputs": [],
   "source": [
    "λmax = -best_fitness(bbres)"
   ]
  },
  {
   "cell_type": "markdown",
   "metadata": {},
   "source": [
    "Let's also visualize the chaotic attractor for this parameter, because it looks super awesome!"
   ]
  },
  {
   "cell_type": "code",
   "execution_count": null,
   "metadata": {},
   "outputs": [],
   "source": [
    "using CairoMakie\n",
    "\n",
    "ds = CoupledODEs(rikitake_rule, SVector(1, 0, 0.6), pmax)\n",
    "X, t = trajectory(ds, 1000.0; Ttr = 10, Δt = 0.01)\n",
    "fig, ax = lines(vec(X);\n",
    "    linewidth = 1.0, color = \"#7754cc\",\n",
    "    axis = (type = Axis3,), figure = (size = (800, 600), backgroundcolor = :transparent)\n",
    ")\n",
    "ax.azimuth = 2.1\n",
    "hidedecorations!(ax)\n",
    "hidespines!(ax)\n",
    "fig"
   ]
  },
  {
   "cell_type": "markdown",
   "metadata": {},
   "source": [
    "# Exercises"
   ]
  },
  {
   "cell_type": "markdown",
   "metadata": {},
   "source": [
    "## Textbook optimization problem\n",
    "Use BlackBoxOptim.jl to find the minimum of the Rosenbrock function, defined as\n",
    "$$\n",
    "f(x,y) = (2 - x)^2 + 100(y - x^2)^2\n",
    "$$\n",
    "limiting the search range to $x =(-5, 5)$ and $y = (0, 10)$. Confirm that the global minimum is $(2, 4)$.\n"
   ]
  }
 ],
 "metadata": {
  "kernelspec": {
   "display_name": "Julia 1.11.3",
   "language": "julia",
   "name": "julia-1.11"
  },
  "language_info": {
   "file_extension": ".jl",
   "mimetype": "application/julia",
   "name": "julia",
   "version": "1.11.3"
  }
 },
 "nbformat": 4,
 "nbformat_minor": 2
}
