{
 "cells": [
  {
   "cell_type": "markdown",
   "metadata": {},
   "source": [
    "# Calling Python from Julia\n",
    "\n",
    "Julia supports calling Python code via the package [PythonCall.jl](https://juliapy.github.io/PythonCall.jl/stable/). From the website:\n",
    "\n",
    "- Call Python code from Julia and Julia code from Python via a symmetric interface.\n",
    "- Simple syntax, so the Python code looks like Python and the Julia code looks like Julia.\n",
    "- Intuitive and flexible conversions between Julia and Python: anything can be converted, you are in control.\n",
    "- Fast non-copying conversion of numeric arrays in either direction: modify Python arrays (e.g. bytes, array.array, numpy.ndarray) from Julia or Julia arrays from Python.\n",
    "- Helpful wrappers: interpret Python sequences, dictionaries, arrays, dataframes and IO streams as their Julia counterparts, and vice versa.\n",
    "- Beautiful stack-traces.\n",
    "- Works anywhere: tested on Windows, MacOS and Linux, 32- and 64-bit, Julia Julia 1.6.1 upwards and Python 3.8 upwards.\n",
    "\n",
    "By default, installing `PythonCall.jl` also installs a minimal conda environment within your current active Julia environment, allowing you to keep track of the python packages you use for this project. However, you can also specify which python interpreter you want to use, if you already have python installed and want to use a specific interpreter. You can do this by setting the following environment variables (within Julia, and before import PythonCall.)\n",
    "\n",
    "#### If you already have Python and required Python packages installed\n",
    "```julia\n",
    "ENV[\"JULIA_CONDAPKG_BACKEND\"] = \"Null\"\n",
    "ENV[\"JULIA_PYTHONCALL_EXE\"] = \"/path/to/python\" \n",
    "```\n",
    "\n",
    "#### If you already have a Conda environment\n",
    "```julia\n",
    "ENV[\"JULIA_CONDAPKG_BACKEND\"] = \"Current\"\n",
    "ENV[\"JULIA_CONDAPKG_EXE\"] = \"/path/to/conda\"  \n",
    "```\n",
    "\n",
    "## Installing Python packages\n",
    "\n",
    "Assuming you haven't opted out, PythonCall uses CondaPkg.jl to automatically install any required Python packages.\n",
    "\n",
    "In the terminal (REPL), this is as simple as\n",
    "```julia\n",
    "julia> using CondaPkg\n",
    "\n",
    "julia> # press ] to enter the Pkg REPL\n",
    "\n",
    "pkg> conda add some_package\n",
    "```\n",
    "\n",
    "When working in a notebook, you can do\n",
    "\n",
    "To install python packages, you can use the `CondaPkg` package.\n",
    "\n",
    "When using a notebook, you can do:\n",
    "\n",
    "```julia\n",
    "using CondaPkg\n",
    "CondaPkg.add(\"numpy\")\n",
    "```\n",
    "\n",
    "This creates a CondaPkg.toml file in the active project specifying the dependencies, just like a Project.toml specifies Julia dependencies. Commit this file along with the rest of the project so that dependencies are automatically installed for everyone using it.\n",
    "\n",
    "To add dependencies to a Julia package, just ensure the package project is activated first.\n",
    "\n",
    "See the [CondaPkg.jl](https://github.com/JuliaPy/CondaPkg.jl) documentation."
   ]
  },
  {
   "cell_type": "markdown",
   "metadata": {},
   "source": [
    "## Using PythonCall\n",
    "\n",
    "All Python objects defined using `PythonCall` are `Py` types, which support various attributes such as attribute access, function calls, indexing, comparison, and arithmetic."
   ]
  },
  {
   "cell_type": "code",
   "execution_count": 30,
   "metadata": {},
   "outputs": [],
   "source": [
    "using PythonCall"
   ]
  },
  {
   "cell_type": "code",
   "execution_count": null,
   "metadata": {},
   "outputs": [],
   "source": [
    "list = pylist([1, 2, 3])"
   ]
  },
  {
   "cell_type": "code",
   "execution_count": null,
   "metadata": {},
   "outputs": [],
   "source": [
    "typeof(list)"
   ]
  },
  {
   "cell_type": "code",
   "execution_count": null,
   "metadata": {},
   "outputs": [],
   "source": [
    "list[0] # python lists/arrays use 0-based indexing "
   ]
  },
  {
   "cell_type": "code",
   "execution_count": null,
   "metadata": {},
   "outputs": [],
   "source": [
    "list.append(4)\n",
    "list"
   ]
  },
  {
   "cell_type": "code",
   "execution_count": null,
   "metadata": {},
   "outputs": [],
   "source": [
    "sum(list)"
   ]
  },
  {
   "cell_type": "markdown",
   "metadata": {},
   "source": [
    "Here, we created a Python list using the `pylist` function. Many Python function can be accessed with the `py` prefix, for example"
   ]
  },
  {
   "cell_type": "code",
   "execution_count": null,
   "metadata": {},
   "outputs": [],
   "source": [
    "for k in pyrange(5)\n",
    "    println(k)\n",
    "end"
   ]
  },
  {
   "cell_type": "code",
   "execution_count": null,
   "metadata": {},
   "outputs": [],
   "source": [
    "pydir(list)"
   ]
  },
  {
   "cell_type": "code",
   "execution_count": null,
   "metadata": {},
   "outputs": [],
   "source": [
    "pyany(pylist([0, 1, 0]))"
   ]
  },
  {
   "cell_type": "markdown",
   "metadata": {},
   "source": [
    "Since the list we made and its content is of type `Py`, comparisons with equivalent Julia object won't work."
   ]
  },
  {
   "cell_type": "code",
   "execution_count": null,
   "metadata": {},
   "outputs": [],
   "source": [
    "list == [1, 2, 3, 4]"
   ]
  },
  {
   "cell_type": "code",
   "execution_count": null,
   "metadata": {},
   "outputs": [],
   "source": [
    "list .== [1, 2, 3, 4] # element-wise comparison"
   ]
  },
  {
   "cell_type": "markdown",
   "metadata": {},
   "source": [
    "To compare these two objects, we can convert the list to a Julia vector using the `pyconvert` function."
   ]
  },
  {
   "cell_type": "code",
   "execution_count": null,
   "metadata": {},
   "outputs": [],
   "source": [
    "julia_vec = pyconvert(Vector, list)\n",
    "@show julia_vec == [1, 2, 3, 4]\n",
    "@show all(julia_vec .== [1, 2, 3, 4]);"
   ]
  },
  {
   "cell_type": "markdown",
   "metadata": {},
   "source": [
    "`pyconvert` is not just used for converting Python lists to Julia vectors, but many other Python types to the equivalent types in Julia"
   ]
  },
  {
   "cell_type": "code",
   "execution_count": null,
   "metadata": {},
   "outputs": [],
   "source": [
    "python_words = pylist([\"Hello\", \"world!\"])\n",
    "python_sentence = Py(\" \").join(python_words)"
   ]
  },
  {
   "cell_type": "code",
   "execution_count": null,
   "metadata": {},
   "outputs": [],
   "source": [
    "pyconvert(String, python_sentence) # convert to Julia string"
   ]
  },
  {
   "cell_type": "markdown",
   "metadata": {},
   "source": [
    "## Using Python packages\n",
    "\n",
    "To import a Python package into your session, use the `pyimport` function and assign the output to a variable. For example:"
   ]
  },
  {
   "cell_type": "code",
   "execution_count": null,
   "metadata": {},
   "outputs": [],
   "source": [
    "python_math = pyimport(\"math\")\n",
    "\n",
    "python_math.sqrt(list[-1])"
   ]
  },
  {
   "cell_type": "markdown",
   "metadata": {},
   "source": [
    "To do something equivalent to the python statemement `from X import Y as Z`, you can call `pyimport` using the signature `Z = pyimport(X => Y)`. For example:"
   ]
  },
  {
   "cell_type": "code",
   "execution_count": null,
   "metadata": {},
   "outputs": [],
   "source": [
    "math_pi = pyimport(\"math\" => \"pi\")\n",
    "math_pi"
   ]
  },
  {
   "cell_type": "code",
   "execution_count": null,
   "metadata": {},
   "outputs": [],
   "source": [
    "pyconvert(Float64, math_pi)"
   ]
  }
 ],
 "metadata": {
  "kernelspec": {
   "display_name": "Julia 1.11.3",
   "language": "julia",
   "name": "julia-1.11"
  },
  "language_info": {
   "file_extension": ".jl",
   "mimetype": "application/julia",
   "name": "julia",
   "version": "1.11.3"
  }
 },
 "nbformat": 4,
 "nbformat_minor": 2
}
