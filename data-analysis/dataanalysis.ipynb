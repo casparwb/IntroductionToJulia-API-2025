{
 "cells": [
  {
   "cell_type": "markdown",
   "metadata": {},
   "source": [
    "# Tabular data with DataFrames.jl\n",
    "\n",
    "The `result` that we got above is a `DataFrame` from [DataFrames.jl](http://juliadata.github.io/DataFrames.jl/stable/), one of the major Julia packages for tabular data. \n",
    "\n",
    "## Basic stuff\n",
    "One can do basic selection of these data, for example selecting specific columns, removing columns, adding new columns or rows, etc. The `path` column of the `results` is not so useful, so let's remove it:"
   ]
  },
  {
   "cell_type": "code",
   "execution_count": null,
   "metadata": {
    "vscode": {
     "languageId": "julia"
    }
   },
   "outputs": [
    {
     "data": {
      "text/html": [
       "<div><div style = \"float: left;\"><span>8×5 DataFrame</span></div><div style = \"clear: both;\"></div></div><div class = \"data-frame\" style = \"overflow-x: scroll;\"><table class = \"data-frame\" style = \"margin-bottom: 6px;\"><thead><tr class = \"header\"><th class = \"rowNumber\" style = \"font-weight: bold; text-align: right;\">Row</th><th style = \"text-align: left;\">model</th><th style = \"text-align: left;\">b</th><th style = \"text-align: left;\">r</th><th style = \"text-align: left;\">a</th><th style = \"text-align: left;\">d</th></tr><tr class = \"subheader headerLastRow\"><th class = \"rowNumber\" style = \"font-weight: bold; text-align: right;\"></th><th title = \"Union{Missing, String}\" style = \"text-align: left;\">String?</th><th title = \"Union{Missing, Int64}\" style = \"text-align: left;\">Int64?</th><th title = \"Union{Missing, Int64}\" style = \"text-align: left;\">Int64?</th><th title = \"Union{Missing, Int64}\" style = \"text-align: left;\">Int64?</th><th title = \"Union{Missing, Int64}\" style = \"text-align: left;\">Int64?</th></tr></thead><tbody><tr><td class = \"rowNumber\" style = \"font-weight: bold; text-align: right;\">1</td><td style = \"text-align: left;\">linear</td><td style = \"text-align: right;\">2</td><td style = \"text-align: right;\">3</td><td style = \"text-align: right;\">1</td><td style = \"font-style: italic; text-align: right;\">missing</td></tr><tr><td class = \"rowNumber\" style = \"font-weight: bold; text-align: right;\">2</td><td style = \"text-align: left;\">linear</td><td style = \"text-align: right;\">3</td><td style = \"text-align: right;\">4</td><td style = \"text-align: right;\">1</td><td style = \"font-style: italic; text-align: right;\">missing</td></tr><tr><td class = \"rowNumber\" style = \"font-weight: bold; text-align: right;\">3</td><td style = \"text-align: left;\">cubic</td><td style = \"font-style: italic; text-align: right;\">missing</td><td style = \"text-align: right;\">126</td><td style = \"text-align: right;\">1</td><td style = \"text-align: right;\">5</td></tr><tr><td class = \"rowNumber\" style = \"font-weight: bold; text-align: right;\">4</td><td style = \"text-align: left;\">cubic</td><td style = \"font-style: italic; text-align: right;\">missing</td><td style = \"text-align: right;\">217</td><td style = \"text-align: right;\">1</td><td style = \"text-align: right;\">6</td></tr><tr><td class = \"rowNumber\" style = \"font-weight: bold; text-align: right;\">5</td><td style = \"text-align: left;\">linear</td><td style = \"text-align: right;\">2</td><td style = \"text-align: right;\">4</td><td style = \"text-align: right;\">2</td><td style = \"font-style: italic; text-align: right;\">missing</td></tr><tr><td class = \"rowNumber\" style = \"font-weight: bold; text-align: right;\">6</td><td style = \"text-align: left;\">linear</td><td style = \"text-align: right;\">3</td><td style = \"text-align: right;\">5</td><td style = \"text-align: right;\">2</td><td style = \"font-style: italic; text-align: right;\">missing</td></tr><tr><td class = \"rowNumber\" style = \"font-weight: bold; text-align: right;\">7</td><td style = \"text-align: left;\">cubic</td><td style = \"font-style: italic; text-align: right;\">missing</td><td style = \"text-align: right;\">127</td><td style = \"text-align: right;\">2</td><td style = \"text-align: right;\">5</td></tr><tr><td class = \"rowNumber\" style = \"font-weight: bold; text-align: right;\">8</td><td style = \"text-align: left;\">cubic</td><td style = \"font-style: italic; text-align: right;\">missing</td><td style = \"text-align: right;\">218</td><td style = \"text-align: right;\">2</td><td style = \"text-align: right;\">6</td></tr></tbody></table></div>"
      ],
      "text/latex": [
       "\\begin{tabular}{r|ccccc}\n",
       "\t& model & b & r & a & d\\\\\n",
       "\t\\hline\n",
       "\t& String? & Int64? & Int64? & Int64? & Int64?\\\\\n",
       "\t\\hline\n",
       "\t1 & linear & 2 & 3 & 1 & \\emph{missing} \\\\\n",
       "\t2 & linear & 3 & 4 & 1 & \\emph{missing} \\\\\n",
       "\t3 & cubic & \\emph{missing} & 126 & 1 & 5 \\\\\n",
       "\t4 & cubic & \\emph{missing} & 217 & 1 & 6 \\\\\n",
       "\t5 & linear & 2 & 4 & 2 & \\emph{missing} \\\\\n",
       "\t6 & linear & 3 & 5 & 2 & \\emph{missing} \\\\\n",
       "\t7 & cubic & \\emph{missing} & 127 & 2 & 5 \\\\\n",
       "\t8 & cubic & \\emph{missing} & 218 & 2 & 6 \\\\\n",
       "\\end{tabular}\n"
      ],
      "text/plain": [
       "\u001b[1m8×5 DataFrame\u001b[0m\n",
       "\u001b[1m Row \u001b[0m│\u001b[1m model   \u001b[0m\u001b[1m b       \u001b[0m\u001b[1m r      \u001b[0m\u001b[1m a      \u001b[0m\u001b[1m d       \u001b[0m\n",
       "     │\u001b[90m String? \u001b[0m\u001b[90m Int64?  \u001b[0m\u001b[90m Int64? \u001b[0m\u001b[90m Int64? \u001b[0m\u001b[90m Int64?  \u001b[0m\n",
       "─────┼───────────────────────────────────────────\n",
       "   1 │ linear         2       3       1 \u001b[90m missing \u001b[0m\n",
       "   2 │ linear         3       4       1 \u001b[90m missing \u001b[0m\n",
       "   3 │ cubic   \u001b[90m missing \u001b[0m    126       1        5\n",
       "   4 │ cubic   \u001b[90m missing \u001b[0m    217       1        6\n",
       "   5 │ linear         2       4       2 \u001b[90m missing \u001b[0m\n",
       "   6 │ linear         3       5       2 \u001b[90m missing \u001b[0m\n",
       "   7 │ cubic   \u001b[90m missing \u001b[0m    127       2        5\n",
       "   8 │ cubic   \u001b[90m missing \u001b[0m    218       2        6"
      ]
     },
     "metadata": {},
     "output_type": "display_data"
    }
   ],
   "source": [
    "select!(results, Not(:path))"
   ]
  },
  {
   "cell_type": "markdown",
   "metadata": {},
   "source": [
    "To access specific rows or columns you can access a dataframe like a matrix, e.g. `df[:, 1:3]` gives the first three rows while `df[:, [:a, :b]]` gives the rows selected by name.\n",
    "\n",
    "Adding new data to a dataframe is also straight forward. One can add new rows or new columns. New rows are added by either providing a vector (where the vector's length matches the number of columns), or by providing a named tuple that explicitly names which column gets which new value."
   ]
  },
  {
   "cell_type": "code",
   "execution_count": null,
   "metadata": {
    "vscode": {
     "languageId": "julia"
    }
   },
   "outputs": [
    {
     "data": {
      "text/html": [
       "<div><div style = \"float: left;\"><span>3×3 DataFrame</span></div><div style = \"clear: both;\"></div></div><div class = \"data-frame\" style = \"overflow-x: scroll;\"><table class = \"data-frame\" style = \"margin-bottom: 6px;\"><thead><tr class = \"header\"><th class = \"rowNumber\" style = \"font-weight: bold; text-align: right;\">Row</th><th style = \"text-align: left;\">model</th><th style = \"text-align: left;\">b</th><th style = \"text-align: left;\">r</th></tr><tr class = \"subheader headerLastRow\"><th class = \"rowNumber\" style = \"font-weight: bold; text-align: right;\"></th><th title = \"Union{Missing, String}\" style = \"text-align: left;\">String?</th><th title = \"Union{Missing, Int64}\" style = \"text-align: left;\">Int64?</th><th title = \"Union{Missing, Int64}\" style = \"text-align: left;\">Int64?</th></tr></thead><tbody><tr><td class = \"rowNumber\" style = \"font-weight: bold; text-align: right;\">1</td><td style = \"text-align: left;\">linear</td><td style = \"text-align: right;\">2</td><td style = \"text-align: right;\">3</td></tr><tr><td class = \"rowNumber\" style = \"font-weight: bold; text-align: right;\">2</td><td style = \"text-align: left;\">linear</td><td style = \"text-align: right;\">3</td><td style = \"text-align: right;\">4</td></tr><tr><td class = \"rowNumber\" style = \"font-weight: bold; text-align: right;\">3</td><td style = \"text-align: left;\">cubic</td><td style = \"font-style: italic; text-align: right;\">missing</td><td style = \"text-align: right;\">126</td></tr></tbody></table></div>"
      ],
      "text/latex": [
       "\\begin{tabular}{r|ccc}\n",
       "\t& model & b & r\\\\\n",
       "\t\\hline\n",
       "\t& String? & Int64? & Int64?\\\\\n",
       "\t\\hline\n",
       "\t1 & linear & 2 & 3 \\\\\n",
       "\t2 & linear & 3 & 4 \\\\\n",
       "\t3 & cubic & \\emph{missing} & 126 \\\\\n",
       "\\end{tabular}\n"
      ],
      "text/plain": [
       "\u001b[1m3×3 DataFrame\u001b[0m\n",
       "\u001b[1m Row \u001b[0m│\u001b[1m model   \u001b[0m\u001b[1m b       \u001b[0m\u001b[1m r      \u001b[0m\n",
       "     │\u001b[90m String? \u001b[0m\u001b[90m Int64?  \u001b[0m\u001b[90m Int64? \u001b[0m\n",
       "─────┼──────────────────────────\n",
       "   1 │ linear         2       3\n",
       "   2 │ linear         3       4\n",
       "   3 │ cubic   \u001b[90m missing \u001b[0m    126"
      ]
     },
     "metadata": {},
     "output_type": "display_data"
    }
   ],
   "source": [
    "df1 = results[1:3, 1:3]"
   ]
  },
  {
   "cell_type": "code",
   "execution_count": null,
   "metadata": {
    "vscode": {
     "languageId": "julia"
    }
   },
   "outputs": [
    {
     "data": {
      "text/html": [
       "<div><div style = \"float: left;\"><span>4×3 DataFrame</span></div><div style = \"clear: both;\"></div></div><div class = \"data-frame\" style = \"overflow-x: scroll;\"><table class = \"data-frame\" style = \"margin-bottom: 6px;\"><thead><tr class = \"header\"><th class = \"rowNumber\" style = \"font-weight: bold; text-align: right;\">Row</th><th style = \"text-align: left;\">model</th><th style = \"text-align: left;\">b</th><th style = \"text-align: left;\">r</th></tr><tr class = \"subheader headerLastRow\"><th class = \"rowNumber\" style = \"font-weight: bold; text-align: right;\"></th><th title = \"Union{Missing, String}\" style = \"text-align: left;\">String?</th><th title = \"Union{Missing, Int64}\" style = \"text-align: left;\">Int64?</th><th title = \"Union{Missing, Int64}\" style = \"text-align: left;\">Int64?</th></tr></thead><tbody><tr><td class = \"rowNumber\" style = \"font-weight: bold; text-align: right;\">1</td><td style = \"text-align: left;\">linear</td><td style = \"text-align: right;\">2</td><td style = \"text-align: right;\">3</td></tr><tr><td class = \"rowNumber\" style = \"font-weight: bold; text-align: right;\">2</td><td style = \"text-align: left;\">linear</td><td style = \"text-align: right;\">3</td><td style = \"text-align: right;\">4</td></tr><tr><td class = \"rowNumber\" style = \"font-weight: bold; text-align: right;\">3</td><td style = \"text-align: left;\">cubic</td><td style = \"font-style: italic; text-align: right;\">missing</td><td style = \"text-align: right;\">126</td></tr><tr><td class = \"rowNumber\" style = \"font-weight: bold; text-align: right;\">4</td><td style = \"text-align: left;\">test</td><td style = \"text-align: right;\">5</td><td style = \"text-align: right;\">5</td></tr></tbody></table></div>"
      ],
      "text/latex": [
       "\\begin{tabular}{r|ccc}\n",
       "\t& model & b & r\\\\\n",
       "\t\\hline\n",
       "\t& String? & Int64? & Int64?\\\\\n",
       "\t\\hline\n",
       "\t1 & linear & 2 & 3 \\\\\n",
       "\t2 & linear & 3 & 4 \\\\\n",
       "\t3 & cubic & \\emph{missing} & 126 \\\\\n",
       "\t4 & test & 5 & 5 \\\\\n",
       "\\end{tabular}\n"
      ],
      "text/plain": [
       "\u001b[1m4×3 DataFrame\u001b[0m\n",
       "\u001b[1m Row \u001b[0m│\u001b[1m model   \u001b[0m\u001b[1m b       \u001b[0m\u001b[1m r      \u001b[0m\n",
       "     │\u001b[90m String? \u001b[0m\u001b[90m Int64?  \u001b[0m\u001b[90m Int64? \u001b[0m\n",
       "─────┼──────────────────────────\n",
       "   1 │ linear         2       3\n",
       "   2 │ linear         3       4\n",
       "   3 │ cubic   \u001b[90m missing \u001b[0m    126\n",
       "   4 │ test           5       5"
      ]
     },
     "metadata": {},
     "output_type": "display_data"
    }
   ],
   "source": [
    "# add new row by order of columns\n",
    "push!(df1, [\"test\", 5, 5])"
   ]
  },
  {
   "cell_type": "code",
   "execution_count": null,
   "metadata": {
    "vscode": {
     "languageId": "julia"
    }
   },
   "outputs": [
    {
     "data": {
      "text/html": [
       "<div><div style = \"float: left;\"><span>5×3 DataFrame</span></div><div style = \"clear: both;\"></div></div><div class = \"data-frame\" style = \"overflow-x: scroll;\"><table class = \"data-frame\" style = \"margin-bottom: 6px;\"><thead><tr class = \"header\"><th class = \"rowNumber\" style = \"font-weight: bold; text-align: right;\">Row</th><th style = \"text-align: left;\">model</th><th style = \"text-align: left;\">b</th><th style = \"text-align: left;\">r</th></tr><tr class = \"subheader headerLastRow\"><th class = \"rowNumber\" style = \"font-weight: bold; text-align: right;\"></th><th title = \"Union{Missing, String}\" style = \"text-align: left;\">String?</th><th title = \"Union{Missing, Int64}\" style = \"text-align: left;\">Int64?</th><th title = \"Union{Missing, Int64}\" style = \"text-align: left;\">Int64?</th></tr></thead><tbody><tr><td class = \"rowNumber\" style = \"font-weight: bold; text-align: right;\">1</td><td style = \"text-align: left;\">linear</td><td style = \"text-align: right;\">2</td><td style = \"text-align: right;\">3</td></tr><tr><td class = \"rowNumber\" style = \"font-weight: bold; text-align: right;\">2</td><td style = \"text-align: left;\">linear</td><td style = \"text-align: right;\">3</td><td style = \"text-align: right;\">4</td></tr><tr><td class = \"rowNumber\" style = \"font-weight: bold; text-align: right;\">3</td><td style = \"text-align: left;\">cubic</td><td style = \"font-style: italic; text-align: right;\">missing</td><td style = \"text-align: right;\">126</td></tr><tr><td class = \"rowNumber\" style = \"font-weight: bold; text-align: right;\">4</td><td style = \"text-align: left;\">test</td><td style = \"text-align: right;\">5</td><td style = \"text-align: right;\">5</td></tr><tr><td class = \"rowNumber\" style = \"font-weight: bold; text-align: right;\">5</td><td style = \"text-align: left;\">test2</td><td style = \"text-align: right;\">-5</td><td style = \"text-align: right;\">89</td></tr></tbody></table></div>"
      ],
      "text/latex": [
       "\\begin{tabular}{r|ccc}\n",
       "\t& model & b & r\\\\\n",
       "\t\\hline\n",
       "\t& String? & Int64? & Int64?\\\\\n",
       "\t\\hline\n",
       "\t1 & linear & 2 & 3 \\\\\n",
       "\t2 & linear & 3 & 4 \\\\\n",
       "\t3 & cubic & \\emph{missing} & 126 \\\\\n",
       "\t4 & test & 5 & 5 \\\\\n",
       "\t5 & test2 & -5 & 89 \\\\\n",
       "\\end{tabular}\n"
      ],
      "text/plain": [
       "\u001b[1m5×3 DataFrame\u001b[0m\n",
       "\u001b[1m Row \u001b[0m│\u001b[1m model   \u001b[0m\u001b[1m b       \u001b[0m\u001b[1m r      \u001b[0m\n",
       "     │\u001b[90m String? \u001b[0m\u001b[90m Int64?  \u001b[0m\u001b[90m Int64? \u001b[0m\n",
       "─────┼──────────────────────────\n",
       "   1 │ linear         2       3\n",
       "   2 │ linear         3       4\n",
       "   3 │ cubic   \u001b[90m missing \u001b[0m    126\n",
       "   4 │ test           5       5\n",
       "   5 │ test2         -5      89"
      ]
     },
     "metadata": {},
     "output_type": "display_data"
    }
   ],
   "source": [
    "# add new row by name of columnns\n",
    "push!(df1, (model = \"test2\", r=89, b = -5))"
   ]
  },
  {
   "cell_type": "code",
   "execution_count": null,
   "metadata": {
    "vscode": {
     "languageId": "julia"
    }
   },
   "outputs": [
    {
     "data": {
      "text/html": [
       "<div><div style = \"float: left;\"><span>5×4 DataFrame</span></div><div style = \"clear: both;\"></div></div><div class = \"data-frame\" style = \"overflow-x: scroll;\"><table class = \"data-frame\" style = \"margin-bottom: 6px;\"><thead><tr class = \"header\"><th class = \"rowNumber\" style = \"font-weight: bold; text-align: right;\">Row</th><th style = \"text-align: left;\">model</th><th style = \"text-align: left;\">b</th><th style = \"text-align: left;\">r</th><th style = \"text-align: left;\">z</th></tr><tr class = \"subheader headerLastRow\"><th class = \"rowNumber\" style = \"font-weight: bold; text-align: right;\"></th><th title = \"Union{Missing, String}\" style = \"text-align: left;\">String?</th><th title = \"Union{Missing, Int64}\" style = \"text-align: left;\">Int64?</th><th title = \"Union{Missing, Int64}\" style = \"text-align: left;\">Int64?</th><th title = \"Float64\" style = \"text-align: left;\">Float64</th></tr></thead><tbody><tr><td class = \"rowNumber\" style = \"font-weight: bold; text-align: right;\">1</td><td style = \"text-align: left;\">linear</td><td style = \"text-align: right;\">2</td><td style = \"text-align: right;\">3</td><td style = \"text-align: right;\">0.821092</td></tr><tr><td class = \"rowNumber\" style = \"font-weight: bold; text-align: right;\">2</td><td style = \"text-align: left;\">linear</td><td style = \"text-align: right;\">3</td><td style = \"text-align: right;\">4</td><td style = \"text-align: right;\">0.35409</td></tr><tr><td class = \"rowNumber\" style = \"font-weight: bold; text-align: right;\">3</td><td style = \"text-align: left;\">cubic</td><td style = \"font-style: italic; text-align: right;\">missing</td><td style = \"text-align: right;\">126</td><td style = \"text-align: right;\">0.576274</td></tr><tr><td class = \"rowNumber\" style = \"font-weight: bold; text-align: right;\">4</td><td style = \"text-align: left;\">test</td><td style = \"text-align: right;\">5</td><td style = \"text-align: right;\">5</td><td style = \"text-align: right;\">0.781562</td></tr><tr><td class = \"rowNumber\" style = \"font-weight: bold; text-align: right;\">5</td><td style = \"text-align: left;\">test2</td><td style = \"text-align: right;\">-5</td><td style = \"text-align: right;\">89</td><td style = \"text-align: right;\">0.416933</td></tr></tbody></table></div>"
      ],
      "text/latex": [
       "\\begin{tabular}{r|cccc}\n",
       "\t& model & b & r & z\\\\\n",
       "\t\\hline\n",
       "\t& String? & Int64? & Int64? & Float64\\\\\n",
       "\t\\hline\n",
       "\t1 & linear & 2 & 3 & 0.821092 \\\\\n",
       "\t2 & linear & 3 & 4 & 0.35409 \\\\\n",
       "\t3 & cubic & \\emph{missing} & 126 & 0.576274 \\\\\n",
       "\t4 & test & 5 & 5 & 0.781562 \\\\\n",
       "\t5 & test2 & -5 & 89 & 0.416933 \\\\\n",
       "\\end{tabular}\n"
      ],
      "text/plain": [
       "\u001b[1m5×4 DataFrame\u001b[0m\n",
       "\u001b[1m Row \u001b[0m│\u001b[1m model   \u001b[0m\u001b[1m b       \u001b[0m\u001b[1m r      \u001b[0m\u001b[1m z        \u001b[0m\n",
       "     │\u001b[90m String? \u001b[0m\u001b[90m Int64?  \u001b[0m\u001b[90m Int64? \u001b[0m\u001b[90m Float64  \u001b[0m\n",
       "─────┼────────────────────────────────────\n",
       "   1 │ linear         2       3  0.821092\n",
       "   2 │ linear         3       4  0.35409\n",
       "   3 │ cubic   \u001b[90m missing \u001b[0m    126  0.576274\n",
       "   4 │ test           5       5  0.781562\n",
       "   5 │ test2         -5      89  0.416933"
      ]
     },
     "metadata": {},
     "output_type": "display_data"
    }
   ],
   "source": [
    "# add new column with given name by field assignment\n",
    "df1.z = rand(size(df1, 1))\n",
    "df1"
   ]
  },
  {
   "cell_type": "markdown",
   "metadata": {},
   "source": [
    "## Querying and manipulating a `DataFrame`\n",
    "\n",
    "General querying and data manipulation can be done on `DataFrame`s using standard library functions from DataFrames.jl. However, it is [recommended](https://dataframes.juliadata.org/stable/man/querying_frameworks/#Data-manipulation-frameworks) to use a package dedicated to querying and data manupulation that provides simpler/easier syntax for it. Several options exist, each providing a slightly different variant on the syntax, so you can pick whatever you feel most comfortable in. Here we will use a LINQ-like [Query.jl](https://www.queryverse.org/Query.jl/stable/) syntax, which can be used with any tabular Julia data."
   ]
  },
  {
   "cell_type": "code",
   "execution_count": null,
   "metadata": {
    "vscode": {
     "languageId": "julia"
    }
   },
   "outputs": [
    {
     "data": {
      "text/html": [
       "<div><div style = \"float: left;\"><span>8×5 DataFrame</span></div><div style = \"clear: both;\"></div></div><div class = \"data-frame\" style = \"overflow-x: scroll;\"><table class = \"data-frame\" style = \"margin-bottom: 6px;\"><thead><tr class = \"header\"><th class = \"rowNumber\" style = \"font-weight: bold; text-align: right;\">Row</th><th style = \"text-align: left;\">model</th><th style = \"text-align: left;\">b</th><th style = \"text-align: left;\">r</th><th style = \"text-align: left;\">a</th><th style = \"text-align: left;\">d</th></tr><tr class = \"subheader headerLastRow\"><th class = \"rowNumber\" style = \"font-weight: bold; text-align: right;\"></th><th title = \"Union{Missing, String}\" style = \"text-align: left;\">String?</th><th title = \"Union{Missing, Int64}\" style = \"text-align: left;\">Int64?</th><th title = \"Union{Missing, Int64}\" style = \"text-align: left;\">Int64?</th><th title = \"Union{Missing, Int64}\" style = \"text-align: left;\">Int64?</th><th title = \"Union{Missing, Int64}\" style = \"text-align: left;\">Int64?</th></tr></thead><tbody><tr><td class = \"rowNumber\" style = \"font-weight: bold; text-align: right;\">1</td><td style = \"text-align: left;\">linear</td><td style = \"text-align: right;\">2</td><td style = \"text-align: right;\">3</td><td style = \"text-align: right;\">1</td><td style = \"font-style: italic; text-align: right;\">missing</td></tr><tr><td class = \"rowNumber\" style = \"font-weight: bold; text-align: right;\">2</td><td style = \"text-align: left;\">linear</td><td style = \"text-align: right;\">3</td><td style = \"text-align: right;\">4</td><td style = \"text-align: right;\">1</td><td style = \"font-style: italic; text-align: right;\">missing</td></tr><tr><td class = \"rowNumber\" style = \"font-weight: bold; text-align: right;\">3</td><td style = \"text-align: left;\">cubic</td><td style = \"font-style: italic; text-align: right;\">missing</td><td style = \"text-align: right;\">126</td><td style = \"text-align: right;\">1</td><td style = \"text-align: right;\">5</td></tr><tr><td class = \"rowNumber\" style = \"font-weight: bold; text-align: right;\">4</td><td style = \"text-align: left;\">cubic</td><td style = \"font-style: italic; text-align: right;\">missing</td><td style = \"text-align: right;\">217</td><td style = \"text-align: right;\">1</td><td style = \"text-align: right;\">6</td></tr><tr><td class = \"rowNumber\" style = \"font-weight: bold; text-align: right;\">5</td><td style = \"text-align: left;\">linear</td><td style = \"text-align: right;\">2</td><td style = \"text-align: right;\">4</td><td style = \"text-align: right;\">2</td><td style = \"font-style: italic; text-align: right;\">missing</td></tr><tr><td class = \"rowNumber\" style = \"font-weight: bold; text-align: right;\">6</td><td style = \"text-align: left;\">linear</td><td style = \"text-align: right;\">3</td><td style = \"text-align: right;\">5</td><td style = \"text-align: right;\">2</td><td style = \"font-style: italic; text-align: right;\">missing</td></tr><tr><td class = \"rowNumber\" style = \"font-weight: bold; text-align: right;\">7</td><td style = \"text-align: left;\">cubic</td><td style = \"font-style: italic; text-align: right;\">missing</td><td style = \"text-align: right;\">127</td><td style = \"text-align: right;\">2</td><td style = \"text-align: right;\">5</td></tr><tr><td class = \"rowNumber\" style = \"font-weight: bold; text-align: right;\">8</td><td style = \"text-align: left;\">cubic</td><td style = \"font-style: italic; text-align: right;\">missing</td><td style = \"text-align: right;\">218</td><td style = \"text-align: right;\">2</td><td style = \"text-align: right;\">6</td></tr></tbody></table></div>"
      ],
      "text/latex": [
       "\\begin{tabular}{r|ccccc}\n",
       "\t& model & b & r & a & d\\\\\n",
       "\t\\hline\n",
       "\t& String? & Int64? & Int64? & Int64? & Int64?\\\\\n",
       "\t\\hline\n",
       "\t1 & linear & 2 & 3 & 1 & \\emph{missing} \\\\\n",
       "\t2 & linear & 3 & 4 & 1 & \\emph{missing} \\\\\n",
       "\t3 & cubic & \\emph{missing} & 126 & 1 & 5 \\\\\n",
       "\t4 & cubic & \\emph{missing} & 217 & 1 & 6 \\\\\n",
       "\t5 & linear & 2 & 4 & 2 & \\emph{missing} \\\\\n",
       "\t6 & linear & 3 & 5 & 2 & \\emph{missing} \\\\\n",
       "\t7 & cubic & \\emph{missing} & 127 & 2 & 5 \\\\\n",
       "\t8 & cubic & \\emph{missing} & 218 & 2 & 6 \\\\\n",
       "\\end{tabular}\n"
      ],
      "text/plain": [
       "\u001b[1m8×5 DataFrame\u001b[0m\n",
       "\u001b[1m Row \u001b[0m│\u001b[1m model   \u001b[0m\u001b[1m b       \u001b[0m\u001b[1m r      \u001b[0m\u001b[1m a      \u001b[0m\u001b[1m d       \u001b[0m\n",
       "     │\u001b[90m String? \u001b[0m\u001b[90m Int64?  \u001b[0m\u001b[90m Int64? \u001b[0m\u001b[90m Int64? \u001b[0m\u001b[90m Int64?  \u001b[0m\n",
       "─────┼───────────────────────────────────────────\n",
       "   1 │ linear         2       3       1 \u001b[90m missing \u001b[0m\n",
       "   2 │ linear         3       4       1 \u001b[90m missing \u001b[0m\n",
       "   3 │ cubic   \u001b[90m missing \u001b[0m    126       1        5\n",
       "   4 │ cubic   \u001b[90m missing \u001b[0m    217       1        6\n",
       "   5 │ linear         2       4       2 \u001b[90m missing \u001b[0m\n",
       "   6 │ linear         3       5       2 \u001b[90m missing \u001b[0m\n",
       "   7 │ cubic   \u001b[90m missing \u001b[0m    127       2        5\n",
       "   8 │ cubic   \u001b[90m missing \u001b[0m    218       2        6"
      ]
     },
     "metadata": {},
     "output_type": "display_data"
    }
   ],
   "source": [
    "using Query\n",
    "results"
   ]
  },
  {
   "cell_type": "markdown",
   "metadata": {},
   "source": [
    "Let's perform a basic query that we explain step-by-step:"
   ]
  },
  {
   "cell_type": "code",
   "execution_count": null,
   "metadata": {
    "vscode": {
     "languageId": "julia"
    }
   },
   "outputs": [
    {
     "data": {
      "text/html": [
       "<div><div style = \"float: left;\"><span>4×3 DataFrame</span></div><div style = \"clear: both;\"></div></div><div class = \"data-frame\" style = \"overflow-x: scroll;\"><table class = \"data-frame\" style = \"margin-bottom: 6px;\"><thead><tr class = \"header\"><th class = \"rowNumber\" style = \"font-weight: bold; text-align: right;\">Row</th><th style = \"text-align: left;\">a</th><th style = \"text-align: left;\">r</th><th style = \"text-align: left;\">rsquared</th></tr><tr class = \"subheader headerLastRow\"><th class = \"rowNumber\" style = \"font-weight: bold; text-align: right;\"></th><th title = \"Union{Missing, Int64}\" style = \"text-align: left;\">Int64?</th><th title = \"Union{Missing, Int64}\" style = \"text-align: left;\">Int64?</th><th title = \"Union{Missing, Int64}\" style = \"text-align: left;\">Int64?</th></tr></thead><tbody><tr><td class = \"rowNumber\" style = \"font-weight: bold; text-align: right;\">1</td><td style = \"text-align: right;\">1</td><td style = \"text-align: right;\">3</td><td style = \"text-align: right;\">9</td></tr><tr><td class = \"rowNumber\" style = \"font-weight: bold; text-align: right;\">2</td><td style = \"text-align: right;\">1</td><td style = \"text-align: right;\">4</td><td style = \"text-align: right;\">16</td></tr><tr><td class = \"rowNumber\" style = \"font-weight: bold; text-align: right;\">3</td><td style = \"text-align: right;\">2</td><td style = \"text-align: right;\">4</td><td style = \"text-align: right;\">16</td></tr><tr><td class = \"rowNumber\" style = \"font-weight: bold; text-align: right;\">4</td><td style = \"text-align: right;\">2</td><td style = \"text-align: right;\">5</td><td style = \"text-align: right;\">25</td></tr></tbody></table></div>"
      ],
      "text/latex": [
       "\\begin{tabular}{r|ccc}\n",
       "\t& a & r & rsquared\\\\\n",
       "\t\\hline\n",
       "\t& Int64? & Int64? & Int64?\\\\\n",
       "\t\\hline\n",
       "\t1 & 1 & 3 & 9 \\\\\n",
       "\t2 & 1 & 4 & 16 \\\\\n",
       "\t3 & 2 & 4 & 16 \\\\\n",
       "\t4 & 2 & 5 & 25 \\\\\n",
       "\\end{tabular}\n"
      ],
      "text/plain": [
       "\u001b[1m4×3 DataFrame\u001b[0m\n",
       "\u001b[1m Row \u001b[0m│\u001b[1m a      \u001b[0m\u001b[1m r      \u001b[0m\u001b[1m rsquared \u001b[0m\n",
       "     │\u001b[90m Int64? \u001b[0m\u001b[90m Int64? \u001b[0m\u001b[90m Int64?   \u001b[0m\n",
       "─────┼──────────────────────────\n",
       "   1 │      1       3         9\n",
       "   2 │      1       4        16\n",
       "   3 │      2       4        16\n",
       "   4 │      2       5        25"
      ]
     },
     "metadata": {},
     "output_type": "display_data"
    }
   ],
   "source": [
    "# `@from ... begin` initializes a query\n",
    "# here `row` (any name would be fine) is the\n",
    "# iterable of the tabular data. Think of it as a\n",
    "# NamedTuple. You can access its values by name with the . syntax\n",
    "q = @from row in results begin\n",
    "    # `@where` filters elements where the following\n",
    "    # expression is true.\n",
    "    @where row.model == \"linear\"\n",
    "    # `@select {stuff... } creates a new named tuple\n",
    "    @select {row.a, row.r, rsquared = row.r^2}\n",
    "    # `@collect` collects the selected results into\n",
    "    # the specified data structure\n",
    "    @collect DataFrame\n",
    "end"
   ]
  },
  {
   "cell_type": "markdown",
   "metadata": {},
   "source": [
    "As you can see, you don't have to necessarily collect only existing columns, you can even create new ones (specified by name).\n",
    "\n",
    "Of course, much, much more things are possible to do in such a query. For more, see the documentation of Query.jl."
   ]
  },
  {
   "cell_type": "markdown",
   "metadata": {},
   "source": [
    "# Exercises"
   ]
  },
  {
   "cell_type": "markdown",
   "metadata": {},
   "source": [
    "\n",
    "## Plotting subsets of a dataframe\n",
    "\n",
    "`DataFrames` has a default dataset that is used in its test suite. Install the `CSV` package, and load this dataset with the command:\n",
    "```julia\n",
    "using DataFrames, CSV\n",
    "iris = DataFrame(CSV.File(\n",
    "    joinpath(dirname(pathof(DataFrames)), \n",
    "    \"../docs/src/assets/iris.csv\")\n",
    "))\n",
    "```\n",
    "\n",
    "This dataset has various flower species (column `:Species`). For every species create a 1x2 figure with the following plots:\n",
    "\n",
    "* [1,1] = scatter plot of `SepalLength` vs `SepalWidth`. \n",
    "* [1,2] = scatter plot of `PetalLength` vs `PetalWidth`.\n",
    "\n",
    "for each of these sub-scatter plots, calculate and print the Pearson correlaton coefficient.\n"
   ]
  },
  {
   "cell_type": "markdown",
   "metadata": {},
   "source": []
  }
 ],
 "metadata": {
  "language_info": {
   "name": "python"
  }
 },
 "nbformat": 4,
 "nbformat_minor": 2
}
