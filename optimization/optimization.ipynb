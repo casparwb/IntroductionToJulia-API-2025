{
 "cells": [
  {
   "cell_type": "markdown",
   "metadata": {},
   "source": [
    "# Optimization with BlackBoxOptim.jl\n",
    "\n",
    "Julia offers an incredible array of optimization packages. There is an ongoing effort to build a _common interface_ across all optimization packages, which can be found in [Optimization.jl](https://docs.sciml.ai/Optimization/stable/). Here, we will show and use only a single optimization package, [BlackBoxOptim.jl](https://github.com/robertfeldt/BlackBoxOptim.jl), that focuses on blackbox optimization problems where the objective function cannot be defined in terms of simple mathematical equations, and is also not differentiable.\n",
    "\n",
    "Our goal is to find the parameter combinations for when the following dynamical system\n",
    "$$\n",
    "\\begin{aligned}\n",
    "\\dot{x} &= -\\mu x +yz \\\\\n",
    "\\dot{y} &= -\\mu y +x(z-\\alpha) \\\\\n",
    "\\dot{z} &= 1 - xz\n",
    "\\end{aligned}\n",
    "$$\n",
    "(called Rikitake's dynamo) has the largest maximum Lyapunov exponent. \n",
    "The computation of Lyapunov exponents is not a process one can straight-forwardly define, or even estimate, derivatives for, hence we turn to blackbox optimization.\n",
    "\n",
    "To use BlackBoxOptim.jl, we must first define an _objective_ or _cost function_: A  function taking in a vector of parameters and returning the objective we want to minimize;"
   ]
  },
  {
   "cell_type": "code",
   "execution_count": 2,
   "metadata": {},
   "outputs": [
    {
     "name": "stderr",
     "output_type": "stream",
     "text": [
      "\u001b[32m\u001b[1m  Activating\u001b[22m\u001b[39m project at `~/documents/presentations/IntroductionToJulia-API-2025`\n"
     ]
    }
   ],
   "source": [
    "import Pkg\n",
    "Pkg.activate(joinpath(@__DIR__, \"..\"))"
   ]
  },
  {
   "cell_type": "code",
   "execution_count": 3,
   "metadata": {},
   "outputs": [
    {
     "ename": "ArgumentError",
     "evalue": "ArgumentError: Package DynamicalSystems not found in current path.\n- Run `import Pkg; Pkg.add(\"DynamicalSystems\")` to install the DynamicalSystems package.",
     "output_type": "error",
     "traceback": [
      "ArgumentError: Package DynamicalSystems not found in current path.\n",
      "- Run `import Pkg; Pkg.add(\"DynamicalSystems\")` to install the DynamicalSystems package.\n",
      "\n",
      "Stacktrace:\n",
      "  [1] macro expansion\n",
      "    @ ./loading.jl:2296 [inlined]\n",
      "  [2] macro expansion\n",
      "    @ ./lock.jl:273 [inlined]\n",
      "  [3] __require(into::Module, mod::Symbol)\n",
      "    @ Base ./loading.jl:2271\n",
      "  [4] #invoke_in_world#3\n",
      "    @ ./essentials.jl:1089 [inlined]\n",
      "  [5] invoke_in_world\n",
      "    @ ./essentials.jl:1086 [inlined]\n",
      "  [6] require(into::Module, mod::Symbol)\n",
      "    @ Base ./loading.jl:2260\n",
      "  [7] eval\n",
      "    @ ./boot.jl:430 [inlined]\n",
      "  [8] include_string(mapexpr::typeof(REPL.softscope), mod::Module, code::String, filename::String)\n",
      "    @ Base ./loading.jl:2734\n",
      "  [9] #invokelatest#2\n",
      "    @ ./essentials.jl:1055 [inlined]\n",
      " [10] invokelatest\n",
      "    @ ./essentials.jl:1052 [inlined]\n",
      " [11] (::VSCodeServer.var\"#217#218\"{VSCodeServer.NotebookRunCellArguments, String})()\n",
      "    @ VSCodeServer ~/.vscode-server/extensions/julialang.language-julia-1.127.2/scripts/packages/VSCodeServer/src/serve_notebook.jl:24\n",
      " [12] withpath(f::VSCodeServer.var\"#217#218\"{VSCodeServer.NotebookRunCellArguments, String}, path::String)\n",
      "    @ VSCodeServer ~/.vscode-server/extensions/julialang.language-julia-1.127.2/scripts/packages/VSCodeServer/src/repl.jl:276\n",
      " [13] notebook_runcell_request(conn::VSCodeServer.JSONRPC.JSONRPCEndpoint{Base.PipeEndpoint, Base.PipeEndpoint}, params::VSCodeServer.NotebookRunCellArguments)\n",
      "    @ VSCodeServer ~/.vscode-server/extensions/julialang.language-julia-1.127.2/scripts/packages/VSCodeServer/src/serve_notebook.jl:13\n",
      " [14] dispatch_msg(x::VSCodeServer.JSONRPC.JSONRPCEndpoint{Base.PipeEndpoint, Base.PipeEndpoint}, dispatcher::VSCodeServer.JSONRPC.MsgDispatcher, msg::Dict{String, Any})\n",
      "    @ VSCodeServer.JSONRPC ~/.vscode-server/extensions/julialang.language-julia-1.127.2/scripts/packages/JSONRPC/src/typed.jl:67\n",
      " [15] serve_notebook(pipename::String, debugger_pipename::String, outputchannel_logger::Base.CoreLogging.SimpleLogger; error_handler::var\"#5#10\"{String})\n",
      "    @ VSCodeServer ~/.vscode-server/extensions/julialang.language-julia-1.127.2/scripts/packages/VSCodeServer/src/serve_notebook.jl:147\n",
      " [16] top-level scope\n",
      "    @ ~/.vscode-server/extensions/julialang.language-julia-1.127.2/scripts/notebook/notebook.jl:35"
     ]
    }
   ],
   "source": [
    "using DynamicalSystems\n",
    "\n",
    "# These are the dynamic rules of the dynamical system\n",
    "function rikitake_rule(u, p, t)\n",
    "    μ, α = p\n",
    "    x, y, z = u\n",
    "    xdot = -μ*x + y*z\n",
    "    ydot = -μ*y + x*(z - α)\n",
    "    zdot = 1 - x*y\n",
    "    return SVector(xdot, ydot, zdot)\n",
    "end\n",
    "\n",
    "# This is the objective function:\n",
    "function minus_lyapunov(p) # input is parameter values\n",
    "    u0 = SVector(1, 0, 0.6)\n",
    "    ds = CoupledODEs(rikitake_rule, u0, p)\n",
    "    λ = lyapunov(ds, 1000; Ttr = 10)\n",
    "    # return negative exponent because we minimize objective\n",
    "    return -λ\n",
    "end"
   ]
  },
  {
   "cell_type": "markdown",
   "metadata": {},
   "source": [
    "We will now attempt to \"optimize\" this objective `minus_lyapunov`, by providing a search range for the input vector `p` (which is the parameter container)"
   ]
  },
  {
   "cell_type": "code",
   "execution_count": 4,
   "metadata": {},
   "outputs": [
    {
     "ename": "UndefVarError",
     "evalue": "UndefVarError: `minus_lyapunov` not defined in `Main`\nSuggestion: check for spelling errors or missing imports.",
     "output_type": "error",
     "traceback": [
      "UndefVarError: `minus_lyapunov` not defined in `Main`\n",
      "Suggestion: check for spelling errors or missing imports.\n",
      "\n",
      "Stacktrace:\n",
      " [1] top-level scope\n",
      "   @ ~/documents/presentations/IntroductionToJulia-API-2025/optimization/jl_notebook_cell_df34fa98e69747e1a8f8a730347b8e2f_W3sdnNjb2RlLXJlbW90ZQ==.jl:6"
     ]
    }
   ],
   "source": [
    "using BlackBoxOptim\n",
    "\n",
    "μ_range = (0.0, 5.0)\n",
    "α_range = (-10.0, 10.0)\n",
    "\n",
    "bbres = bboptimize(minus_lyapunov; SearchRange = [μ_range, α_range], MaxTime = 30.0)"
   ]
  },
  {
   "cell_type": "code",
   "execution_count": 5,
   "metadata": {},
   "outputs": [
    {
     "ename": "UndefVarError",
     "evalue": "UndefVarError: `bbres` not defined in `Main`\nSuggestion: check for spelling errors or missing imports.",
     "output_type": "error",
     "traceback": [
      "UndefVarError: `bbres` not defined in `Main`\n",
      "Suggestion: check for spelling errors or missing imports.\n",
      "\n",
      "Stacktrace:\n",
      " [1] top-level scope\n",
      "   @ ~/documents/presentations/IntroductionToJulia-API-2025/optimization/jl_notebook_cell_df34fa98e69747e1a8f8a730347b8e2f_W4sdnNjb2RlLXJlbW90ZQ==.jl:1"
     ]
    }
   ],
   "source": [
    "pmax = best_candidate(bbres)"
   ]
  },
  {
   "cell_type": "code",
   "execution_count": 6,
   "metadata": {},
   "outputs": [
    {
     "ename": "UndefVarError",
     "evalue": "UndefVarError: `bbres` not defined in `Main`\nSuggestion: check for spelling errors or missing imports.",
     "output_type": "error",
     "traceback": [
      "UndefVarError: `bbres` not defined in `Main`\n",
      "Suggestion: check for spelling errors or missing imports.\n",
      "\n",
      "Stacktrace:\n",
      " [1] top-level scope\n",
      "   @ ~/documents/presentations/IntroductionToJulia-API-2025/optimization/jl_notebook_cell_df34fa98e69747e1a8f8a730347b8e2f_W5sdnNjb2RlLXJlbW90ZQ==.jl:1"
     ]
    }
   ],
   "source": [
    "λmax = -best_fitness(bbres)"
   ]
  },
  {
   "cell_type": "markdown",
   "metadata": {},
   "source": [
    "Let's also visualize the chaotic attractor for this parameter, because it looks super awesome!"
   ]
  },
  {
   "cell_type": "code",
   "execution_count": 7,
   "metadata": {},
   "outputs": [
    {
     "ename": "UndefVarError",
     "evalue": "UndefVarError: `CoupledODEs` not defined in `Main`\nSuggestion: check for spelling errors or missing imports.",
     "output_type": "error",
     "traceback": [
      "UndefVarError: `CoupledODEs` not defined in `Main`\n",
      "Suggestion: check for spelling errors or missing imports.\n",
      "\n",
      "Stacktrace:\n",
      " [1] top-level scope\n",
      "   @ ~/documents/presentations/IntroductionToJulia-API-2025/optimization/jl_notebook_cell_df34fa98e69747e1a8f8a730347b8e2f_X10sdnNjb2RlLXJlbW90ZQ==.jl:3"
     ]
    }
   ],
   "source": [
    "using CairoMakie\n",
    "\n",
    "ds = CoupledODEs(rikitake_rule, SVector(1, 0, 0.6), pmax)\n",
    "X, t = trajectory(ds, 1000.0; Ttr = 10, Δt = 0.01)\n",
    "fig, ax = lines(vec(X);\n",
    "    linewidth = 1.0, color = \"#7754cc\",\n",
    "    axis = (type = Axis3,), figure = (size = (800, 600), backgroundcolor = :transparent)\n",
    ")\n",
    "ax.azimuth = 2.1\n",
    "hidedecorations!(ax)\n",
    "hidespines!(ax)\n",
    "fig"
   ]
  },
  {
   "cell_type": "markdown",
   "metadata": {},
   "source": [
    "# Exercises"
   ]
  },
  {
   "cell_type": "markdown",
   "metadata": {},
   "source": [
    "## Textbook optimization problem\n",
    "Use BlackBoxOptim.jl to find the minimum of the Rosenbrock function, defined as\n",
    "$$\n",
    "f(x,y) = (2 - x)^2 + 100(y - x^2)^2\n",
    "$$\n",
    "limiting the search range to $x =(-5, 5)$ and $y = (0, 10)$. Confirm that the global minimum is $(2, 4)$.\n",
    "## Reproducible scientific project\n",
    "*this exercise only applies to participants that already know Git*\n",
    "\n",
    "* Use DrWatson's `initialize_project` to start a scientific project somewhere on your computer. \n",
    "* Add the packages `JLD2, Distributions` to this project. \n",
    "* In the `scripts` folder create a new Julia script that uses three parameters `a, b, c ∈ Reals` and creates a random result `r`. Save this result into disk by using `savename` to produce a name from `a, b, c`, and using `tagsave` to do the actual saving.\n",
    "* Save your script, and commit it into Git. Then run the script, load the saved file, and confirm that the saved git commit ID matches that of your Git repo.\n"
   ]
  },
  {
   "cell_type": "markdown",
   "metadata": {},
   "source": []
  }
 ],
 "metadata": {
  "kernelspec": {
   "display_name": "Julia 1.11.2",
   "language": "julia",
   "name": "julia-1.11"
  },
  "language_info": {
   "file_extension": ".jl",
   "mimetype": "application/julia",
   "name": "julia",
   "version": "1.11.2"
  }
 },
 "nbformat": 4,
 "nbformat_minor": 2
}
