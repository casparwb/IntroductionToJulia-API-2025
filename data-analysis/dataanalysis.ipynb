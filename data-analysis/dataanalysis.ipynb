{
 "cells": [
  {
   "cell_type": "markdown",
   "metadata": {},
   "source": [
    "# Tabular data with DataFrames.jl\n",
    "\n",
    "The `result` that we got above is a `DataFrame` from [DataFrames.jl](http://juliadata.github.io/DataFrames.jl/stable/), one of the major Julia packages for tabular data. \n"
   ]
  },
  {
   "cell_type": "code",
   "execution_count": 1,
   "metadata": {},
   "outputs": [
    {
     "name": "stderr",
     "output_type": "stream",
     "text": [
      "\u001b[32m\u001b[1m  Activating\u001b[22m\u001b[39m project at `~/documents/presentations/IntroductionToJulia-API-2025`\n"
     ]
    }
   ],
   "source": [
    "import Pkg\n",
    "Pkg.activate(joinpath(@__DIR__, \"..\"))"
   ]
  },
  {
   "cell_type": "code",
   "execution_count": 2,
   "metadata": {},
   "outputs": [],
   "source": [
    "using DataFrames, CSV"
   ]
  },
  {
   "cell_type": "markdown",
   "metadata": {},
   "source": [
    "In this notebook, we'll be working on a small dataset from [Kaggle](https://www.kaggle.com/datasets/deepu1109/star-dataset?resource=download), which contains observed features of a few stars. The data is stored in a `CSV` file, which we'll first read into a `DataFrame` object."
   ]
  },
  {
   "cell_type": "code",
   "execution_count": 5,
   "metadata": {},
   "outputs": [
    {
     "data": {
      "text/html": [
       "<div><div style = \"float: left;\"><span>240×7 DataFrame</span></div><div style = \"float: right;\"><span style = \"font-style: italic;\">215 rows omitted</span></div><div style = \"clear: both;\"></div></div><div class = \"data-frame\" style = \"overflow-x: scroll;\"><table class = \"data-frame\" style = \"margin-bottom: 6px;\"><thead><tr class = \"header\"><th class = \"rowNumber\" style = \"font-weight: bold; text-align: right;\">Row</th><th style = \"text-align: left;\">temperature_kelvin</th><th style = \"text-align: left;\">luminosity_Lsun</th><th style = \"text-align: left;\">radius_Rsun</th><th style = \"text-align: left;\">absolute_magnitude</th><th style = \"text-align: left;\">star_type</th><th style = \"text-align: left;\">star_colour</th><th style = \"text-align: left;\">spectral_class</th></tr><tr class = \"subheader headerLastRow\"><th class = \"rowNumber\" style = \"font-weight: bold; text-align: right;\"></th><th title = \"Int64\" style = \"text-align: left;\">Int64</th><th title = \"Float64\" style = \"text-align: left;\">Float64</th><th title = \"Float64\" style = \"text-align: left;\">Float64</th><th title = \"Float64\" style = \"text-align: left;\">Float64</th><th title = \"Int64\" style = \"text-align: left;\">Int64</th><th title = \"String31\" style = \"text-align: left;\">String31</th><th title = \"String1\" style = \"text-align: left;\">String1</th></tr></thead><tbody><tr><td class = \"rowNumber\" style = \"font-weight: bold; text-align: right;\">1</td><td style = \"text-align: right;\">3068</td><td style = \"text-align: right;\">0.0024</td><td style = \"text-align: right;\">0.17</td><td style = \"text-align: right;\">16.12</td><td style = \"text-align: right;\">0</td><td style = \"text-align: left;\">Red</td><td style = \"text-align: left;\">M</td></tr><tr><td class = \"rowNumber\" style = \"font-weight: bold; text-align: right;\">2</td><td style = \"text-align: right;\">3042</td><td style = \"text-align: right;\">0.0005</td><td style = \"text-align: right;\">0.1542</td><td style = \"text-align: right;\">16.6</td><td style = \"text-align: right;\">0</td><td style = \"text-align: left;\">Red</td><td style = \"text-align: left;\">M</td></tr><tr><td class = \"rowNumber\" style = \"font-weight: bold; text-align: right;\">3</td><td style = \"text-align: right;\">2600</td><td style = \"text-align: right;\">0.0003</td><td style = \"text-align: right;\">0.102</td><td style = \"text-align: right;\">18.7</td><td style = \"text-align: right;\">0</td><td style = \"text-align: left;\">Red</td><td style = \"text-align: left;\">M</td></tr><tr><td class = \"rowNumber\" style = \"font-weight: bold; text-align: right;\">4</td><td style = \"text-align: right;\">2800</td><td style = \"text-align: right;\">0.0002</td><td style = \"text-align: right;\">0.16</td><td style = \"text-align: right;\">16.65</td><td style = \"text-align: right;\">0</td><td style = \"text-align: left;\">Red</td><td style = \"text-align: left;\">M</td></tr><tr><td class = \"rowNumber\" style = \"font-weight: bold; text-align: right;\">5</td><td style = \"text-align: right;\">1939</td><td style = \"text-align: right;\">0.000138</td><td style = \"text-align: right;\">0.103</td><td style = \"text-align: right;\">20.06</td><td style = \"text-align: right;\">0</td><td style = \"text-align: left;\">Red</td><td style = \"text-align: left;\">M</td></tr><tr><td class = \"rowNumber\" style = \"font-weight: bold; text-align: right;\">6</td><td style = \"text-align: right;\">2840</td><td style = \"text-align: right;\">0.00065</td><td style = \"text-align: right;\">0.11</td><td style = \"text-align: right;\">16.98</td><td style = \"text-align: right;\">0</td><td style = \"text-align: left;\">Red</td><td style = \"text-align: left;\">M</td></tr><tr><td class = \"rowNumber\" style = \"font-weight: bold; text-align: right;\">7</td><td style = \"text-align: right;\">2637</td><td style = \"text-align: right;\">0.00073</td><td style = \"text-align: right;\">0.127</td><td style = \"text-align: right;\">17.22</td><td style = \"text-align: right;\">0</td><td style = \"text-align: left;\">Red</td><td style = \"text-align: left;\">M</td></tr><tr><td class = \"rowNumber\" style = \"font-weight: bold; text-align: right;\">8</td><td style = \"text-align: right;\">2600</td><td style = \"text-align: right;\">0.0004</td><td style = \"text-align: right;\">0.096</td><td style = \"text-align: right;\">17.4</td><td style = \"text-align: right;\">0</td><td style = \"text-align: left;\">Red</td><td style = \"text-align: left;\">M</td></tr><tr><td class = \"rowNumber\" style = \"font-weight: bold; text-align: right;\">9</td><td style = \"text-align: right;\">2650</td><td style = \"text-align: right;\">0.00069</td><td style = \"text-align: right;\">0.11</td><td style = \"text-align: right;\">17.45</td><td style = \"text-align: right;\">0</td><td style = \"text-align: left;\">Red</td><td style = \"text-align: left;\">M</td></tr><tr><td class = \"rowNumber\" style = \"font-weight: bold; text-align: right;\">10</td><td style = \"text-align: right;\">2700</td><td style = \"text-align: right;\">0.00018</td><td style = \"text-align: right;\">0.13</td><td style = \"text-align: right;\">16.05</td><td style = \"text-align: right;\">0</td><td style = \"text-align: left;\">Red</td><td style = \"text-align: left;\">M</td></tr><tr><td class = \"rowNumber\" style = \"font-weight: bold; text-align: right;\">11</td><td style = \"text-align: right;\">3600</td><td style = \"text-align: right;\">0.0029</td><td style = \"text-align: right;\">0.51</td><td style = \"text-align: right;\">10.69</td><td style = \"text-align: right;\">1</td><td style = \"text-align: left;\">Red</td><td style = \"text-align: left;\">M</td></tr><tr><td class = \"rowNumber\" style = \"font-weight: bold; text-align: right;\">12</td><td style = \"text-align: right;\">3129</td><td style = \"text-align: right;\">0.0122</td><td style = \"text-align: right;\">0.3761</td><td style = \"text-align: right;\">11.79</td><td style = \"text-align: right;\">1</td><td style = \"text-align: left;\">Red</td><td style = \"text-align: left;\">M</td></tr><tr><td class = \"rowNumber\" style = \"font-weight: bold; text-align: right;\">13</td><td style = \"text-align: right;\">3134</td><td style = \"text-align: right;\">0.0004</td><td style = \"text-align: right;\">0.196</td><td style = \"text-align: right;\">13.21</td><td style = \"text-align: right;\">1</td><td style = \"text-align: left;\">Red</td><td style = \"text-align: left;\">M</td></tr><tr><td style = \"text-align: right;\">&vellip;</td><td style = \"text-align: right;\">&vellip;</td><td style = \"text-align: right;\">&vellip;</td><td style = \"text-align: right;\">&vellip;</td><td style = \"text-align: right;\">&vellip;</td><td style = \"text-align: right;\">&vellip;</td><td style = \"text-align: right;\">&vellip;</td><td style = \"text-align: right;\">&vellip;</td></tr><tr><td class = \"rowNumber\" style = \"font-weight: bold; text-align: right;\">229</td><td style = \"text-align: right;\">23095</td><td style = \"text-align: right;\">347820.0</td><td style = \"text-align: right;\">86.0</td><td style = \"text-align: right;\">-5.905</td><td style = \"text-align: right;\">4</td><td style = \"text-align: left;\">Blue</td><td style = \"text-align: left;\">O</td></tr><tr><td class = \"rowNumber\" style = \"font-weight: bold; text-align: right;\">230</td><td style = \"text-align: right;\">21738</td><td style = \"text-align: right;\">748890.0</td><td style = \"text-align: right;\">92.0</td><td style = \"text-align: right;\">-7.346</td><td style = \"text-align: right;\">4</td><td style = \"text-align: left;\">Blue</td><td style = \"text-align: left;\">O</td></tr><tr><td class = \"rowNumber\" style = \"font-weight: bold; text-align: right;\">231</td><td style = \"text-align: right;\">24145</td><td style = \"text-align: right;\">382993.0</td><td style = \"text-align: right;\">1494.0</td><td style = \"text-align: right;\">-8.84</td><td style = \"text-align: right;\">5</td><td style = \"text-align: left;\">Blue-white</td><td style = \"text-align: left;\">B</td></tr><tr><td class = \"rowNumber\" style = \"font-weight: bold; text-align: right;\">232</td><td style = \"text-align: right;\">38234</td><td style = \"text-align: right;\">272830.0</td><td style = \"text-align: right;\">1356.0</td><td style = \"text-align: right;\">-9.29</td><td style = \"text-align: right;\">5</td><td style = \"text-align: left;\">Blue</td><td style = \"text-align: left;\">O</td></tr><tr><td class = \"rowNumber\" style = \"font-weight: bold; text-align: right;\">233</td><td style = \"text-align: right;\">32489</td><td style = \"text-align: right;\">648430.0</td><td style = \"text-align: right;\">1948.5</td><td style = \"text-align: right;\">-10.84</td><td style = \"text-align: right;\">5</td><td style = \"text-align: left;\">Blue</td><td style = \"text-align: left;\">O</td></tr><tr><td class = \"rowNumber\" style = \"font-weight: bold; text-align: right;\">234</td><td style = \"text-align: right;\">27739</td><td style = \"text-align: right;\">849420.0</td><td style = \"text-align: right;\">1252.0</td><td style = \"text-align: right;\">-7.59</td><td style = \"text-align: right;\">5</td><td style = \"text-align: left;\">Blue-white</td><td style = \"text-align: left;\">B</td></tr><tr><td class = \"rowNumber\" style = \"font-weight: bold; text-align: right;\">235</td><td style = \"text-align: right;\">21904</td><td style = \"text-align: right;\">748490.0</td><td style = \"text-align: right;\">1130.0</td><td style = \"text-align: right;\">-7.67</td><td style = \"text-align: right;\">5</td><td style = \"text-align: left;\">Blue-white</td><td style = \"text-align: left;\">B</td></tr><tr><td class = \"rowNumber\" style = \"font-weight: bold; text-align: right;\">236</td><td style = \"text-align: right;\">38940</td><td style = \"text-align: right;\">374830.0</td><td style = \"text-align: right;\">1356.0</td><td style = \"text-align: right;\">-9.93</td><td style = \"text-align: right;\">5</td><td style = \"text-align: left;\">Blue</td><td style = \"text-align: left;\">O</td></tr><tr><td class = \"rowNumber\" style = \"font-weight: bold; text-align: right;\">237</td><td style = \"text-align: right;\">30839</td><td style = \"text-align: right;\">834042.0</td><td style = \"text-align: right;\">1194.0</td><td style = \"text-align: right;\">-10.63</td><td style = \"text-align: right;\">5</td><td style = \"text-align: left;\">Blue</td><td style = \"text-align: left;\">O</td></tr><tr><td class = \"rowNumber\" style = \"font-weight: bold; text-align: right;\">238</td><td style = \"text-align: right;\">8829</td><td style = \"text-align: right;\">537493.0</td><td style = \"text-align: right;\">1423.0</td><td style = \"text-align: right;\">-10.73</td><td style = \"text-align: right;\">5</td><td style = \"text-align: left;\">White</td><td style = \"text-align: left;\">A</td></tr><tr><td class = \"rowNumber\" style = \"font-weight: bold; text-align: right;\">239</td><td style = \"text-align: right;\">9235</td><td style = \"text-align: right;\">404940.0</td><td style = \"text-align: right;\">1112.0</td><td style = \"text-align: right;\">-11.23</td><td style = \"text-align: right;\">5</td><td style = \"text-align: left;\">White</td><td style = \"text-align: left;\">A</td></tr><tr><td class = \"rowNumber\" style = \"font-weight: bold; text-align: right;\">240</td><td style = \"text-align: right;\">37882</td><td style = \"text-align: right;\">294903.0</td><td style = \"text-align: right;\">1783.0</td><td style = \"text-align: right;\">-7.8</td><td style = \"text-align: right;\">5</td><td style = \"text-align: left;\">Blue</td><td style = \"text-align: left;\">O</td></tr></tbody></table></div>"
      ],
      "text/latex": [
       "\\begin{tabular}{r|cccccc}\n",
       "\t& temperature\\_kelvin & luminosity\\_Lsun & radius\\_Rsun & absolute\\_magnitude & star\\_type & \\\\\n",
       "\t\\hline\n",
       "\t& Int64 & Float64 & Float64 & Float64 & Int64 & \\\\\n",
       "\t\\hline\n",
       "\t1 & 3068 & 0.0024 & 0.17 & 16.12 & 0 & $\\dots$ \\\\\n",
       "\t2 & 3042 & 0.0005 & 0.1542 & 16.6 & 0 & $\\dots$ \\\\\n",
       "\t3 & 2600 & 0.0003 & 0.102 & 18.7 & 0 & $\\dots$ \\\\\n",
       "\t4 & 2800 & 0.0002 & 0.16 & 16.65 & 0 & $\\dots$ \\\\\n",
       "\t5 & 1939 & 0.000138 & 0.103 & 20.06 & 0 & $\\dots$ \\\\\n",
       "\t6 & 2840 & 0.00065 & 0.11 & 16.98 & 0 & $\\dots$ \\\\\n",
       "\t7 & 2637 & 0.00073 & 0.127 & 17.22 & 0 & $\\dots$ \\\\\n",
       "\t8 & 2600 & 0.0004 & 0.096 & 17.4 & 0 & $\\dots$ \\\\\n",
       "\t9 & 2650 & 0.00069 & 0.11 & 17.45 & 0 & $\\dots$ \\\\\n",
       "\t10 & 2700 & 0.00018 & 0.13 & 16.05 & 0 & $\\dots$ \\\\\n",
       "\t11 & 3600 & 0.0029 & 0.51 & 10.69 & 1 & $\\dots$ \\\\\n",
       "\t12 & 3129 & 0.0122 & 0.3761 & 11.79 & 1 & $\\dots$ \\\\\n",
       "\t13 & 3134 & 0.0004 & 0.196 & 13.21 & 1 & $\\dots$ \\\\\n",
       "\t14 & 3628 & 0.0055 & 0.393 & 10.48 & 1 & $\\dots$ \\\\\n",
       "\t15 & 2650 & 0.0006 & 0.14 & 11.782 & 1 & $\\dots$ \\\\\n",
       "\t16 & 3340 & 0.0038 & 0.24 & 13.07 & 1 & $\\dots$ \\\\\n",
       "\t17 & 2799 & 0.0018 & 0.16 & 14.79 & 1 & $\\dots$ \\\\\n",
       "\t18 & 3692 & 0.00367 & 0.47 & 10.8 & 1 & $\\dots$ \\\\\n",
       "\t19 & 3192 & 0.00362 & 0.1967 & 13.53 & 1 & $\\dots$ \\\\\n",
       "\t20 & 3441 & 0.039 & 0.351 & 11.18 & 1 & $\\dots$ \\\\\n",
       "\t21 & 25000 & 0.056 & 0.0084 & 10.58 & 2 & $\\dots$ \\\\\n",
       "\t22 & 7740 & 0.00049 & 0.01234 & 14.02 & 2 & $\\dots$ \\\\\n",
       "\t23 & 7220 & 0.00017 & 0.011 & 14.23 & 2 & $\\dots$ \\\\\n",
       "\t24 & 8500 & 0.0005 & 0.01 & 14.5 & 2 & $\\dots$ \\\\\n",
       "\t$\\dots$ & $\\dots$ & $\\dots$ & $\\dots$ & $\\dots$ & $\\dots$ &  \\\\\n",
       "\\end{tabular}\n"
      ],
      "text/plain": [
       "\u001b[1m240×7 DataFrame\u001b[0m\n",
       "\u001b[1m Row \u001b[0m│\u001b[1m temperature_kelvin \u001b[0m\u001b[1m luminosity_Lsun \u001b[0m\u001b[1m radius_Rsun \u001b[0m\u001b[1m absolute_magnitude \u001b[0m\u001b[1m s\u001b[0m ⋯\n",
       "     │\u001b[90m Int64              \u001b[0m\u001b[90m Float64         \u001b[0m\u001b[90m Float64     \u001b[0m\u001b[90m Float64            \u001b[0m\u001b[90m I\u001b[0m ⋯\n",
       "─────┼──────────────────────────────────────────────────────────────────────────\n",
       "   1 │               3068         0.0024         0.17                16.12     ⋯\n",
       "   2 │               3042         0.0005         0.1542              16.6\n",
       "   3 │               2600         0.0003         0.102               18.7\n",
       "   4 │               2800         0.0002         0.16                16.65\n",
       "   5 │               1939         0.000138       0.103               20.06     ⋯\n",
       "   6 │               2840         0.00065        0.11                16.98\n",
       "   7 │               2637         0.00073        0.127               17.22\n",
       "   8 │               2600         0.0004         0.096               17.4\n",
       "  ⋮  │         ⋮                  ⋮              ⋮               ⋮             ⋱\n",
       " 234 │              27739    849420.0         1252.0                 -7.59     ⋯\n",
       " 235 │              21904    748490.0         1130.0                 -7.67\n",
       " 236 │              38940    374830.0         1356.0                 -9.93\n",
       " 237 │              30839    834042.0         1194.0                -10.63\n",
       " 238 │               8829    537493.0         1423.0                -10.73     ⋯\n",
       " 239 │               9235    404940.0         1112.0                -11.23\n",
       " 240 │              37882    294903.0         1783.0                 -7.8\n",
       "\u001b[36m                                                  3 columns and 225 rows omitted\u001b[0m"
      ]
     },
     "metadata": {},
     "output_type": "display_data"
    }
   ],
   "source": [
    "filepath = joinpath(@__DIR__, \"star_features.csv\") # path of data file\n",
    "df = CSV.read(filepath, DataFrame) # read the file and convert it to a `DataFrame` "
   ]
  },
  {
   "cell_type": "markdown",
   "metadata": {},
   "source": [
    "We can see that this dataframe has 240 rows and 7 columns. To get the names of the columns, you can call the `names` function on the dataframe."
   ]
  },
  {
   "cell_type": "code",
   "execution_count": 6,
   "metadata": {},
   "outputs": [
    {
     "data": {
      "text/plain": [
       "7-element Vector{String}:\n",
       " \"temperature_kelvin\"\n",
       " \"luminosity_Lsun\"\n",
       " \"radius_Rsun\"\n",
       " \"absolute_magnitude\"\n",
       " \"star_type\"\n",
       " \"star_colour\"\n",
       " \"spectral_class\""
      ]
     },
     "metadata": {},
     "output_type": "display_data"
    }
   ],
   "source": [
    "names(df)"
   ]
  },
  {
   "cell_type": "markdown",
   "metadata": {},
   "source": [
    "## Basic stuff\n",
    "One can do basic selection of these data, for example selecting specific columns, removing columns, adding new columns or rows, etc. In this notebook we won't be using the  `star_type` column, so let's remove it:"
   ]
  },
  {
   "cell_type": "code",
   "execution_count": 7,
   "metadata": {},
   "outputs": [
    {
     "data": {
      "text/html": [
       "<div><div style = \"float: left;\"><span>240×6 DataFrame</span></div><div style = \"float: right;\"><span style = \"font-style: italic;\">215 rows omitted</span></div><div style = \"clear: both;\"></div></div><div class = \"data-frame\" style = \"overflow-x: scroll;\"><table class = \"data-frame\" style = \"margin-bottom: 6px;\"><thead><tr class = \"header\"><th class = \"rowNumber\" style = \"font-weight: bold; text-align: right;\">Row</th><th style = \"text-align: left;\">temperature_kelvin</th><th style = \"text-align: left;\">luminosity_Lsun</th><th style = \"text-align: left;\">radius_Rsun</th><th style = \"text-align: left;\">absolute_magnitude</th><th style = \"text-align: left;\">star_colour</th><th style = \"text-align: left;\">spectral_class</th></tr><tr class = \"subheader headerLastRow\"><th class = \"rowNumber\" style = \"font-weight: bold; text-align: right;\"></th><th title = \"Int64\" style = \"text-align: left;\">Int64</th><th title = \"Float64\" style = \"text-align: left;\">Float64</th><th title = \"Float64\" style = \"text-align: left;\">Float64</th><th title = \"Float64\" style = \"text-align: left;\">Float64</th><th title = \"String31\" style = \"text-align: left;\">String31</th><th title = \"String1\" style = \"text-align: left;\">String1</th></tr></thead><tbody><tr><td class = \"rowNumber\" style = \"font-weight: bold; text-align: right;\">1</td><td style = \"text-align: right;\">3068</td><td style = \"text-align: right;\">0.0024</td><td style = \"text-align: right;\">0.17</td><td style = \"text-align: right;\">16.12</td><td style = \"text-align: left;\">Red</td><td style = \"text-align: left;\">M</td></tr><tr><td class = \"rowNumber\" style = \"font-weight: bold; text-align: right;\">2</td><td style = \"text-align: right;\">3042</td><td style = \"text-align: right;\">0.0005</td><td style = \"text-align: right;\">0.1542</td><td style = \"text-align: right;\">16.6</td><td style = \"text-align: left;\">Red</td><td style = \"text-align: left;\">M</td></tr><tr><td class = \"rowNumber\" style = \"font-weight: bold; text-align: right;\">3</td><td style = \"text-align: right;\">2600</td><td style = \"text-align: right;\">0.0003</td><td style = \"text-align: right;\">0.102</td><td style = \"text-align: right;\">18.7</td><td style = \"text-align: left;\">Red</td><td style = \"text-align: left;\">M</td></tr><tr><td class = \"rowNumber\" style = \"font-weight: bold; text-align: right;\">4</td><td style = \"text-align: right;\">2800</td><td style = \"text-align: right;\">0.0002</td><td style = \"text-align: right;\">0.16</td><td style = \"text-align: right;\">16.65</td><td style = \"text-align: left;\">Red</td><td style = \"text-align: left;\">M</td></tr><tr><td class = \"rowNumber\" style = \"font-weight: bold; text-align: right;\">5</td><td style = \"text-align: right;\">1939</td><td style = \"text-align: right;\">0.000138</td><td style = \"text-align: right;\">0.103</td><td style = \"text-align: right;\">20.06</td><td style = \"text-align: left;\">Red</td><td style = \"text-align: left;\">M</td></tr><tr><td class = \"rowNumber\" style = \"font-weight: bold; text-align: right;\">6</td><td style = \"text-align: right;\">2840</td><td style = \"text-align: right;\">0.00065</td><td style = \"text-align: right;\">0.11</td><td style = \"text-align: right;\">16.98</td><td style = \"text-align: left;\">Red</td><td style = \"text-align: left;\">M</td></tr><tr><td class = \"rowNumber\" style = \"font-weight: bold; text-align: right;\">7</td><td style = \"text-align: right;\">2637</td><td style = \"text-align: right;\">0.00073</td><td style = \"text-align: right;\">0.127</td><td style = \"text-align: right;\">17.22</td><td style = \"text-align: left;\">Red</td><td style = \"text-align: left;\">M</td></tr><tr><td class = \"rowNumber\" style = \"font-weight: bold; text-align: right;\">8</td><td style = \"text-align: right;\">2600</td><td style = \"text-align: right;\">0.0004</td><td style = \"text-align: right;\">0.096</td><td style = \"text-align: right;\">17.4</td><td style = \"text-align: left;\">Red</td><td style = \"text-align: left;\">M</td></tr><tr><td class = \"rowNumber\" style = \"font-weight: bold; text-align: right;\">9</td><td style = \"text-align: right;\">2650</td><td style = \"text-align: right;\">0.00069</td><td style = \"text-align: right;\">0.11</td><td style = \"text-align: right;\">17.45</td><td style = \"text-align: left;\">Red</td><td style = \"text-align: left;\">M</td></tr><tr><td class = \"rowNumber\" style = \"font-weight: bold; text-align: right;\">10</td><td style = \"text-align: right;\">2700</td><td style = \"text-align: right;\">0.00018</td><td style = \"text-align: right;\">0.13</td><td style = \"text-align: right;\">16.05</td><td style = \"text-align: left;\">Red</td><td style = \"text-align: left;\">M</td></tr><tr><td class = \"rowNumber\" style = \"font-weight: bold; text-align: right;\">11</td><td style = \"text-align: right;\">3600</td><td style = \"text-align: right;\">0.0029</td><td style = \"text-align: right;\">0.51</td><td style = \"text-align: right;\">10.69</td><td style = \"text-align: left;\">Red</td><td style = \"text-align: left;\">M</td></tr><tr><td class = \"rowNumber\" style = \"font-weight: bold; text-align: right;\">12</td><td style = \"text-align: right;\">3129</td><td style = \"text-align: right;\">0.0122</td><td style = \"text-align: right;\">0.3761</td><td style = \"text-align: right;\">11.79</td><td style = \"text-align: left;\">Red</td><td style = \"text-align: left;\">M</td></tr><tr><td class = \"rowNumber\" style = \"font-weight: bold; text-align: right;\">13</td><td style = \"text-align: right;\">3134</td><td style = \"text-align: right;\">0.0004</td><td style = \"text-align: right;\">0.196</td><td style = \"text-align: right;\">13.21</td><td style = \"text-align: left;\">Red</td><td style = \"text-align: left;\">M</td></tr><tr><td style = \"text-align: right;\">&vellip;</td><td style = \"text-align: right;\">&vellip;</td><td style = \"text-align: right;\">&vellip;</td><td style = \"text-align: right;\">&vellip;</td><td style = \"text-align: right;\">&vellip;</td><td style = \"text-align: right;\">&vellip;</td><td style = \"text-align: right;\">&vellip;</td></tr><tr><td class = \"rowNumber\" style = \"font-weight: bold; text-align: right;\">229</td><td style = \"text-align: right;\">23095</td><td style = \"text-align: right;\">347820.0</td><td style = \"text-align: right;\">86.0</td><td style = \"text-align: right;\">-5.905</td><td style = \"text-align: left;\">Blue</td><td style = \"text-align: left;\">O</td></tr><tr><td class = \"rowNumber\" style = \"font-weight: bold; text-align: right;\">230</td><td style = \"text-align: right;\">21738</td><td style = \"text-align: right;\">748890.0</td><td style = \"text-align: right;\">92.0</td><td style = \"text-align: right;\">-7.346</td><td style = \"text-align: left;\">Blue</td><td style = \"text-align: left;\">O</td></tr><tr><td class = \"rowNumber\" style = \"font-weight: bold; text-align: right;\">231</td><td style = \"text-align: right;\">24145</td><td style = \"text-align: right;\">382993.0</td><td style = \"text-align: right;\">1494.0</td><td style = \"text-align: right;\">-8.84</td><td style = \"text-align: left;\">Blue-white</td><td style = \"text-align: left;\">B</td></tr><tr><td class = \"rowNumber\" style = \"font-weight: bold; text-align: right;\">232</td><td style = \"text-align: right;\">38234</td><td style = \"text-align: right;\">272830.0</td><td style = \"text-align: right;\">1356.0</td><td style = \"text-align: right;\">-9.29</td><td style = \"text-align: left;\">Blue</td><td style = \"text-align: left;\">O</td></tr><tr><td class = \"rowNumber\" style = \"font-weight: bold; text-align: right;\">233</td><td style = \"text-align: right;\">32489</td><td style = \"text-align: right;\">648430.0</td><td style = \"text-align: right;\">1948.5</td><td style = \"text-align: right;\">-10.84</td><td style = \"text-align: left;\">Blue</td><td style = \"text-align: left;\">O</td></tr><tr><td class = \"rowNumber\" style = \"font-weight: bold; text-align: right;\">234</td><td style = \"text-align: right;\">27739</td><td style = \"text-align: right;\">849420.0</td><td style = \"text-align: right;\">1252.0</td><td style = \"text-align: right;\">-7.59</td><td style = \"text-align: left;\">Blue-white</td><td style = \"text-align: left;\">B</td></tr><tr><td class = \"rowNumber\" style = \"font-weight: bold; text-align: right;\">235</td><td style = \"text-align: right;\">21904</td><td style = \"text-align: right;\">748490.0</td><td style = \"text-align: right;\">1130.0</td><td style = \"text-align: right;\">-7.67</td><td style = \"text-align: left;\">Blue-white</td><td style = \"text-align: left;\">B</td></tr><tr><td class = \"rowNumber\" style = \"font-weight: bold; text-align: right;\">236</td><td style = \"text-align: right;\">38940</td><td style = \"text-align: right;\">374830.0</td><td style = \"text-align: right;\">1356.0</td><td style = \"text-align: right;\">-9.93</td><td style = \"text-align: left;\">Blue</td><td style = \"text-align: left;\">O</td></tr><tr><td class = \"rowNumber\" style = \"font-weight: bold; text-align: right;\">237</td><td style = \"text-align: right;\">30839</td><td style = \"text-align: right;\">834042.0</td><td style = \"text-align: right;\">1194.0</td><td style = \"text-align: right;\">-10.63</td><td style = \"text-align: left;\">Blue</td><td style = \"text-align: left;\">O</td></tr><tr><td class = \"rowNumber\" style = \"font-weight: bold; text-align: right;\">238</td><td style = \"text-align: right;\">8829</td><td style = \"text-align: right;\">537493.0</td><td style = \"text-align: right;\">1423.0</td><td style = \"text-align: right;\">-10.73</td><td style = \"text-align: left;\">White</td><td style = \"text-align: left;\">A</td></tr><tr><td class = \"rowNumber\" style = \"font-weight: bold; text-align: right;\">239</td><td style = \"text-align: right;\">9235</td><td style = \"text-align: right;\">404940.0</td><td style = \"text-align: right;\">1112.0</td><td style = \"text-align: right;\">-11.23</td><td style = \"text-align: left;\">White</td><td style = \"text-align: left;\">A</td></tr><tr><td class = \"rowNumber\" style = \"font-weight: bold; text-align: right;\">240</td><td style = \"text-align: right;\">37882</td><td style = \"text-align: right;\">294903.0</td><td style = \"text-align: right;\">1783.0</td><td style = \"text-align: right;\">-7.8</td><td style = \"text-align: left;\">Blue</td><td style = \"text-align: left;\">O</td></tr></tbody></table></div>"
      ],
      "text/latex": [
       "\\begin{tabular}{r|cccccc}\n",
       "\t& temperature\\_kelvin & luminosity\\_Lsun & radius\\_Rsun & absolute\\_magnitude & star\\_colour & \\\\\n",
       "\t\\hline\n",
       "\t& Int64 & Float64 & Float64 & Float64 & String31 & \\\\\n",
       "\t\\hline\n",
       "\t1 & 3068 & 0.0024 & 0.17 & 16.12 & Red & $\\dots$ \\\\\n",
       "\t2 & 3042 & 0.0005 & 0.1542 & 16.6 & Red & $\\dots$ \\\\\n",
       "\t3 & 2600 & 0.0003 & 0.102 & 18.7 & Red & $\\dots$ \\\\\n",
       "\t4 & 2800 & 0.0002 & 0.16 & 16.65 & Red & $\\dots$ \\\\\n",
       "\t5 & 1939 & 0.000138 & 0.103 & 20.06 & Red & $\\dots$ \\\\\n",
       "\t6 & 2840 & 0.00065 & 0.11 & 16.98 & Red & $\\dots$ \\\\\n",
       "\t7 & 2637 & 0.00073 & 0.127 & 17.22 & Red & $\\dots$ \\\\\n",
       "\t8 & 2600 & 0.0004 & 0.096 & 17.4 & Red & $\\dots$ \\\\\n",
       "\t9 & 2650 & 0.00069 & 0.11 & 17.45 & Red & $\\dots$ \\\\\n",
       "\t10 & 2700 & 0.00018 & 0.13 & 16.05 & Red & $\\dots$ \\\\\n",
       "\t11 & 3600 & 0.0029 & 0.51 & 10.69 & Red & $\\dots$ \\\\\n",
       "\t12 & 3129 & 0.0122 & 0.3761 & 11.79 & Red & $\\dots$ \\\\\n",
       "\t13 & 3134 & 0.0004 & 0.196 & 13.21 & Red & $\\dots$ \\\\\n",
       "\t14 & 3628 & 0.0055 & 0.393 & 10.48 & Red & $\\dots$ \\\\\n",
       "\t15 & 2650 & 0.0006 & 0.14 & 11.782 & Red & $\\dots$ \\\\\n",
       "\t16 & 3340 & 0.0038 & 0.24 & 13.07 & Red & $\\dots$ \\\\\n",
       "\t17 & 2799 & 0.0018 & 0.16 & 14.79 & Red & $\\dots$ \\\\\n",
       "\t18 & 3692 & 0.00367 & 0.47 & 10.8 & Red & $\\dots$ \\\\\n",
       "\t19 & 3192 & 0.00362 & 0.1967 & 13.53 & Red & $\\dots$ \\\\\n",
       "\t20 & 3441 & 0.039 & 0.351 & 11.18 & Red & $\\dots$ \\\\\n",
       "\t21 & 25000 & 0.056 & 0.0084 & 10.58 & Blue White & $\\dots$ \\\\\n",
       "\t22 & 7740 & 0.00049 & 0.01234 & 14.02 & White & $\\dots$ \\\\\n",
       "\t23 & 7220 & 0.00017 & 0.011 & 14.23 & White & $\\dots$ \\\\\n",
       "\t24 & 8500 & 0.0005 & 0.01 & 14.5 & White & $\\dots$ \\\\\n",
       "\t$\\dots$ & $\\dots$ & $\\dots$ & $\\dots$ & $\\dots$ & $\\dots$ &  \\\\\n",
       "\\end{tabular}\n"
      ],
      "text/plain": [
       "\u001b[1m240×6 DataFrame\u001b[0m\n",
       "\u001b[1m Row \u001b[0m│\u001b[1m temperature_kelvin \u001b[0m\u001b[1m luminosity_Lsun \u001b[0m\u001b[1m radius_Rsun \u001b[0m\u001b[1m absolute_magnitude \u001b[0m\u001b[1m s\u001b[0m ⋯\n",
       "     │\u001b[90m Int64              \u001b[0m\u001b[90m Float64         \u001b[0m\u001b[90m Float64     \u001b[0m\u001b[90m Float64            \u001b[0m\u001b[90m S\u001b[0m ⋯\n",
       "─────┼──────────────────────────────────────────────────────────────────────────\n",
       "   1 │               3068         0.0024         0.17                16.12   R ⋯\n",
       "   2 │               3042         0.0005         0.1542              16.6    R\n",
       "   3 │               2600         0.0003         0.102               18.7    R\n",
       "   4 │               2800         0.0002         0.16                16.65   R\n",
       "   5 │               1939         0.000138       0.103               20.06   R ⋯\n",
       "   6 │               2840         0.00065        0.11                16.98   R\n",
       "   7 │               2637         0.00073        0.127               17.22   R\n",
       "   8 │               2600         0.0004         0.096               17.4    R\n",
       "  ⋮  │         ⋮                  ⋮              ⋮               ⋮             ⋱\n",
       " 234 │              27739    849420.0         1252.0                 -7.59   B ⋯\n",
       " 235 │              21904    748490.0         1130.0                 -7.67   B\n",
       " 236 │              38940    374830.0         1356.0                 -9.93   B\n",
       " 237 │              30839    834042.0         1194.0                -10.63   B\n",
       " 238 │               8829    537493.0         1423.0                -10.73   W ⋯\n",
       " 239 │               9235    404940.0         1112.0                -11.23   W\n",
       " 240 │              37882    294903.0         1783.0                 -7.8    B\n",
       "\u001b[36m                                                  2 columns and 225 rows omitted\u001b[0m"
      ]
     },
     "metadata": {},
     "output_type": "display_data"
    }
   ],
   "source": [
    "select!(df, Not(:star_type))"
   ]
  },
  {
   "cell_type": "markdown",
   "metadata": {},
   "source": [
    "To access specific rows or columns you can access a dataframe like a matrix, e.g. `df[:, 1:3]` gives the first three rows while `df[:, [:a, :b]]` gives the rows selected by name.\n",
    "\n",
    "Adding new data to a dataframe is also straight forward. One can add new rows or new columns. New rows are added by either providing a vector (where the vector's length matches the number of columns), or by providing a named tuple that explicitly names which column gets which new value."
   ]
  },
  {
   "cell_type": "code",
   "execution_count": 8,
   "metadata": {},
   "outputs": [
    {
     "data": {
      "text/html": [
       "<div><div style = \"float: left;\"><span>3×3 DataFrame</span></div><div style = \"clear: both;\"></div></div><div class = \"data-frame\" style = \"overflow-x: scroll;\"><table class = \"data-frame\" style = \"margin-bottom: 6px;\"><thead><tr class = \"header\"><th class = \"rowNumber\" style = \"font-weight: bold; text-align: right;\">Row</th><th style = \"text-align: left;\">temperature_kelvin</th><th style = \"text-align: left;\">luminosity_Lsun</th><th style = \"text-align: left;\">radius_Rsun</th></tr><tr class = \"subheader headerLastRow\"><th class = \"rowNumber\" style = \"font-weight: bold; text-align: right;\"></th><th title = \"Int64\" style = \"text-align: left;\">Int64</th><th title = \"Float64\" style = \"text-align: left;\">Float64</th><th title = \"Float64\" style = \"text-align: left;\">Float64</th></tr></thead><tbody><tr><td class = \"rowNumber\" style = \"font-weight: bold; text-align: right;\">1</td><td style = \"text-align: right;\">3068</td><td style = \"text-align: right;\">0.0024</td><td style = \"text-align: right;\">0.17</td></tr><tr><td class = \"rowNumber\" style = \"font-weight: bold; text-align: right;\">2</td><td style = \"text-align: right;\">3042</td><td style = \"text-align: right;\">0.0005</td><td style = \"text-align: right;\">0.1542</td></tr><tr><td class = \"rowNumber\" style = \"font-weight: bold; text-align: right;\">3</td><td style = \"text-align: right;\">2600</td><td style = \"text-align: right;\">0.0003</td><td style = \"text-align: right;\">0.102</td></tr></tbody></table></div>"
      ],
      "text/latex": [
       "\\begin{tabular}{r|ccc}\n",
       "\t& temperature\\_kelvin & luminosity\\_Lsun & radius\\_Rsun\\\\\n",
       "\t\\hline\n",
       "\t& Int64 & Float64 & Float64\\\\\n",
       "\t\\hline\n",
       "\t1 & 3068 & 0.0024 & 0.17 \\\\\n",
       "\t2 & 3042 & 0.0005 & 0.1542 \\\\\n",
       "\t3 & 2600 & 0.0003 & 0.102 \\\\\n",
       "\\end{tabular}\n"
      ],
      "text/plain": [
       "\u001b[1m3×3 DataFrame\u001b[0m\n",
       "\u001b[1m Row \u001b[0m│\u001b[1m temperature_kelvin \u001b[0m\u001b[1m luminosity_Lsun \u001b[0m\u001b[1m radius_Rsun \u001b[0m\n",
       "     │\u001b[90m Int64              \u001b[0m\u001b[90m Float64         \u001b[0m\u001b[90m Float64     \u001b[0m\n",
       "─────┼──────────────────────────────────────────────────\n",
       "   1 │               3068           0.0024       0.17\n",
       "   2 │               3042           0.0005       0.1542\n",
       "   3 │               2600           0.0003       0.102"
      ]
     },
     "metadata": {},
     "output_type": "display_data"
    }
   ],
   "source": [
    "df1 = df[1:3, 1:3]"
   ]
  },
  {
   "cell_type": "code",
   "execution_count": 9,
   "metadata": {},
   "outputs": [
    {
     "data": {
      "text/html": [
       "<div><div style = \"float: left;\"><span>4×3 DataFrame</span></div><div style = \"clear: both;\"></div></div><div class = \"data-frame\" style = \"overflow-x: scroll;\"><table class = \"data-frame\" style = \"margin-bottom: 6px;\"><thead><tr class = \"header\"><th class = \"rowNumber\" style = \"font-weight: bold; text-align: right;\">Row</th><th style = \"text-align: left;\">temperature_kelvin</th><th style = \"text-align: left;\">luminosity_Lsun</th><th style = \"text-align: left;\">radius_Rsun</th></tr><tr class = \"subheader headerLastRow\"><th class = \"rowNumber\" style = \"font-weight: bold; text-align: right;\"></th><th title = \"Int64\" style = \"text-align: left;\">Int64</th><th title = \"Float64\" style = \"text-align: left;\">Float64</th><th title = \"Float64\" style = \"text-align: left;\">Float64</th></tr></thead><tbody><tr><td class = \"rowNumber\" style = \"font-weight: bold; text-align: right;\">1</td><td style = \"text-align: right;\">3068</td><td style = \"text-align: right;\">0.0024</td><td style = \"text-align: right;\">0.17</td></tr><tr><td class = \"rowNumber\" style = \"font-weight: bold; text-align: right;\">2</td><td style = \"text-align: right;\">3042</td><td style = \"text-align: right;\">0.0005</td><td style = \"text-align: right;\">0.1542</td></tr><tr><td class = \"rowNumber\" style = \"font-weight: bold; text-align: right;\">3</td><td style = \"text-align: right;\">2600</td><td style = \"text-align: right;\">0.0003</td><td style = \"text-align: right;\">0.102</td></tr><tr><td class = \"rowNumber\" style = \"font-weight: bold; text-align: right;\">4</td><td style = \"text-align: right;\">5772</td><td style = \"text-align: right;\">1.0</td><td style = \"text-align: right;\">1.0</td></tr></tbody></table></div>"
      ],
      "text/latex": [
       "\\begin{tabular}{r|ccc}\n",
       "\t& temperature\\_kelvin & luminosity\\_Lsun & radius\\_Rsun\\\\\n",
       "\t\\hline\n",
       "\t& Int64 & Float64 & Float64\\\\\n",
       "\t\\hline\n",
       "\t1 & 3068 & 0.0024 & 0.17 \\\\\n",
       "\t2 & 3042 & 0.0005 & 0.1542 \\\\\n",
       "\t3 & 2600 & 0.0003 & 0.102 \\\\\n",
       "\t4 & 5772 & 1.0 & 1.0 \\\\\n",
       "\\end{tabular}\n"
      ],
      "text/plain": [
       "\u001b[1m4×3 DataFrame\u001b[0m\n",
       "\u001b[1m Row \u001b[0m│\u001b[1m temperature_kelvin \u001b[0m\u001b[1m luminosity_Lsun \u001b[0m\u001b[1m radius_Rsun \u001b[0m\n",
       "     │\u001b[90m Int64              \u001b[0m\u001b[90m Float64         \u001b[0m\u001b[90m Float64     \u001b[0m\n",
       "─────┼──────────────────────────────────────────────────\n",
       "   1 │               3068           0.0024       0.17\n",
       "   2 │               3042           0.0005       0.1542\n",
       "   3 │               2600           0.0003       0.102\n",
       "   4 │               5772           1.0          1.0"
      ]
     },
     "metadata": {},
     "output_type": "display_data"
    }
   ],
   "source": [
    "# add new row by order of columns\n",
    "push!(df1, [5772, 1, 1])"
   ]
  },
  {
   "cell_type": "code",
   "execution_count": 10,
   "metadata": {},
   "outputs": [
    {
     "data": {
      "text/html": [
       "<div><div style = \"float: left;\"><span>5×3 DataFrame</span></div><div style = \"clear: both;\"></div></div><div class = \"data-frame\" style = \"overflow-x: scroll;\"><table class = \"data-frame\" style = \"margin-bottom: 6px;\"><thead><tr class = \"header\"><th class = \"rowNumber\" style = \"font-weight: bold; text-align: right;\">Row</th><th style = \"text-align: left;\">temperature_kelvin</th><th style = \"text-align: left;\">luminosity_Lsun</th><th style = \"text-align: left;\">radius_Rsun</th></tr><tr class = \"subheader headerLastRow\"><th class = \"rowNumber\" style = \"font-weight: bold; text-align: right;\"></th><th title = \"Int64\" style = \"text-align: left;\">Int64</th><th title = \"Float64\" style = \"text-align: left;\">Float64</th><th title = \"Float64\" style = \"text-align: left;\">Float64</th></tr></thead><tbody><tr><td class = \"rowNumber\" style = \"font-weight: bold; text-align: right;\">1</td><td style = \"text-align: right;\">3068</td><td style = \"text-align: right;\">0.0024</td><td style = \"text-align: right;\">0.17</td></tr><tr><td class = \"rowNumber\" style = \"font-weight: bold; text-align: right;\">2</td><td style = \"text-align: right;\">3042</td><td style = \"text-align: right;\">0.0005</td><td style = \"text-align: right;\">0.1542</td></tr><tr><td class = \"rowNumber\" style = \"font-weight: bold; text-align: right;\">3</td><td style = \"text-align: right;\">2600</td><td style = \"text-align: right;\">0.0003</td><td style = \"text-align: right;\">0.102</td></tr><tr><td class = \"rowNumber\" style = \"font-weight: bold; text-align: right;\">4</td><td style = \"text-align: right;\">5772</td><td style = \"text-align: right;\">1.0</td><td style = \"text-align: right;\">1.0</td></tr><tr><td class = \"rowNumber\" style = \"font-weight: bold; text-align: right;\">5</td><td style = \"text-align: right;\">3600</td><td style = \"text-align: right;\">65000.0</td><td style = \"text-align: right;\">640.0</td></tr></tbody></table></div>"
      ],
      "text/latex": [
       "\\begin{tabular}{r|ccc}\n",
       "\t& temperature\\_kelvin & luminosity\\_Lsun & radius\\_Rsun\\\\\n",
       "\t\\hline\n",
       "\t& Int64 & Float64 & Float64\\\\\n",
       "\t\\hline\n",
       "\t1 & 3068 & 0.0024 & 0.17 \\\\\n",
       "\t2 & 3042 & 0.0005 & 0.1542 \\\\\n",
       "\t3 & 2600 & 0.0003 & 0.102 \\\\\n",
       "\t4 & 5772 & 1.0 & 1.0 \\\\\n",
       "\t5 & 3600 & 65000.0 & 640.0 \\\\\n",
       "\\end{tabular}\n"
      ],
      "text/plain": [
       "\u001b[1m5×3 DataFrame\u001b[0m\n",
       "\u001b[1m Row \u001b[0m│\u001b[1m temperature_kelvin \u001b[0m\u001b[1m luminosity_Lsun \u001b[0m\u001b[1m radius_Rsun \u001b[0m\n",
       "     │\u001b[90m Int64              \u001b[0m\u001b[90m Float64         \u001b[0m\u001b[90m Float64     \u001b[0m\n",
       "─────┼──────────────────────────────────────────────────\n",
       "   1 │               3068           0.0024       0.17\n",
       "   2 │               3042           0.0005       0.1542\n",
       "   3 │               2600           0.0003       0.102\n",
       "   4 │               5772           1.0          1.0\n",
       "   5 │               3600       65000.0        640.0"
      ]
     },
     "metadata": {},
     "output_type": "display_data"
    }
   ],
   "source": [
    "# add new row by name of columnns\n",
    "push!(df1, (temperature_kelvin = 3600, radius_Rsun=640, luminosity_Lsun = 65_000))"
   ]
  },
  {
   "cell_type": "code",
   "execution_count": 12,
   "metadata": {},
   "outputs": [
    {
     "data": {
      "text/html": [
       "<div><div style = \"float: left;\"><span>5×5 DataFrame</span></div><div style = \"clear: both;\"></div></div><div class = \"data-frame\" style = \"overflow-x: scroll;\"><table class = \"data-frame\" style = \"margin-bottom: 6px;\"><thead><tr class = \"header\"><th class = \"rowNumber\" style = \"font-weight: bold; text-align: right;\">Row</th><th style = \"text-align: left;\">temperature_kelvin</th><th style = \"text-align: left;\">luminosity_Lsun</th><th style = \"text-align: left;\">radius_Rsun</th><th style = \"text-align: left;\">z</th><th style = \"text-align: left;\">random_columns</th></tr><tr class = \"subheader headerLastRow\"><th class = \"rowNumber\" style = \"font-weight: bold; text-align: right;\"></th><th title = \"Int64\" style = \"text-align: left;\">Int64</th><th title = \"Float64\" style = \"text-align: left;\">Float64</th><th title = \"Float64\" style = \"text-align: left;\">Float64</th><th title = \"Float64\" style = \"text-align: left;\">Float64</th><th title = \"Float64\" style = \"text-align: left;\">Float64</th></tr></thead><tbody><tr><td class = \"rowNumber\" style = \"font-weight: bold; text-align: right;\">1</td><td style = \"text-align: right;\">3068</td><td style = \"text-align: right;\">0.0024</td><td style = \"text-align: right;\">0.17</td><td style = \"text-align: right;\">0.328993</td><td style = \"text-align: right;\">0.310709</td></tr><tr><td class = \"rowNumber\" style = \"font-weight: bold; text-align: right;\">2</td><td style = \"text-align: right;\">3042</td><td style = \"text-align: right;\">0.0005</td><td style = \"text-align: right;\">0.1542</td><td style = \"text-align: right;\">0.734847</td><td style = \"text-align: right;\">0.990605</td></tr><tr><td class = \"rowNumber\" style = \"font-weight: bold; text-align: right;\">3</td><td style = \"text-align: right;\">2600</td><td style = \"text-align: right;\">0.0003</td><td style = \"text-align: right;\">0.102</td><td style = \"text-align: right;\">0.709464</td><td style = \"text-align: right;\">0.405073</td></tr><tr><td class = \"rowNumber\" style = \"font-weight: bold; text-align: right;\">4</td><td style = \"text-align: right;\">5772</td><td style = \"text-align: right;\">1.0</td><td style = \"text-align: right;\">1.0</td><td style = \"text-align: right;\">0.583744</td><td style = \"text-align: right;\">0.181268</td></tr><tr><td class = \"rowNumber\" style = \"font-weight: bold; text-align: right;\">5</td><td style = \"text-align: right;\">3600</td><td style = \"text-align: right;\">65000.0</td><td style = \"text-align: right;\">640.0</td><td style = \"text-align: right;\">0.425352</td><td style = \"text-align: right;\">0.15829</td></tr></tbody></table></div>"
      ],
      "text/latex": [
       "\\begin{tabular}{r|ccccc}\n",
       "\t& temperature\\_kelvin & luminosity\\_Lsun & radius\\_Rsun & z & random\\_columns\\\\\n",
       "\t\\hline\n",
       "\t& Int64 & Float64 & Float64 & Float64 & Float64\\\\\n",
       "\t\\hline\n",
       "\t1 & 3068 & 0.0024 & 0.17 & 0.328993 & 0.310709 \\\\\n",
       "\t2 & 3042 & 0.0005 & 0.1542 & 0.734847 & 0.990605 \\\\\n",
       "\t3 & 2600 & 0.0003 & 0.102 & 0.709464 & 0.405073 \\\\\n",
       "\t4 & 5772 & 1.0 & 1.0 & 0.583744 & 0.181268 \\\\\n",
       "\t5 & 3600 & 65000.0 & 640.0 & 0.425352 & 0.15829 \\\\\n",
       "\\end{tabular}\n"
      ],
      "text/plain": [
       "\u001b[1m5×5 DataFrame\u001b[0m\n",
       "\u001b[1m Row \u001b[0m│\u001b[1m temperature_kelvin \u001b[0m\u001b[1m luminosity_Lsun \u001b[0m\u001b[1m radius_Rsun \u001b[0m\u001b[1m z        \u001b[0m\u001b[1m random_colu\u001b[0m ⋯\n",
       "     │\u001b[90m Int64              \u001b[0m\u001b[90m Float64         \u001b[0m\u001b[90m Float64     \u001b[0m\u001b[90m Float64  \u001b[0m\u001b[90m Float64    \u001b[0m ⋯\n",
       "─────┼──────────────────────────────────────────────────────────────────────────\n",
       "   1 │               3068           0.0024       0.17    0.328993        0.310 ⋯\n",
       "   2 │               3042           0.0005       0.1542  0.734847        0.990\n",
       "   3 │               2600           0.0003       0.102   0.709464        0.405\n",
       "   4 │               5772           1.0          1.0     0.583744        0.181\n",
       "   5 │               3600       65000.0        640.0     0.425352        0.158 ⋯\n",
       "\u001b[36m                                                                1 column omitted\u001b[0m"
      ]
     },
     "metadata": {},
     "output_type": "display_data"
    }
   ],
   "source": [
    "# add new column with given name by field assignment\n",
    "df1.random_columns = rand(size(df1, 1))\n",
    "df1"
   ]
  },
  {
   "cell_type": "markdown",
   "metadata": {},
   "source": [
    "## Selecting specific rows"
   ]
  },
  {
   "cell_type": "markdown",
   "metadata": {},
   "source": [
    "There are many ways to select specific rows based on values of certain columns. For example, if we wanted to select the stars with effective temperatures below a certain value, we could do:"
   ]
  },
  {
   "cell_type": "code",
   "execution_count": 14,
   "metadata": {},
   "outputs": [
    {
     "data": {
      "text/html": [
       "<div><div style = \"float: left;\"><span>120×6 DataFrame</span></div><div style = \"float: right;\"><span style = \"font-style: italic;\">95 rows omitted</span></div><div style = \"clear: both;\"></div></div><div class = \"data-frame\" style = \"overflow-x: scroll;\"><table class = \"data-frame\" style = \"margin-bottom: 6px;\"><thead><tr class = \"header\"><th class = \"rowNumber\" style = \"font-weight: bold; text-align: right;\">Row</th><th style = \"text-align: left;\">temperature_kelvin</th><th style = \"text-align: left;\">luminosity_Lsun</th><th style = \"text-align: left;\">radius_Rsun</th><th style = \"text-align: left;\">absolute_magnitude</th><th style = \"text-align: left;\">star_colour</th><th style = \"text-align: left;\">spectral_class</th></tr><tr class = \"subheader headerLastRow\"><th class = \"rowNumber\" style = \"font-weight: bold; text-align: right;\"></th><th title = \"Int64\" style = \"text-align: left;\">Int64</th><th title = \"Float64\" style = \"text-align: left;\">Float64</th><th title = \"Float64\" style = \"text-align: left;\">Float64</th><th title = \"Float64\" style = \"text-align: left;\">Float64</th><th title = \"String31\" style = \"text-align: left;\">String31</th><th title = \"String1\" style = \"text-align: left;\">String1</th></tr></thead><tbody><tr><td class = \"rowNumber\" style = \"font-weight: bold; text-align: right;\">1</td><td style = \"text-align: right;\">3068</td><td style = \"text-align: right;\">0.0024</td><td style = \"text-align: right;\">0.17</td><td style = \"text-align: right;\">16.12</td><td style = \"text-align: left;\">Red</td><td style = \"text-align: left;\">M</td></tr><tr><td class = \"rowNumber\" style = \"font-weight: bold; text-align: right;\">2</td><td style = \"text-align: right;\">3042</td><td style = \"text-align: right;\">0.0005</td><td style = \"text-align: right;\">0.1542</td><td style = \"text-align: right;\">16.6</td><td style = \"text-align: left;\">Red</td><td style = \"text-align: left;\">M</td></tr><tr><td class = \"rowNumber\" style = \"font-weight: bold; text-align: right;\">3</td><td style = \"text-align: right;\">2600</td><td style = \"text-align: right;\">0.0003</td><td style = \"text-align: right;\">0.102</td><td style = \"text-align: right;\">18.7</td><td style = \"text-align: left;\">Red</td><td style = \"text-align: left;\">M</td></tr><tr><td class = \"rowNumber\" style = \"font-weight: bold; text-align: right;\">4</td><td style = \"text-align: right;\">2800</td><td style = \"text-align: right;\">0.0002</td><td style = \"text-align: right;\">0.16</td><td style = \"text-align: right;\">16.65</td><td style = \"text-align: left;\">Red</td><td style = \"text-align: left;\">M</td></tr><tr><td class = \"rowNumber\" style = \"font-weight: bold; text-align: right;\">5</td><td style = \"text-align: right;\">1939</td><td style = \"text-align: right;\">0.000138</td><td style = \"text-align: right;\">0.103</td><td style = \"text-align: right;\">20.06</td><td style = \"text-align: left;\">Red</td><td style = \"text-align: left;\">M</td></tr><tr><td class = \"rowNumber\" style = \"font-weight: bold; text-align: right;\">6</td><td style = \"text-align: right;\">2840</td><td style = \"text-align: right;\">0.00065</td><td style = \"text-align: right;\">0.11</td><td style = \"text-align: right;\">16.98</td><td style = \"text-align: left;\">Red</td><td style = \"text-align: left;\">M</td></tr><tr><td class = \"rowNumber\" style = \"font-weight: bold; text-align: right;\">7</td><td style = \"text-align: right;\">2637</td><td style = \"text-align: right;\">0.00073</td><td style = \"text-align: right;\">0.127</td><td style = \"text-align: right;\">17.22</td><td style = \"text-align: left;\">Red</td><td style = \"text-align: left;\">M</td></tr><tr><td class = \"rowNumber\" style = \"font-weight: bold; text-align: right;\">8</td><td style = \"text-align: right;\">2600</td><td style = \"text-align: right;\">0.0004</td><td style = \"text-align: right;\">0.096</td><td style = \"text-align: right;\">17.4</td><td style = \"text-align: left;\">Red</td><td style = \"text-align: left;\">M</td></tr><tr><td class = \"rowNumber\" style = \"font-weight: bold; text-align: right;\">9</td><td style = \"text-align: right;\">2650</td><td style = \"text-align: right;\">0.00069</td><td style = \"text-align: right;\">0.11</td><td style = \"text-align: right;\">17.45</td><td style = \"text-align: left;\">Red</td><td style = \"text-align: left;\">M</td></tr><tr><td class = \"rowNumber\" style = \"font-weight: bold; text-align: right;\">10</td><td style = \"text-align: right;\">2700</td><td style = \"text-align: right;\">0.00018</td><td style = \"text-align: right;\">0.13</td><td style = \"text-align: right;\">16.05</td><td style = \"text-align: left;\">Red</td><td style = \"text-align: left;\">M</td></tr><tr><td class = \"rowNumber\" style = \"font-weight: bold; text-align: right;\">11</td><td style = \"text-align: right;\">3600</td><td style = \"text-align: right;\">0.0029</td><td style = \"text-align: right;\">0.51</td><td style = \"text-align: right;\">10.69</td><td style = \"text-align: left;\">Red</td><td style = \"text-align: left;\">M</td></tr><tr><td class = \"rowNumber\" style = \"font-weight: bold; text-align: right;\">12</td><td style = \"text-align: right;\">3129</td><td style = \"text-align: right;\">0.0122</td><td style = \"text-align: right;\">0.3761</td><td style = \"text-align: right;\">11.79</td><td style = \"text-align: left;\">Red</td><td style = \"text-align: left;\">M</td></tr><tr><td class = \"rowNumber\" style = \"font-weight: bold; text-align: right;\">13</td><td style = \"text-align: right;\">3134</td><td style = \"text-align: right;\">0.0004</td><td style = \"text-align: right;\">0.196</td><td style = \"text-align: right;\">13.21</td><td style = \"text-align: left;\">Red</td><td style = \"text-align: left;\">M</td></tr><tr><td style = \"text-align: right;\">&vellip;</td><td style = \"text-align: right;\">&vellip;</td><td style = \"text-align: right;\">&vellip;</td><td style = \"text-align: right;\">&vellip;</td><td style = \"text-align: right;\">&vellip;</td><td style = \"text-align: right;\">&vellip;</td><td style = \"text-align: right;\">&vellip;</td></tr><tr><td class = \"rowNumber\" style = \"font-weight: bold; text-align: right;\">109</td><td style = \"text-align: right;\">2778</td><td style = \"text-align: right;\">0.000849</td><td style = \"text-align: right;\">0.112</td><td style = \"text-align: right;\">19.45</td><td style = \"text-align: left;\">Red</td><td style = \"text-align: left;\">M</td></tr><tr><td class = \"rowNumber\" style = \"font-weight: bold; text-align: right;\">110</td><td style = \"text-align: right;\">3523</td><td style = \"text-align: right;\">0.000957</td><td style = \"text-align: right;\">0.129</td><td style = \"text-align: right;\">16.35</td><td style = \"text-align: left;\">Red</td><td style = \"text-align: left;\">M</td></tr><tr><td class = \"rowNumber\" style = \"font-weight: bold; text-align: right;\">111</td><td style = \"text-align: right;\">3462</td><td style = \"text-align: right;\">0.0053</td><td style = \"text-align: right;\">0.148</td><td style = \"text-align: right;\">11.47</td><td style = \"text-align: left;\">Red</td><td style = \"text-align: left;\">M</td></tr><tr><td class = \"rowNumber\" style = \"font-weight: bold; text-align: right;\">112</td><td style = \"text-align: right;\">3257</td><td style = \"text-align: right;\">0.0024</td><td style = \"text-align: right;\">0.46</td><td style = \"text-align: right;\">10.73</td><td style = \"text-align: left;\">Red</td><td style = \"text-align: left;\">M</td></tr><tr><td class = \"rowNumber\" style = \"font-weight: bold; text-align: right;\">113</td><td style = \"text-align: right;\">2994</td><td style = \"text-align: right;\">0.0072</td><td style = \"text-align: right;\">0.28</td><td style = \"text-align: right;\">13.45</td><td style = \"text-align: left;\">Red</td><td style = \"text-align: left;\">M</td></tr><tr><td class = \"rowNumber\" style = \"font-weight: bold; text-align: right;\">114</td><td style = \"text-align: right;\">3212</td><td style = \"text-align: right;\">0.0016</td><td style = \"text-align: right;\">0.378</td><td style = \"text-align: right;\">12.854</td><td style = \"text-align: left;\">Red</td><td style = \"text-align: left;\">M</td></tr><tr><td class = \"rowNumber\" style = \"font-weight: bold; text-align: right;\">115</td><td style = \"text-align: right;\">3523</td><td style = \"text-align: right;\">0.0054</td><td style = \"text-align: right;\">0.319</td><td style = \"text-align: right;\">12.43</td><td style = \"text-align: left;\">Red</td><td style = \"text-align: left;\">M</td></tr><tr><td class = \"rowNumber\" style = \"font-weight: bold; text-align: right;\">116</td><td style = \"text-align: right;\">3598</td><td style = \"text-align: right;\">0.0027</td><td style = \"text-align: right;\">0.67</td><td style = \"text-align: right;\">13.667</td><td style = \"text-align: left;\">Red</td><td style = \"text-align: left;\">M</td></tr><tr><td class = \"rowNumber\" style = \"font-weight: bold; text-align: right;\">117</td><td style = \"text-align: right;\">3142</td><td style = \"text-align: right;\">0.00132</td><td style = \"text-align: right;\">0.258</td><td style = \"text-align: right;\">14.12</td><td style = \"text-align: left;\">Red</td><td style = \"text-align: left;\">M</td></tr><tr><td class = \"rowNumber\" style = \"font-weight: bold; text-align: right;\">118</td><td style = \"text-align: right;\">3496</td><td style = \"text-align: right;\">0.00125</td><td style = \"text-align: right;\">0.336</td><td style = \"text-align: right;\">14.94</td><td style = \"text-align: left;\">Red</td><td style = \"text-align: left;\">M</td></tr><tr><td class = \"rowNumber\" style = \"font-weight: bold; text-align: right;\">119</td><td style = \"text-align: right;\">3324</td><td style = \"text-align: right;\">0.0065</td><td style = \"text-align: right;\">0.471</td><td style = \"text-align: right;\">12.78</td><td style = \"text-align: left;\">Red</td><td style = \"text-align: left;\">M</td></tr><tr><td class = \"rowNumber\" style = \"font-weight: bold; text-align: right;\">120</td><td style = \"text-align: right;\">3463</td><td style = \"text-align: right;\">0.0027</td><td style = \"text-align: right;\">0.675</td><td style = \"text-align: right;\">14.776</td><td style = \"text-align: left;\">Red</td><td style = \"text-align: left;\">M</td></tr></tbody></table></div>"
      ],
      "text/latex": [
       "\\begin{tabular}{r|cccccc}\n",
       "\t& temperature\\_kelvin & luminosity\\_Lsun & radius\\_Rsun & absolute\\_magnitude & star\\_colour & \\\\\n",
       "\t\\hline\n",
       "\t& Int64 & Float64 & Float64 & Float64 & String31 & \\\\\n",
       "\t\\hline\n",
       "\t1 & 3068 & 0.0024 & 0.17 & 16.12 & Red & $\\dots$ \\\\\n",
       "\t2 & 3042 & 0.0005 & 0.1542 & 16.6 & Red & $\\dots$ \\\\\n",
       "\t3 & 2600 & 0.0003 & 0.102 & 18.7 & Red & $\\dots$ \\\\\n",
       "\t4 & 2800 & 0.0002 & 0.16 & 16.65 & Red & $\\dots$ \\\\\n",
       "\t5 & 1939 & 0.000138 & 0.103 & 20.06 & Red & $\\dots$ \\\\\n",
       "\t6 & 2840 & 0.00065 & 0.11 & 16.98 & Red & $\\dots$ \\\\\n",
       "\t7 & 2637 & 0.00073 & 0.127 & 17.22 & Red & $\\dots$ \\\\\n",
       "\t8 & 2600 & 0.0004 & 0.096 & 17.4 & Red & $\\dots$ \\\\\n",
       "\t9 & 2650 & 0.00069 & 0.11 & 17.45 & Red & $\\dots$ \\\\\n",
       "\t10 & 2700 & 0.00018 & 0.13 & 16.05 & Red & $\\dots$ \\\\\n",
       "\t11 & 3600 & 0.0029 & 0.51 & 10.69 & Red & $\\dots$ \\\\\n",
       "\t12 & 3129 & 0.0122 & 0.3761 & 11.79 & Red & $\\dots$ \\\\\n",
       "\t13 & 3134 & 0.0004 & 0.196 & 13.21 & Red & $\\dots$ \\\\\n",
       "\t14 & 3628 & 0.0055 & 0.393 & 10.48 & Red & $\\dots$ \\\\\n",
       "\t15 & 2650 & 0.0006 & 0.14 & 11.782 & Red & $\\dots$ \\\\\n",
       "\t16 & 3340 & 0.0038 & 0.24 & 13.07 & Red & $\\dots$ \\\\\n",
       "\t17 & 2799 & 0.0018 & 0.16 & 14.79 & Red & $\\dots$ \\\\\n",
       "\t18 & 3692 & 0.00367 & 0.47 & 10.8 & Red & $\\dots$ \\\\\n",
       "\t19 & 3192 & 0.00362 & 0.1967 & 13.53 & Red & $\\dots$ \\\\\n",
       "\t20 & 3441 & 0.039 & 0.351 & 11.18 & Red & $\\dots$ \\\\\n",
       "\t21 & 5587 & 0.819 & 0.99 & 5.03 & yellow-white & $\\dots$ \\\\\n",
       "\t22 & 3826 & 200000.0 & 19.0 & -6.93 & Red & $\\dots$ \\\\\n",
       "\t23 & 3365 & 340000.0 & 23.0 & -6.2 & Red & $\\dots$ \\\\\n",
       "\t24 & 3270 & 150000.0 & 88.0 & -6.02 & Red & $\\dots$ \\\\\n",
       "\t$\\dots$ & $\\dots$ & $\\dots$ & $\\dots$ & $\\dots$ & $\\dots$ &  \\\\\n",
       "\\end{tabular}\n"
      ],
      "text/plain": [
       "\u001b[1m120×6 DataFrame\u001b[0m\n",
       "\u001b[1m Row \u001b[0m│\u001b[1m temperature_kelvin \u001b[0m\u001b[1m luminosity_Lsun \u001b[0m\u001b[1m radius_Rsun \u001b[0m\u001b[1m absolute_magnitude \u001b[0m\u001b[1m s\u001b[0m ⋯\n",
       "     │\u001b[90m Int64              \u001b[0m\u001b[90m Float64         \u001b[0m\u001b[90m Float64     \u001b[0m\u001b[90m Float64            \u001b[0m\u001b[90m S\u001b[0m ⋯\n",
       "─────┼──────────────────────────────────────────────────────────────────────────\n",
       "   1 │               3068         0.0024         0.17                16.12   R ⋯\n",
       "   2 │               3042         0.0005         0.1542              16.6    R\n",
       "   3 │               2600         0.0003         0.102               18.7    R\n",
       "   4 │               2800         0.0002         0.16                16.65   R\n",
       "   5 │               1939         0.000138       0.103               20.06   R ⋯\n",
       "   6 │               2840         0.00065        0.11                16.98   R\n",
       "   7 │               2637         0.00073        0.127               17.22   R\n",
       "   8 │               2600         0.0004         0.096               17.4    R\n",
       "  ⋮  │         ⋮                  ⋮              ⋮               ⋮             ⋱\n",
       " 114 │               3212         0.0016         0.378               12.854  R ⋯\n",
       " 115 │               3523         0.0054         0.319               12.43   R\n",
       " 116 │               3598         0.0027         0.67                13.667  R\n",
       " 117 │               3142         0.00132        0.258               14.12   R\n",
       " 118 │               3496         0.00125        0.336               14.94   R ⋯\n",
       " 119 │               3324         0.0065         0.471               12.78   R\n",
       " 120 │               3463         0.0027         0.675               14.776  R\n",
       "\u001b[36m                                                  2 columns and 105 rows omitted\u001b[0m"
      ]
     },
     "metadata": {},
     "output_type": "display_data"
    }
   ],
   "source": [
    "df[df.temperature_kelvin .<= 5772, :] # select all the rows for which temperature_kelvin is less than or equal to 5772"
   ]
  },
  {
   "cell_type": "markdown",
   "metadata": {},
   "source": [
    "In that example, we also included all the columns. If we wanted to only get specific columns, we could do"
   ]
  },
  {
   "cell_type": "code",
   "execution_count": 16,
   "metadata": {},
   "outputs": [
    {
     "data": {
      "text/html": [
       "<div><div style = \"float: left;\"><span>120×2 DataFrame</span></div><div style = \"float: right;\"><span style = \"font-style: italic;\">95 rows omitted</span></div><div style = \"clear: both;\"></div></div><div class = \"data-frame\" style = \"overflow-x: scroll;\"><table class = \"data-frame\" style = \"margin-bottom: 6px;\"><thead><tr class = \"header\"><th class = \"rowNumber\" style = \"font-weight: bold; text-align: right;\">Row</th><th style = \"text-align: left;\">luminosity_Lsun</th><th style = \"text-align: left;\">radius_Rsun</th></tr><tr class = \"subheader headerLastRow\"><th class = \"rowNumber\" style = \"font-weight: bold; text-align: right;\"></th><th title = \"Float64\" style = \"text-align: left;\">Float64</th><th title = \"Float64\" style = \"text-align: left;\">Float64</th></tr></thead><tbody><tr><td class = \"rowNumber\" style = \"font-weight: bold; text-align: right;\">1</td><td style = \"text-align: right;\">0.0024</td><td style = \"text-align: right;\">0.17</td></tr><tr><td class = \"rowNumber\" style = \"font-weight: bold; text-align: right;\">2</td><td style = \"text-align: right;\">0.0005</td><td style = \"text-align: right;\">0.1542</td></tr><tr><td class = \"rowNumber\" style = \"font-weight: bold; text-align: right;\">3</td><td style = \"text-align: right;\">0.0003</td><td style = \"text-align: right;\">0.102</td></tr><tr><td class = \"rowNumber\" style = \"font-weight: bold; text-align: right;\">4</td><td style = \"text-align: right;\">0.0002</td><td style = \"text-align: right;\">0.16</td></tr><tr><td class = \"rowNumber\" style = \"font-weight: bold; text-align: right;\">5</td><td style = \"text-align: right;\">0.000138</td><td style = \"text-align: right;\">0.103</td></tr><tr><td class = \"rowNumber\" style = \"font-weight: bold; text-align: right;\">6</td><td style = \"text-align: right;\">0.00065</td><td style = \"text-align: right;\">0.11</td></tr><tr><td class = \"rowNumber\" style = \"font-weight: bold; text-align: right;\">7</td><td style = \"text-align: right;\">0.00073</td><td style = \"text-align: right;\">0.127</td></tr><tr><td class = \"rowNumber\" style = \"font-weight: bold; text-align: right;\">8</td><td style = \"text-align: right;\">0.0004</td><td style = \"text-align: right;\">0.096</td></tr><tr><td class = \"rowNumber\" style = \"font-weight: bold; text-align: right;\">9</td><td style = \"text-align: right;\">0.00069</td><td style = \"text-align: right;\">0.11</td></tr><tr><td class = \"rowNumber\" style = \"font-weight: bold; text-align: right;\">10</td><td style = \"text-align: right;\">0.00018</td><td style = \"text-align: right;\">0.13</td></tr><tr><td class = \"rowNumber\" style = \"font-weight: bold; text-align: right;\">11</td><td style = \"text-align: right;\">0.0029</td><td style = \"text-align: right;\">0.51</td></tr><tr><td class = \"rowNumber\" style = \"font-weight: bold; text-align: right;\">12</td><td style = \"text-align: right;\">0.0122</td><td style = \"text-align: right;\">0.3761</td></tr><tr><td class = \"rowNumber\" style = \"font-weight: bold; text-align: right;\">13</td><td style = \"text-align: right;\">0.0004</td><td style = \"text-align: right;\">0.196</td></tr><tr><td style = \"text-align: right;\">&vellip;</td><td style = \"text-align: right;\">&vellip;</td><td style = \"text-align: right;\">&vellip;</td></tr><tr><td class = \"rowNumber\" style = \"font-weight: bold; text-align: right;\">109</td><td style = \"text-align: right;\">0.000849</td><td style = \"text-align: right;\">0.112</td></tr><tr><td class = \"rowNumber\" style = \"font-weight: bold; text-align: right;\">110</td><td style = \"text-align: right;\">0.000957</td><td style = \"text-align: right;\">0.129</td></tr><tr><td class = \"rowNumber\" style = \"font-weight: bold; text-align: right;\">111</td><td style = \"text-align: right;\">0.0053</td><td style = \"text-align: right;\">0.148</td></tr><tr><td class = \"rowNumber\" style = \"font-weight: bold; text-align: right;\">112</td><td style = \"text-align: right;\">0.0024</td><td style = \"text-align: right;\">0.46</td></tr><tr><td class = \"rowNumber\" style = \"font-weight: bold; text-align: right;\">113</td><td style = \"text-align: right;\">0.0072</td><td style = \"text-align: right;\">0.28</td></tr><tr><td class = \"rowNumber\" style = \"font-weight: bold; text-align: right;\">114</td><td style = \"text-align: right;\">0.0016</td><td style = \"text-align: right;\">0.378</td></tr><tr><td class = \"rowNumber\" style = \"font-weight: bold; text-align: right;\">115</td><td style = \"text-align: right;\">0.0054</td><td style = \"text-align: right;\">0.319</td></tr><tr><td class = \"rowNumber\" style = \"font-weight: bold; text-align: right;\">116</td><td style = \"text-align: right;\">0.0027</td><td style = \"text-align: right;\">0.67</td></tr><tr><td class = \"rowNumber\" style = \"font-weight: bold; text-align: right;\">117</td><td style = \"text-align: right;\">0.00132</td><td style = \"text-align: right;\">0.258</td></tr><tr><td class = \"rowNumber\" style = \"font-weight: bold; text-align: right;\">118</td><td style = \"text-align: right;\">0.00125</td><td style = \"text-align: right;\">0.336</td></tr><tr><td class = \"rowNumber\" style = \"font-weight: bold; text-align: right;\">119</td><td style = \"text-align: right;\">0.0065</td><td style = \"text-align: right;\">0.471</td></tr><tr><td class = \"rowNumber\" style = \"font-weight: bold; text-align: right;\">120</td><td style = \"text-align: right;\">0.0027</td><td style = \"text-align: right;\">0.675</td></tr></tbody></table></div>"
      ],
      "text/latex": [
       "\\begin{tabular}{r|cc}\n",
       "\t& luminosity\\_Lsun & radius\\_Rsun\\\\\n",
       "\t\\hline\n",
       "\t& Float64 & Float64\\\\\n",
       "\t\\hline\n",
       "\t1 & 0.0024 & 0.17 \\\\\n",
       "\t2 & 0.0005 & 0.1542 \\\\\n",
       "\t3 & 0.0003 & 0.102 \\\\\n",
       "\t4 & 0.0002 & 0.16 \\\\\n",
       "\t5 & 0.000138 & 0.103 \\\\\n",
       "\t6 & 0.00065 & 0.11 \\\\\n",
       "\t7 & 0.00073 & 0.127 \\\\\n",
       "\t8 & 0.0004 & 0.096 \\\\\n",
       "\t9 & 0.00069 & 0.11 \\\\\n",
       "\t10 & 0.00018 & 0.13 \\\\\n",
       "\t11 & 0.0029 & 0.51 \\\\\n",
       "\t12 & 0.0122 & 0.3761 \\\\\n",
       "\t13 & 0.0004 & 0.196 \\\\\n",
       "\t14 & 0.0055 & 0.393 \\\\\n",
       "\t15 & 0.0006 & 0.14 \\\\\n",
       "\t16 & 0.0038 & 0.24 \\\\\n",
       "\t17 & 0.0018 & 0.16 \\\\\n",
       "\t18 & 0.00367 & 0.47 \\\\\n",
       "\t19 & 0.00362 & 0.1967 \\\\\n",
       "\t20 & 0.039 & 0.351 \\\\\n",
       "\t21 & 0.819 & 0.99 \\\\\n",
       "\t22 & 200000.0 & 19.0 \\\\\n",
       "\t23 & 340000.0 & 23.0 \\\\\n",
       "\t24 & 150000.0 & 88.0 \\\\\n",
       "\t$\\dots$ & $\\dots$ & $\\dots$ \\\\\n",
       "\\end{tabular}\n"
      ],
      "text/plain": [
       "\u001b[1m120×2 DataFrame\u001b[0m\n",
       "\u001b[1m Row \u001b[0m│\u001b[1m luminosity_Lsun \u001b[0m\u001b[1m radius_Rsun \u001b[0m\n",
       "     │\u001b[90m Float64         \u001b[0m\u001b[90m Float64     \u001b[0m\n",
       "─────┼──────────────────────────────\n",
       "   1 │        0.0024         0.17\n",
       "   2 │        0.0005         0.1542\n",
       "   3 │        0.0003         0.102\n",
       "   4 │        0.0002         0.16\n",
       "   5 │        0.000138       0.103\n",
       "   6 │        0.00065        0.11\n",
       "   7 │        0.00073        0.127\n",
       "   8 │        0.0004         0.096\n",
       "  ⋮  │        ⋮              ⋮\n",
       " 114 │        0.0016         0.378\n",
       " 115 │        0.0054         0.319\n",
       " 116 │        0.0027         0.67\n",
       " 117 │        0.00132        0.258\n",
       " 118 │        0.00125        0.336\n",
       " 119 │        0.0065         0.471\n",
       " 120 │        0.0027         0.675\n",
       "\u001b[36m                    105 rows omitted\u001b[0m"
      ]
     },
     "metadata": {},
     "output_type": "display_data"
    }
   ],
   "source": [
    "df[df.temperature_kelvin .<= 5772, [:luminosity_Lsun, :radius_Rsun]] # same as above, except we now only select two columns"
   ]
  },
  {
   "cell_type": "markdown",
   "metadata": {},
   "source": [
    "We can also combine conditional statements to make more specific selections."
   ]
  },
  {
   "cell_type": "code",
   "execution_count": 20,
   "metadata": {},
   "outputs": [
    {
     "data": {
      "text/html": [
       "<div><div style = \"float: left;\"><span>52×5 DataFrame</span></div><div style = \"float: right;\"><span style = \"font-style: italic;\">27 rows omitted</span></div><div style = \"clear: both;\"></div></div><div class = \"data-frame\" style = \"overflow-x: scroll;\"><table class = \"data-frame\" style = \"margin-bottom: 6px;\"><thead><tr class = \"header\"><th class = \"rowNumber\" style = \"font-weight: bold; text-align: right;\">Row</th><th style = \"text-align: left;\">temperature_kelvin</th><th style = \"text-align: left;\">luminosity_Lsun</th><th style = \"text-align: left;\">radius_Rsun</th><th style = \"text-align: left;\">absolute_magnitude</th><th style = \"text-align: left;\">spectral_class</th></tr><tr class = \"subheader headerLastRow\"><th class = \"rowNumber\" style = \"font-weight: bold; text-align: right;\"></th><th title = \"Int64\" style = \"text-align: left;\">Int64</th><th title = \"Float64\" style = \"text-align: left;\">Float64</th><th title = \"Float64\" style = \"text-align: left;\">Float64</th><th title = \"Float64\" style = \"text-align: left;\">Float64</th><th title = \"String1\" style = \"text-align: left;\">String1</th></tr></thead><tbody><tr><td class = \"rowNumber\" style = \"font-weight: bold; text-align: right;\">1</td><td style = \"text-align: right;\">3068</td><td style = \"text-align: right;\">0.0024</td><td style = \"text-align: right;\">0.17</td><td style = \"text-align: right;\">16.12</td><td style = \"text-align: left;\">M</td></tr><tr><td class = \"rowNumber\" style = \"font-weight: bold; text-align: right;\">2</td><td style = \"text-align: right;\">3042</td><td style = \"text-align: right;\">0.0005</td><td style = \"text-align: right;\">0.1542</td><td style = \"text-align: right;\">16.6</td><td style = \"text-align: left;\">M</td></tr><tr><td class = \"rowNumber\" style = \"font-weight: bold; text-align: right;\">3</td><td style = \"text-align: right;\">2800</td><td style = \"text-align: right;\">0.0002</td><td style = \"text-align: right;\">0.16</td><td style = \"text-align: right;\">16.65</td><td style = \"text-align: left;\">M</td></tr><tr><td class = \"rowNumber\" style = \"font-weight: bold; text-align: right;\">4</td><td style = \"text-align: right;\">2637</td><td style = \"text-align: right;\">0.00073</td><td style = \"text-align: right;\">0.127</td><td style = \"text-align: right;\">17.22</td><td style = \"text-align: left;\">M</td></tr><tr><td class = \"rowNumber\" style = \"font-weight: bold; text-align: right;\">5</td><td style = \"text-align: right;\">2700</td><td style = \"text-align: right;\">0.00018</td><td style = \"text-align: right;\">0.13</td><td style = \"text-align: right;\">16.05</td><td style = \"text-align: left;\">M</td></tr><tr><td class = \"rowNumber\" style = \"font-weight: bold; text-align: right;\">6</td><td style = \"text-align: right;\">3600</td><td style = \"text-align: right;\">0.0029</td><td style = \"text-align: right;\">0.51</td><td style = \"text-align: right;\">10.69</td><td style = \"text-align: left;\">M</td></tr><tr><td class = \"rowNumber\" style = \"font-weight: bold; text-align: right;\">7</td><td style = \"text-align: right;\">3129</td><td style = \"text-align: right;\">0.0122</td><td style = \"text-align: right;\">0.3761</td><td style = \"text-align: right;\">11.79</td><td style = \"text-align: left;\">M</td></tr><tr><td class = \"rowNumber\" style = \"font-weight: bold; text-align: right;\">8</td><td style = \"text-align: right;\">3134</td><td style = \"text-align: right;\">0.0004</td><td style = \"text-align: right;\">0.196</td><td style = \"text-align: right;\">13.21</td><td style = \"text-align: left;\">M</td></tr><tr><td class = \"rowNumber\" style = \"font-weight: bold; text-align: right;\">9</td><td style = \"text-align: right;\">3628</td><td style = \"text-align: right;\">0.0055</td><td style = \"text-align: right;\">0.393</td><td style = \"text-align: right;\">10.48</td><td style = \"text-align: left;\">M</td></tr><tr><td class = \"rowNumber\" style = \"font-weight: bold; text-align: right;\">10</td><td style = \"text-align: right;\">2650</td><td style = \"text-align: right;\">0.0006</td><td style = \"text-align: right;\">0.14</td><td style = \"text-align: right;\">11.782</td><td style = \"text-align: left;\">M</td></tr><tr><td class = \"rowNumber\" style = \"font-weight: bold; text-align: right;\">11</td><td style = \"text-align: right;\">3340</td><td style = \"text-align: right;\">0.0038</td><td style = \"text-align: right;\">0.24</td><td style = \"text-align: right;\">13.07</td><td style = \"text-align: left;\">M</td></tr><tr><td class = \"rowNumber\" style = \"font-weight: bold; text-align: right;\">12</td><td style = \"text-align: right;\">2799</td><td style = \"text-align: right;\">0.0018</td><td style = \"text-align: right;\">0.16</td><td style = \"text-align: right;\">14.79</td><td style = \"text-align: left;\">M</td></tr><tr><td class = \"rowNumber\" style = \"font-weight: bold; text-align: right;\">13</td><td style = \"text-align: right;\">3692</td><td style = \"text-align: right;\">0.00367</td><td style = \"text-align: right;\">0.47</td><td style = \"text-align: right;\">10.8</td><td style = \"text-align: left;\">M</td></tr><tr><td style = \"text-align: right;\">&vellip;</td><td style = \"text-align: right;\">&vellip;</td><td style = \"text-align: right;\">&vellip;</td><td style = \"text-align: right;\">&vellip;</td><td style = \"text-align: right;\">&vellip;</td><td style = \"text-align: right;\">&vellip;</td></tr><tr><td class = \"rowNumber\" style = \"font-weight: bold; text-align: right;\">41</td><td style = \"text-align: right;\">3419</td><td style = \"text-align: right;\">0.000245</td><td style = \"text-align: right;\">0.126</td><td style = \"text-align: right;\">17.56</td><td style = \"text-align: left;\">M</td></tr><tr><td class = \"rowNumber\" style = \"font-weight: bold; text-align: right;\">42</td><td style = \"text-align: right;\">2968</td><td style = \"text-align: right;\">0.000461</td><td style = \"text-align: right;\">0.119</td><td style = \"text-align: right;\">17.45</td><td style = \"text-align: left;\">M</td></tr><tr><td class = \"rowNumber\" style = \"font-weight: bold; text-align: right;\">43</td><td style = \"text-align: right;\">2778</td><td style = \"text-align: right;\">0.000849</td><td style = \"text-align: right;\">0.112</td><td style = \"text-align: right;\">19.45</td><td style = \"text-align: left;\">M</td></tr><tr><td class = \"rowNumber\" style = \"font-weight: bold; text-align: right;\">44</td><td style = \"text-align: right;\">3523</td><td style = \"text-align: right;\">0.000957</td><td style = \"text-align: right;\">0.129</td><td style = \"text-align: right;\">16.35</td><td style = \"text-align: left;\">M</td></tr><tr><td class = \"rowNumber\" style = \"font-weight: bold; text-align: right;\">45</td><td style = \"text-align: right;\">3462</td><td style = \"text-align: right;\">0.0053</td><td style = \"text-align: right;\">0.148</td><td style = \"text-align: right;\">11.47</td><td style = \"text-align: left;\">M</td></tr><tr><td class = \"rowNumber\" style = \"font-weight: bold; text-align: right;\">46</td><td style = \"text-align: right;\">3257</td><td style = \"text-align: right;\">0.0024</td><td style = \"text-align: right;\">0.46</td><td style = \"text-align: right;\">10.73</td><td style = \"text-align: left;\">M</td></tr><tr><td class = \"rowNumber\" style = \"font-weight: bold; text-align: right;\">47</td><td style = \"text-align: right;\">2994</td><td style = \"text-align: right;\">0.0072</td><td style = \"text-align: right;\">0.28</td><td style = \"text-align: right;\">13.45</td><td style = \"text-align: left;\">M</td></tr><tr><td class = \"rowNumber\" style = \"font-weight: bold; text-align: right;\">48</td><td style = \"text-align: right;\">3212</td><td style = \"text-align: right;\">0.0016</td><td style = \"text-align: right;\">0.378</td><td style = \"text-align: right;\">12.854</td><td style = \"text-align: left;\">M</td></tr><tr><td class = \"rowNumber\" style = \"font-weight: bold; text-align: right;\">49</td><td style = \"text-align: right;\">3523</td><td style = \"text-align: right;\">0.0054</td><td style = \"text-align: right;\">0.319</td><td style = \"text-align: right;\">12.43</td><td style = \"text-align: left;\">M</td></tr><tr><td class = \"rowNumber\" style = \"font-weight: bold; text-align: right;\">50</td><td style = \"text-align: right;\">3142</td><td style = \"text-align: right;\">0.00132</td><td style = \"text-align: right;\">0.258</td><td style = \"text-align: right;\">14.12</td><td style = \"text-align: left;\">M</td></tr><tr><td class = \"rowNumber\" style = \"font-weight: bold; text-align: right;\">51</td><td style = \"text-align: right;\">3496</td><td style = \"text-align: right;\">0.00125</td><td style = \"text-align: right;\">0.336</td><td style = \"text-align: right;\">14.94</td><td style = \"text-align: left;\">M</td></tr><tr><td class = \"rowNumber\" style = \"font-weight: bold; text-align: right;\">52</td><td style = \"text-align: right;\">3324</td><td style = \"text-align: right;\">0.0065</td><td style = \"text-align: right;\">0.471</td><td style = \"text-align: right;\">12.78</td><td style = \"text-align: left;\">M</td></tr></tbody></table></div>"
      ],
      "text/latex": [
       "\\begin{tabular}{r|ccccc}\n",
       "\t& temperature\\_kelvin & luminosity\\_Lsun & radius\\_Rsun & absolute\\_magnitude & spectral\\_class\\\\\n",
       "\t\\hline\n",
       "\t& Int64 & Float64 & Float64 & Float64 & String1\\\\\n",
       "\t\\hline\n",
       "\t1 & 3068 & 0.0024 & 0.17 & 16.12 & M \\\\\n",
       "\t2 & 3042 & 0.0005 & 0.1542 & 16.6 & M \\\\\n",
       "\t3 & 2800 & 0.0002 & 0.16 & 16.65 & M \\\\\n",
       "\t4 & 2637 & 0.00073 & 0.127 & 17.22 & M \\\\\n",
       "\t5 & 2700 & 0.00018 & 0.13 & 16.05 & M \\\\\n",
       "\t6 & 3600 & 0.0029 & 0.51 & 10.69 & M \\\\\n",
       "\t7 & 3129 & 0.0122 & 0.3761 & 11.79 & M \\\\\n",
       "\t8 & 3134 & 0.0004 & 0.196 & 13.21 & M \\\\\n",
       "\t9 & 3628 & 0.0055 & 0.393 & 10.48 & M \\\\\n",
       "\t10 & 2650 & 0.0006 & 0.14 & 11.782 & M \\\\\n",
       "\t11 & 3340 & 0.0038 & 0.24 & 13.07 & M \\\\\n",
       "\t12 & 2799 & 0.0018 & 0.16 & 14.79 & M \\\\\n",
       "\t13 & 3692 & 0.00367 & 0.47 & 10.8 & M \\\\\n",
       "\t14 & 3192 & 0.00362 & 0.1967 & 13.53 & M \\\\\n",
       "\t15 & 3441 & 0.039 & 0.351 & 11.18 & M \\\\\n",
       "\t16 & 3432 & 0.00067 & 0.19 & 16.94 & M \\\\\n",
       "\t17 & 2935 & 0.00014 & 0.116 & 18.89 & M \\\\\n",
       "\t18 & 3295 & 0.00098 & 0.132 & 17.13 & M \\\\\n",
       "\t19 & 2774 & 0.00036 & 0.118 & 17.39 & M \\\\\n",
       "\t20 & 2871 & 0.00072 & 0.12 & 19.43 & M \\\\\n",
       "\t21 & 3345 & 0.021 & 0.273 & 12.3 & M \\\\\n",
       "\t22 & 3607 & 0.022 & 0.38 & 10.12 & M \\\\\n",
       "\t23 & 3304 & 0.0085 & 0.18 & 13.2 & M \\\\\n",
       "\t24 & 3150 & 0.0088 & 0.35 & 11.94 & M \\\\\n",
       "\t$\\dots$ & $\\dots$ & $\\dots$ & $\\dots$ & $\\dots$ & $\\dots$ \\\\\n",
       "\\end{tabular}\n"
      ],
      "text/plain": [
       "\u001b[1m52×5 DataFrame\u001b[0m\n",
       "\u001b[1m Row \u001b[0m│\u001b[1m temperature_kelvin \u001b[0m\u001b[1m luminosity_Lsun \u001b[0m\u001b[1m radius_Rsun \u001b[0m\u001b[1m absolute_magnitude \u001b[0m\u001b[1m s\u001b[0m ⋯\n",
       "     │\u001b[90m Int64              \u001b[0m\u001b[90m Float64         \u001b[0m\u001b[90m Float64     \u001b[0m\u001b[90m Float64            \u001b[0m\u001b[90m S\u001b[0m ⋯\n",
       "─────┼──────────────────────────────────────────────────────────────────────────\n",
       "   1 │               3068         0.0024         0.17                16.12   M ⋯\n",
       "   2 │               3042         0.0005         0.1542              16.6    M\n",
       "   3 │               2800         0.0002         0.16                16.65   M\n",
       "   4 │               2637         0.00073        0.127               17.22   M\n",
       "   5 │               2700         0.00018        0.13                16.05   M ⋯\n",
       "   6 │               3600         0.0029         0.51                10.69   M\n",
       "   7 │               3129         0.0122         0.3761              11.79   M\n",
       "   8 │               3134         0.0004         0.196               13.21   M\n",
       "  ⋮  │         ⋮                  ⋮              ⋮               ⋮             ⋱\n",
       "  46 │               3257         0.0024         0.46                10.73   M ⋯\n",
       "  47 │               2994         0.0072         0.28                13.45   M\n",
       "  48 │               3212         0.0016         0.378               12.854  M\n",
       "  49 │               3523         0.0054         0.319               12.43   M\n",
       "  50 │               3142         0.00132        0.258               14.12   M ⋯\n",
       "  51 │               3496         0.00125        0.336               14.94   M\n",
       "  52 │               3324         0.0065         0.471               12.78   M\n",
       "\u001b[36m                                                    1 column and 37 rows omitted\u001b[0m"
      ]
     },
     "metadata": {},
     "output_type": "display_data"
    }
   ],
   "source": [
    "# select rows where temperature <= 5772, and radius is bigger than 0.11 and smaller than 0.67,\n",
    "# and exclude the `star_colour` column\n",
    "df[df.temperature_kelvin .<= 5772 .&& (0.11 .< df.radius_Rsun .< 0.67), Not(:star_colour)]"
   ]
  },
  {
   "cell_type": "markdown",
   "metadata": {},
   "source": [
    "## Querying and manipulating a `DataFrame`\n",
    "\n",
    "General querying and data manipulation can be done on `DataFrame`s using standard library functions from DataFrames.jl. However, it is [recommended](https://dataframes.juliadata.org/stable/man/querying_frameworks/#Data-manipulation-frameworks) to use a package dedicated to querying and data manupulation that provides simpler/easier syntax for it. Several options exist, each providing a slightly different variant on the syntax, so you can pick whatever you feel most comfortable in. Here we will use a LINQ-like [Query.jl](https://www.queryverse.org/Query.jl/stable/) syntax, which can be used with any tabular Julia data."
   ]
  },
  {
   "cell_type": "code",
   "execution_count": 21,
   "metadata": {},
   "outputs": [
    {
     "data": {
      "text/html": [
       "<div><div style = \"float: left;\"><span>240×6 DataFrame</span></div><div style = \"float: right;\"><span style = \"font-style: italic;\">215 rows omitted</span></div><div style = \"clear: both;\"></div></div><div class = \"data-frame\" style = \"overflow-x: scroll;\"><table class = \"data-frame\" style = \"margin-bottom: 6px;\"><thead><tr class = \"header\"><th class = \"rowNumber\" style = \"font-weight: bold; text-align: right;\">Row</th><th style = \"text-align: left;\">temperature_kelvin</th><th style = \"text-align: left;\">luminosity_Lsun</th><th style = \"text-align: left;\">radius_Rsun</th><th style = \"text-align: left;\">absolute_magnitude</th><th style = \"text-align: left;\">star_colour</th><th style = \"text-align: left;\">spectral_class</th></tr><tr class = \"subheader headerLastRow\"><th class = \"rowNumber\" style = \"font-weight: bold; text-align: right;\"></th><th title = \"Int64\" style = \"text-align: left;\">Int64</th><th title = \"Float64\" style = \"text-align: left;\">Float64</th><th title = \"Float64\" style = \"text-align: left;\">Float64</th><th title = \"Float64\" style = \"text-align: left;\">Float64</th><th title = \"String31\" style = \"text-align: left;\">String31</th><th title = \"String1\" style = \"text-align: left;\">String1</th></tr></thead><tbody><tr><td class = \"rowNumber\" style = \"font-weight: bold; text-align: right;\">1</td><td style = \"text-align: right;\">3068</td><td style = \"text-align: right;\">0.0024</td><td style = \"text-align: right;\">0.17</td><td style = \"text-align: right;\">16.12</td><td style = \"text-align: left;\">Red</td><td style = \"text-align: left;\">M</td></tr><tr><td class = \"rowNumber\" style = \"font-weight: bold; text-align: right;\">2</td><td style = \"text-align: right;\">3042</td><td style = \"text-align: right;\">0.0005</td><td style = \"text-align: right;\">0.1542</td><td style = \"text-align: right;\">16.6</td><td style = \"text-align: left;\">Red</td><td style = \"text-align: left;\">M</td></tr><tr><td class = \"rowNumber\" style = \"font-weight: bold; text-align: right;\">3</td><td style = \"text-align: right;\">2600</td><td style = \"text-align: right;\">0.0003</td><td style = \"text-align: right;\">0.102</td><td style = \"text-align: right;\">18.7</td><td style = \"text-align: left;\">Red</td><td style = \"text-align: left;\">M</td></tr><tr><td class = \"rowNumber\" style = \"font-weight: bold; text-align: right;\">4</td><td style = \"text-align: right;\">2800</td><td style = \"text-align: right;\">0.0002</td><td style = \"text-align: right;\">0.16</td><td style = \"text-align: right;\">16.65</td><td style = \"text-align: left;\">Red</td><td style = \"text-align: left;\">M</td></tr><tr><td class = \"rowNumber\" style = \"font-weight: bold; text-align: right;\">5</td><td style = \"text-align: right;\">1939</td><td style = \"text-align: right;\">0.000138</td><td style = \"text-align: right;\">0.103</td><td style = \"text-align: right;\">20.06</td><td style = \"text-align: left;\">Red</td><td style = \"text-align: left;\">M</td></tr><tr><td class = \"rowNumber\" style = \"font-weight: bold; text-align: right;\">6</td><td style = \"text-align: right;\">2840</td><td style = \"text-align: right;\">0.00065</td><td style = \"text-align: right;\">0.11</td><td style = \"text-align: right;\">16.98</td><td style = \"text-align: left;\">Red</td><td style = \"text-align: left;\">M</td></tr><tr><td class = \"rowNumber\" style = \"font-weight: bold; text-align: right;\">7</td><td style = \"text-align: right;\">2637</td><td style = \"text-align: right;\">0.00073</td><td style = \"text-align: right;\">0.127</td><td style = \"text-align: right;\">17.22</td><td style = \"text-align: left;\">Red</td><td style = \"text-align: left;\">M</td></tr><tr><td class = \"rowNumber\" style = \"font-weight: bold; text-align: right;\">8</td><td style = \"text-align: right;\">2600</td><td style = \"text-align: right;\">0.0004</td><td style = \"text-align: right;\">0.096</td><td style = \"text-align: right;\">17.4</td><td style = \"text-align: left;\">Red</td><td style = \"text-align: left;\">M</td></tr><tr><td class = \"rowNumber\" style = \"font-weight: bold; text-align: right;\">9</td><td style = \"text-align: right;\">2650</td><td style = \"text-align: right;\">0.00069</td><td style = \"text-align: right;\">0.11</td><td style = \"text-align: right;\">17.45</td><td style = \"text-align: left;\">Red</td><td style = \"text-align: left;\">M</td></tr><tr><td class = \"rowNumber\" style = \"font-weight: bold; text-align: right;\">10</td><td style = \"text-align: right;\">2700</td><td style = \"text-align: right;\">0.00018</td><td style = \"text-align: right;\">0.13</td><td style = \"text-align: right;\">16.05</td><td style = \"text-align: left;\">Red</td><td style = \"text-align: left;\">M</td></tr><tr><td class = \"rowNumber\" style = \"font-weight: bold; text-align: right;\">11</td><td style = \"text-align: right;\">3600</td><td style = \"text-align: right;\">0.0029</td><td style = \"text-align: right;\">0.51</td><td style = \"text-align: right;\">10.69</td><td style = \"text-align: left;\">Red</td><td style = \"text-align: left;\">M</td></tr><tr><td class = \"rowNumber\" style = \"font-weight: bold; text-align: right;\">12</td><td style = \"text-align: right;\">3129</td><td style = \"text-align: right;\">0.0122</td><td style = \"text-align: right;\">0.3761</td><td style = \"text-align: right;\">11.79</td><td style = \"text-align: left;\">Red</td><td style = \"text-align: left;\">M</td></tr><tr><td class = \"rowNumber\" style = \"font-weight: bold; text-align: right;\">13</td><td style = \"text-align: right;\">3134</td><td style = \"text-align: right;\">0.0004</td><td style = \"text-align: right;\">0.196</td><td style = \"text-align: right;\">13.21</td><td style = \"text-align: left;\">Red</td><td style = \"text-align: left;\">M</td></tr><tr><td style = \"text-align: right;\">&vellip;</td><td style = \"text-align: right;\">&vellip;</td><td style = \"text-align: right;\">&vellip;</td><td style = \"text-align: right;\">&vellip;</td><td style = \"text-align: right;\">&vellip;</td><td style = \"text-align: right;\">&vellip;</td><td style = \"text-align: right;\">&vellip;</td></tr><tr><td class = \"rowNumber\" style = \"font-weight: bold; text-align: right;\">229</td><td style = \"text-align: right;\">23095</td><td style = \"text-align: right;\">347820.0</td><td style = \"text-align: right;\">86.0</td><td style = \"text-align: right;\">-5.905</td><td style = \"text-align: left;\">Blue</td><td style = \"text-align: left;\">O</td></tr><tr><td class = \"rowNumber\" style = \"font-weight: bold; text-align: right;\">230</td><td style = \"text-align: right;\">21738</td><td style = \"text-align: right;\">748890.0</td><td style = \"text-align: right;\">92.0</td><td style = \"text-align: right;\">-7.346</td><td style = \"text-align: left;\">Blue</td><td style = \"text-align: left;\">O</td></tr><tr><td class = \"rowNumber\" style = \"font-weight: bold; text-align: right;\">231</td><td style = \"text-align: right;\">24145</td><td style = \"text-align: right;\">382993.0</td><td style = \"text-align: right;\">1494.0</td><td style = \"text-align: right;\">-8.84</td><td style = \"text-align: left;\">Blue-white</td><td style = \"text-align: left;\">B</td></tr><tr><td class = \"rowNumber\" style = \"font-weight: bold; text-align: right;\">232</td><td style = \"text-align: right;\">38234</td><td style = \"text-align: right;\">272830.0</td><td style = \"text-align: right;\">1356.0</td><td style = \"text-align: right;\">-9.29</td><td style = \"text-align: left;\">Blue</td><td style = \"text-align: left;\">O</td></tr><tr><td class = \"rowNumber\" style = \"font-weight: bold; text-align: right;\">233</td><td style = \"text-align: right;\">32489</td><td style = \"text-align: right;\">648430.0</td><td style = \"text-align: right;\">1948.5</td><td style = \"text-align: right;\">-10.84</td><td style = \"text-align: left;\">Blue</td><td style = \"text-align: left;\">O</td></tr><tr><td class = \"rowNumber\" style = \"font-weight: bold; text-align: right;\">234</td><td style = \"text-align: right;\">27739</td><td style = \"text-align: right;\">849420.0</td><td style = \"text-align: right;\">1252.0</td><td style = \"text-align: right;\">-7.59</td><td style = \"text-align: left;\">Blue-white</td><td style = \"text-align: left;\">B</td></tr><tr><td class = \"rowNumber\" style = \"font-weight: bold; text-align: right;\">235</td><td style = \"text-align: right;\">21904</td><td style = \"text-align: right;\">748490.0</td><td style = \"text-align: right;\">1130.0</td><td style = \"text-align: right;\">-7.67</td><td style = \"text-align: left;\">Blue-white</td><td style = \"text-align: left;\">B</td></tr><tr><td class = \"rowNumber\" style = \"font-weight: bold; text-align: right;\">236</td><td style = \"text-align: right;\">38940</td><td style = \"text-align: right;\">374830.0</td><td style = \"text-align: right;\">1356.0</td><td style = \"text-align: right;\">-9.93</td><td style = \"text-align: left;\">Blue</td><td style = \"text-align: left;\">O</td></tr><tr><td class = \"rowNumber\" style = \"font-weight: bold; text-align: right;\">237</td><td style = \"text-align: right;\">30839</td><td style = \"text-align: right;\">834042.0</td><td style = \"text-align: right;\">1194.0</td><td style = \"text-align: right;\">-10.63</td><td style = \"text-align: left;\">Blue</td><td style = \"text-align: left;\">O</td></tr><tr><td class = \"rowNumber\" style = \"font-weight: bold; text-align: right;\">238</td><td style = \"text-align: right;\">8829</td><td style = \"text-align: right;\">537493.0</td><td style = \"text-align: right;\">1423.0</td><td style = \"text-align: right;\">-10.73</td><td style = \"text-align: left;\">White</td><td style = \"text-align: left;\">A</td></tr><tr><td class = \"rowNumber\" style = \"font-weight: bold; text-align: right;\">239</td><td style = \"text-align: right;\">9235</td><td style = \"text-align: right;\">404940.0</td><td style = \"text-align: right;\">1112.0</td><td style = \"text-align: right;\">-11.23</td><td style = \"text-align: left;\">White</td><td style = \"text-align: left;\">A</td></tr><tr><td class = \"rowNumber\" style = \"font-weight: bold; text-align: right;\">240</td><td style = \"text-align: right;\">37882</td><td style = \"text-align: right;\">294903.0</td><td style = \"text-align: right;\">1783.0</td><td style = \"text-align: right;\">-7.8</td><td style = \"text-align: left;\">Blue</td><td style = \"text-align: left;\">O</td></tr></tbody></table></div>"
      ],
      "text/latex": [
       "\\begin{tabular}{r|cccccc}\n",
       "\t& temperature\\_kelvin & luminosity\\_Lsun & radius\\_Rsun & absolute\\_magnitude & star\\_colour & \\\\\n",
       "\t\\hline\n",
       "\t& Int64 & Float64 & Float64 & Float64 & String31 & \\\\\n",
       "\t\\hline\n",
       "\t1 & 3068 & 0.0024 & 0.17 & 16.12 & Red & $\\dots$ \\\\\n",
       "\t2 & 3042 & 0.0005 & 0.1542 & 16.6 & Red & $\\dots$ \\\\\n",
       "\t3 & 2600 & 0.0003 & 0.102 & 18.7 & Red & $\\dots$ \\\\\n",
       "\t4 & 2800 & 0.0002 & 0.16 & 16.65 & Red & $\\dots$ \\\\\n",
       "\t5 & 1939 & 0.000138 & 0.103 & 20.06 & Red & $\\dots$ \\\\\n",
       "\t6 & 2840 & 0.00065 & 0.11 & 16.98 & Red & $\\dots$ \\\\\n",
       "\t7 & 2637 & 0.00073 & 0.127 & 17.22 & Red & $\\dots$ \\\\\n",
       "\t8 & 2600 & 0.0004 & 0.096 & 17.4 & Red & $\\dots$ \\\\\n",
       "\t9 & 2650 & 0.00069 & 0.11 & 17.45 & Red & $\\dots$ \\\\\n",
       "\t10 & 2700 & 0.00018 & 0.13 & 16.05 & Red & $\\dots$ \\\\\n",
       "\t11 & 3600 & 0.0029 & 0.51 & 10.69 & Red & $\\dots$ \\\\\n",
       "\t12 & 3129 & 0.0122 & 0.3761 & 11.79 & Red & $\\dots$ \\\\\n",
       "\t13 & 3134 & 0.0004 & 0.196 & 13.21 & Red & $\\dots$ \\\\\n",
       "\t14 & 3628 & 0.0055 & 0.393 & 10.48 & Red & $\\dots$ \\\\\n",
       "\t15 & 2650 & 0.0006 & 0.14 & 11.782 & Red & $\\dots$ \\\\\n",
       "\t16 & 3340 & 0.0038 & 0.24 & 13.07 & Red & $\\dots$ \\\\\n",
       "\t17 & 2799 & 0.0018 & 0.16 & 14.79 & Red & $\\dots$ \\\\\n",
       "\t18 & 3692 & 0.00367 & 0.47 & 10.8 & Red & $\\dots$ \\\\\n",
       "\t19 & 3192 & 0.00362 & 0.1967 & 13.53 & Red & $\\dots$ \\\\\n",
       "\t20 & 3441 & 0.039 & 0.351 & 11.18 & Red & $\\dots$ \\\\\n",
       "\t21 & 25000 & 0.056 & 0.0084 & 10.58 & Blue White & $\\dots$ \\\\\n",
       "\t22 & 7740 & 0.00049 & 0.01234 & 14.02 & White & $\\dots$ \\\\\n",
       "\t23 & 7220 & 0.00017 & 0.011 & 14.23 & White & $\\dots$ \\\\\n",
       "\t24 & 8500 & 0.0005 & 0.01 & 14.5 & White & $\\dots$ \\\\\n",
       "\t$\\dots$ & $\\dots$ & $\\dots$ & $\\dots$ & $\\dots$ & $\\dots$ &  \\\\\n",
       "\\end{tabular}\n"
      ],
      "text/plain": [
       "\u001b[1m240×6 DataFrame\u001b[0m\n",
       "\u001b[1m Row \u001b[0m│\u001b[1m temperature_kelvin \u001b[0m\u001b[1m luminosity_Lsun \u001b[0m\u001b[1m radius_Rsun \u001b[0m\u001b[1m absolute_magnitude \u001b[0m\u001b[1m s\u001b[0m ⋯\n",
       "     │\u001b[90m Int64              \u001b[0m\u001b[90m Float64         \u001b[0m\u001b[90m Float64     \u001b[0m\u001b[90m Float64            \u001b[0m\u001b[90m S\u001b[0m ⋯\n",
       "─────┼──────────────────────────────────────────────────────────────────────────\n",
       "   1 │               3068         0.0024         0.17                16.12   R ⋯\n",
       "   2 │               3042         0.0005         0.1542              16.6    R\n",
       "   3 │               2600         0.0003         0.102               18.7    R\n",
       "   4 │               2800         0.0002         0.16                16.65   R\n",
       "   5 │               1939         0.000138       0.103               20.06   R ⋯\n",
       "   6 │               2840         0.00065        0.11                16.98   R\n",
       "   7 │               2637         0.00073        0.127               17.22   R\n",
       "   8 │               2600         0.0004         0.096               17.4    R\n",
       "  ⋮  │         ⋮                  ⋮              ⋮               ⋮             ⋱\n",
       " 234 │              27739    849420.0         1252.0                 -7.59   B ⋯\n",
       " 235 │              21904    748490.0         1130.0                 -7.67   B\n",
       " 236 │              38940    374830.0         1356.0                 -9.93   B\n",
       " 237 │              30839    834042.0         1194.0                -10.63   B\n",
       " 238 │               8829    537493.0         1423.0                -10.73   W ⋯\n",
       " 239 │               9235    404940.0         1112.0                -11.23   W\n",
       " 240 │              37882    294903.0         1783.0                 -7.8    B\n",
       "\u001b[36m                                                  2 columns and 225 rows omitted\u001b[0m"
      ]
     },
     "metadata": {},
     "output_type": "display_data"
    }
   ],
   "source": [
    "using Query\n",
    "df"
   ]
  },
  {
   "cell_type": "markdown",
   "metadata": {},
   "source": [
    "Let's perform a basic query that we explain step-by-step:"
   ]
  },
  {
   "cell_type": "code",
   "execution_count": 23,
   "metadata": {},
   "outputs": [
    {
     "data": {
      "text/html": [
       "<div><div style = \"float: left;\"><span>40×3 DataFrame</span></div><div style = \"float: right;\"><span style = \"font-style: italic;\">15 rows omitted</span></div><div style = \"clear: both;\"></div></div><div class = \"data-frame\" style = \"overflow-x: scroll;\"><table class = \"data-frame\" style = \"margin-bottom: 6px;\"><thead><tr class = \"header\"><th class = \"rowNumber\" style = \"font-weight: bold; text-align: right;\">Row</th><th style = \"text-align: left;\">radius_Rsun</th><th style = \"text-align: left;\">absolute_magnitude</th><th style = \"text-align: left;\">Lsquared</th></tr><tr class = \"subheader headerLastRow\"><th class = \"rowNumber\" style = \"font-weight: bold; text-align: right;\"></th><th title = \"Float64\" style = \"text-align: left;\">Float64</th><th title = \"Float64\" style = \"text-align: left;\">Float64</th><th title = \"Float64\" style = \"text-align: left;\">Float64</th></tr></thead><tbody><tr><td class = \"rowNumber\" style = \"font-weight: bold; text-align: right;\">1</td><td style = \"text-align: right;\">10.6</td><td style = \"text-align: right;\">-4.7</td><td style = \"text-align: right;\">4.1616e10</td></tr><tr><td class = \"rowNumber\" style = \"font-weight: bold; text-align: right;\">2</td><td style = \"text-align: right;\">10.2</td><td style = \"text-align: right;\">-4.4</td><td style = \"text-align: right;\">3.9204e10</td></tr><tr><td class = \"rowNumber\" style = \"font-weight: bold; text-align: right;\">3</td><td style = \"text-align: right;\">14.0</td><td style = \"text-align: right;\">-6.23</td><td style = \"text-align: right;\">6.60969e11</td></tr><tr><td class = \"rowNumber\" style = \"font-weight: bold; text-align: right;\">4</td><td style = \"text-align: right;\">36.0</td><td style = \"text-align: right;\">-5.76</td><td style = \"text-align: right;\">1.6129e10</td></tr><tr><td class = \"rowNumber\" style = \"font-weight: bold; text-align: right;\">5</td><td style = \"text-align: right;\">83.0</td><td style = \"text-align: right;\">-6.89</td><td style = \"text-align: right;\">5.5225e10</td></tr><tr><td class = \"rowNumber\" style = \"font-weight: bold; text-align: right;\">6</td><td style = \"text-align: right;\">12.0</td><td style = \"text-align: right;\">-5.91</td><td style = \"text-align: right;\">1.2544e10</td></tr><tr><td class = \"rowNumber\" style = \"font-weight: bold; text-align: right;\">7</td><td style = \"text-align: right;\">42.0</td><td style = \"text-align: right;\">-6.12</td><td style = \"text-align: right;\">5.3361e10</td></tr><tr><td class = \"rowNumber\" style = \"font-weight: bold; text-align: right;\">8</td><td style = \"text-align: right;\">63.0</td><td style = \"text-align: right;\">-5.83</td><td style = \"text-align: right;\">1.31769e11</td></tr><tr><td class = \"rowNumber\" style = \"font-weight: bold; text-align: right;\">9</td><td style = \"text-align: right;\">36.0</td><td style = \"text-align: right;\">-6.34</td><td style = \"text-align: right;\">3.3856e10</td></tr><tr><td class = \"rowNumber\" style = \"font-weight: bold; text-align: right;\">10</td><td style = \"text-align: right;\">57.0</td><td style = \"text-align: right;\">-6.24</td><td style = \"text-align: right;\">2.0164e10</td></tr><tr><td class = \"rowNumber\" style = \"font-weight: bold; text-align: right;\">11</td><td style = \"text-align: right;\">67.0</td><td style = \"text-align: right;\">-5.79</td><td style = \"text-align: right;\">1.23904e11</td></tr><tr><td class = \"rowNumber\" style = \"font-weight: bold; text-align: right;\">12</td><td style = \"text-align: right;\">6.86</td><td style = \"text-align: right;\">-4.56</td><td style = \"text-align: right;\">4.11684e10</td></tr><tr><td class = \"rowNumber\" style = \"font-weight: bold; text-align: right;\">13</td><td style = \"text-align: right;\">57.0</td><td style = \"text-align: right;\">-5.92</td><td style = \"text-align: right;\">4.9729e10</td></tr><tr><td style = \"text-align: right;\">&vellip;</td><td style = \"text-align: right;\">&vellip;</td><td style = \"text-align: right;\">&vellip;</td><td style = \"text-align: right;\">&vellip;</td></tr><tr><td class = \"rowNumber\" style = \"font-weight: bold; text-align: right;\">29</td><td style = \"text-align: right;\">81.0</td><td style = \"text-align: right;\">-5.975</td><td style = \"text-align: right;\">2.88831e11</td></tr><tr><td class = \"rowNumber\" style = \"font-weight: bold; text-align: right;\">30</td><td style = \"text-align: right;\">62.0</td><td style = \"text-align: right;\">-6.35</td><td style = \"text-align: right;\">6.08757e10</td></tr><tr><td class = \"rowNumber\" style = \"font-weight: bold; text-align: right;\">31</td><td style = \"text-align: right;\">46.0</td><td style = \"text-align: right;\">-7.45</td><td style = \"text-align: right;\">5.0526e10</td></tr><tr><td class = \"rowNumber\" style = \"font-weight: bold; text-align: right;\">32</td><td style = \"text-align: right;\">80.0</td><td style = \"text-align: right;\">-7.262</td><td style = \"text-align: right;\">3.52717e11</td></tr><tr><td class = \"rowNumber\" style = \"font-weight: bold; text-align: right;\">33</td><td style = \"text-align: right;\">25.0</td><td style = \"text-align: right;\">-6.224</td><td style = \"text-align: right;\">6.14546e11</td></tr><tr><td class = \"rowNumber\" style = \"font-weight: bold; text-align: right;\">34</td><td style = \"text-align: right;\">86.0</td><td style = \"text-align: right;\">-5.905</td><td style = \"text-align: right;\">1.20979e11</td></tr><tr><td class = \"rowNumber\" style = \"font-weight: bold; text-align: right;\">35</td><td style = \"text-align: right;\">92.0</td><td style = \"text-align: right;\">-7.346</td><td style = \"text-align: right;\">5.60836e11</td></tr><tr><td class = \"rowNumber\" style = \"font-weight: bold; text-align: right;\">36</td><td style = \"text-align: right;\">1356.0</td><td style = \"text-align: right;\">-9.29</td><td style = \"text-align: right;\">7.44362e10</td></tr><tr><td class = \"rowNumber\" style = \"font-weight: bold; text-align: right;\">37</td><td style = \"text-align: right;\">1948.5</td><td style = \"text-align: right;\">-10.84</td><td style = \"text-align: right;\">4.20461e11</td></tr><tr><td class = \"rowNumber\" style = \"font-weight: bold; text-align: right;\">38</td><td style = \"text-align: right;\">1356.0</td><td style = \"text-align: right;\">-9.93</td><td style = \"text-align: right;\">1.40498e11</td></tr><tr><td class = \"rowNumber\" style = \"font-weight: bold; text-align: right;\">39</td><td style = \"text-align: right;\">1194.0</td><td style = \"text-align: right;\">-10.63</td><td style = \"text-align: right;\">6.95626e11</td></tr><tr><td class = \"rowNumber\" style = \"font-weight: bold; text-align: right;\">40</td><td style = \"text-align: right;\">1783.0</td><td style = \"text-align: right;\">-7.8</td><td style = \"text-align: right;\">8.69678e10</td></tr></tbody></table></div>"
      ],
      "text/latex": [
       "\\begin{tabular}{r|ccc}\n",
       "\t& radius\\_Rsun & absolute\\_magnitude & Lsquared\\\\\n",
       "\t\\hline\n",
       "\t& Float64 & Float64 & Float64\\\\\n",
       "\t\\hline\n",
       "\t1 & 10.6 & -4.7 & 4.1616e10 \\\\\n",
       "\t2 & 10.2 & -4.4 & 3.9204e10 \\\\\n",
       "\t3 & 14.0 & -6.23 & 6.60969e11 \\\\\n",
       "\t4 & 36.0 & -5.76 & 1.6129e10 \\\\\n",
       "\t5 & 83.0 & -6.89 & 5.5225e10 \\\\\n",
       "\t6 & 12.0 & -5.91 & 1.2544e10 \\\\\n",
       "\t7 & 42.0 & -6.12 & 5.3361e10 \\\\\n",
       "\t8 & 63.0 & -5.83 & 1.31769e11 \\\\\n",
       "\t9 & 36.0 & -6.34 & 3.3856e10 \\\\\n",
       "\t10 & 57.0 & -6.24 & 2.0164e10 \\\\\n",
       "\t11 & 67.0 & -5.79 & 1.23904e11 \\\\\n",
       "\t12 & 6.86 & -4.56 & 4.11684e10 \\\\\n",
       "\t13 & 57.0 & -5.92 & 4.9729e10 \\\\\n",
       "\t14 & 36.0 & -6.245 & 6.3001e10 \\\\\n",
       "\t15 & 83.0 & -5.62 & 2.04304e11 \\\\\n",
       "\t16 & 97.0 & -6.63 & 6.0025e10 \\\\\n",
       "\t17 & 35.0 & -7.34 & 5.7121e10 \\\\\n",
       "\t18 & 24.0 & -7.22 & 1.7161e10 \\\\\n",
       "\t19 & 73.0 & -5.69 & 2.3104e10 \\\\\n",
       "\t20 & 39.0 & -5.83 & 3.9204e10 \\\\\n",
       "\t21 & 30.0 & -6.09 & 1.1758e11 \\\\\n",
       "\t22 & 24.0 & -5.99 & 1.80217e11 \\\\\n",
       "\t23 & 1045.0 & -8.3 & 4.0e10 \\\\\n",
       "\t24 & 6.39 & -4.57 & 3.92832e10 \\\\\n",
       "\t$\\dots$ & $\\dots$ & $\\dots$ & $\\dots$ \\\\\n",
       "\\end{tabular}\n"
      ],
      "text/plain": [
       "\u001b[1m40×3 DataFrame\u001b[0m\n",
       "\u001b[1m Row \u001b[0m│\u001b[1m radius_Rsun \u001b[0m\u001b[1m absolute_magnitude \u001b[0m\u001b[1m Lsquared   \u001b[0m\n",
       "     │\u001b[90m Float64     \u001b[0m\u001b[90m Float64            \u001b[0m\u001b[90m Float64    \u001b[0m\n",
       "─────┼─────────────────────────────────────────────\n",
       "   1 │        10.6              -4.7    4.1616e10\n",
       "   2 │        10.2              -4.4    3.9204e10\n",
       "   3 │        14.0              -6.23   6.60969e11\n",
       "   4 │        36.0              -5.76   1.6129e10\n",
       "   5 │        83.0              -6.89   5.5225e10\n",
       "   6 │        12.0              -5.91   1.2544e10\n",
       "   7 │        42.0              -6.12   5.3361e10\n",
       "   8 │        63.0              -5.83   1.31769e11\n",
       "  ⋮  │      ⋮               ⋮               ⋮\n",
       "  34 │        86.0              -5.905  1.20979e11\n",
       "  35 │        92.0              -7.346  5.60836e11\n",
       "  36 │      1356.0              -9.29   7.44362e10\n",
       "  37 │      1948.5             -10.84   4.20461e11\n",
       "  38 │      1356.0              -9.93   1.40498e11\n",
       "  39 │      1194.0             -10.63   6.95626e11\n",
       "  40 │      1783.0              -7.8    8.69678e10\n",
       "\u001b[36m                                    25 rows omitted\u001b[0m"
      ]
     },
     "metadata": {},
     "output_type": "display_data"
    }
   ],
   "source": [
    "# `@from ... begin` initializes a query\n",
    "# here `row` (any name would be fine) is the\n",
    "# iterable of the tabular data. Think of it as a\n",
    "# NamedTuple. You can access its values by name with the . syntax\n",
    "q = @from row in df begin\n",
    "    # `@where` filters elements where the following\n",
    "    # expression is true.\n",
    "    @where row.spectral_class == \"O\"\n",
    "    # `@select {stuff... } creates a new named tuple\n",
    "    @select {row.radius_Rsun, row.absolute_magnitude, Lsquared = row.luminosity_Lsun^2}\n",
    "    # `@collect` collects the selected results into\n",
    "    # the specified data structure\n",
    "    @collect DataFrame\n",
    "end"
   ]
  },
  {
   "cell_type": "markdown",
   "metadata": {},
   "source": [
    "As you can see, you don't have to necessarily collect only existing columns, you can even create new ones (specified by name).\n",
    "\n",
    "Of course, much, much more things are possible to do in such a query. For more, see the documentation of Query.jl."
   ]
  },
  {
   "cell_type": "markdown",
   "metadata": {},
   "source": [
    "# Exercises"
   ]
  },
  {
   "cell_type": "markdown",
   "metadata": {},
   "source": [
    "\n",
    "## Plotting subsets of a dataframe\n",
    "\n",
    "`DataFrames` has a default dataset that is used in its test suite. Install the `CSV` package, and load this dataset with the command:\n",
    "```julia\n",
    "using DataFrames, CSV\n",
    "iris = DataFrame(CSV.File(\n",
    "    joinpath(dirname(pathof(DataFrames)), \n",
    "    \"../docs/src/assets/iris.csv\")\n",
    "))\n",
    "```\n",
    "\n",
    "This dataset has various flower species (column `:Species`). For every species create a 1x2 figure with the following plots:\n",
    "\n",
    "* [1,1] = scatter plot of `SepalLength` vs `SepalWidth`. \n",
    "* [1,2] = scatter plot of `PetalLength` vs `PetalWidth`.\n",
    "\n",
    "for each of these sub-scatter plots, calculate and print the Pearson correlaton coefficient.\n"
   ]
  }
 ],
 "metadata": {
  "kernelspec": {
   "display_name": "Julia 1.11.2",
   "language": "julia",
   "name": "julia-1.11"
  },
  "language_info": {
   "file_extension": ".jl",
   "mimetype": "application/julia",
   "name": "julia",
   "version": "1.11.2"
  }
 },
 "nbformat": 4,
 "nbformat_minor": 2
}
